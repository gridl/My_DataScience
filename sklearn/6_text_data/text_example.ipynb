{
 "cells": [
  {
   "cell_type": "markdown",
   "metadata": {},
   "source": [
    "# Work with text-data and sklearn\n",
    "\n",
    "## About DataSet\n",
    "\n",
    "LINK to UCI — [LINK](https://archive.ics.uci.edu/ml/datasets/SMS+Spam+Collection#)"
   ]
  },
  {
   "cell_type": "markdown",
   "metadata": {},
   "source": [
    "## Imports"
   ]
  },
  {
   "cell_type": "code",
   "execution_count": 1,
   "metadata": {
    "scrolled": true
   },
   "outputs": [],
   "source": [
    "import pandas as pd\n",
    "import numpy as np\n",
    "import mglearn\n",
    "\n",
    "import matplotlib.pyplot as plt\n",
    "%matplotlib inline\n",
    "\n",
    "from sklearn.model_selection import train_test_split, cross_val_score, GridSearchCV\n",
    "from sklearn.feature_extraction.text import CountVectorizer, TfidfVectorizer, TfidfTransformer\n",
    "from sklearn.linear_model import LogisticRegression\n",
    "from sklearn.metrics import f1_score\n",
    "from sklearn.pipeline import make_pipeline\n",
    "from sklearn.decomposition import LatentDirichletAllocation"
   ]
  },
  {
   "cell_type": "markdown",
   "metadata": {},
   "source": [
    "## Warnings"
   ]
  },
  {
   "cell_type": "code",
   "execution_count": 2,
   "metadata": {},
   "outputs": [],
   "source": [
    "import warnings\n",
    "warnings.simplefilter(action='ignore', category=FutureWarning)"
   ]
  },
  {
   "cell_type": "markdown",
   "metadata": {},
   "source": [
    "## Data splittings"
   ]
  },
  {
   "cell_type": "code",
   "execution_count": 3,
   "metadata": {},
   "outputs": [],
   "source": [
    "sms = pd.read_csv('SMSSpamCollection.csv', sep='\\t', header=None, names=['target', 'text'])\n",
    "X = sms.text\n",
    "Y = sms.target\n",
    "\n",
    "Y[Y == 'spam'] = 1\n",
    "Y[Y == 'ham'] = 0\n",
    "Y = Y.astype('int')"
   ]
  },
  {
   "cell_type": "markdown",
   "metadata": {},
   "source": [
    "## Unique counts of classes: spam & non-spam"
   ]
  },
  {
   "cell_type": "code",
   "execution_count": 4,
   "metadata": {},
   "outputs": [
    {
     "name": "stdout",
     "output_type": "stream",
     "text": [
      "Unique values:\t\t0 and 1\n",
      "\n",
      "Counts:\n",
      "SPAM:\t\t\t4825\n",
      "non_SPAM:\t\t747\n",
      "\n",
      "Dummy predict is\t86.59%\n"
     ]
    }
   ],
   "source": [
    "Y_np = np.array(Y.values)\n",
    "uni, cou = np.unique(Y_np, return_counts=True)\n",
    "\n",
    "print('Unique values:\\t\\t{} and {}\\n'.format(uni[0], uni[1]))\n",
    "print('Counts:\\nSPAM:\\t\\t\\t{}\\nnon_SPAM:\\t\\t{}\\n'.format(cou[0], cou[1]))\n",
    "print('Dummy predict is\\t{:.2f}%'.format(100*cou[0]/(cou[0]+cou[1])))"
   ]
  },
  {
   "cell_type": "markdown",
   "metadata": {},
   "source": [
    "## Separating"
   ]
  },
  {
   "cell_type": "code",
   "execution_count": 5,
   "metadata": {},
   "outputs": [],
   "source": [
    "X_train, X_test, y_train, y_test = train_test_split(X, Y, random_state=42)"
   ]
  },
  {
   "cell_type": "markdown",
   "metadata": {},
   "source": [
    "## Clean CountVectorizer"
   ]
  },
  {
   "cell_type": "code",
   "execution_count": 6,
   "metadata": {},
   "outputs": [
    {
     "name": "stdout",
     "output_type": "stream",
     "text": [
      "Count of values:\n",
      "7490\n",
      "\n",
      "First ten values of fnames:\n",
      "['00', '000', '000pes', '008704050406', '0089', '0121', '01223585236', '01223585334', '02', '0207']\n",
      "\n",
      "Values between 2000 and 2010:\n",
      "['credits', 'creep', 'creepy', 'cres', 'cricket', 'cricketer', 'cried', 'cro1327', 'crore', 'cross']\n",
      "\n",
      "Every 10th values:\n",
      "['00', '08712317606', '09061790125', '15541', '2rcv', '4give', '78', '910', 'adore', 'alwys', 'approx', 'aunts', 'batsman', 'biggest', 'bowls', 'bunkers', 'careful', 'cheery', 'cmon', 'cons', 'credits', 'days', 'develop', 'dog', 'durban', 'england', 'excused', 'feeling', 'fm', 'frndz', 'get4an18th', 'grahmbell', 'hanging', 'him', 'hugh', 'includes', 'is', 'jolly', 'kisses', 'ld', 'little', 'lubly', 'marrge', 'messenger', 'moji', 'mutai', 'nhs', 'o2fwd', 'option', 'paranoid', 'phasing', 'pocay', 'prem', 'psychiatrist', 'rayman', 'reltnship', 'ring', 'same', 'sehwag', 'shirt', 'sk3', 'somethin', 'sporadically', 'stressed', 'surf', 'teacher', 'thet', 'together', 'trishul', 'understanding', 'valid12hrs', 'wadebridge', 'weirdo', 'witin', 'xt']\n",
      "\n"
     ]
    }
   ],
   "source": [
    "vect = CountVectorizer()\n",
    "vect.fit(X_train)\n",
    "fnames = vect.get_feature_names()\n",
    "\n",
    "print('Count of values:\\n{}'.format(len(fnames)), end='\\n\\n')\n",
    "print('First ten values of fnames:\\n{}'.format(fnames[:10]), end='\\n\\n')\n",
    "print('Values between 2000 and 2010:\\n{}'.format(fnames[2000:2010]), end='\\n\\n')\n",
    "print('Every 10th values:\\n{}'.format(fnames[::100]), end='\\n\\n')"
   ]
  },
  {
   "cell_type": "markdown",
   "metadata": {},
   "source": [
    "## Transforming Data"
   ]
  },
  {
   "cell_type": "code",
   "execution_count": 7,
   "metadata": {},
   "outputs": [],
   "source": [
    "Xv_train = vect.transform(X_train)\n",
    "Xv_test = vect.transform(X_test)"
   ]
  },
  {
   "cell_type": "markdown",
   "metadata": {},
   "source": [
    "## LogReg & cross_val_score"
   ]
  },
  {
   "cell_type": "code",
   "execution_count": 8,
   "metadata": {
    "scrolled": true
   },
   "outputs": [
    {
     "name": "stdout",
     "output_type": "stream",
     "text": [
      "Scores:\n",
      "[0.9916368  0.98086124 0.965311   0.98802395 0.97365269]\n",
      "\n",
      "\n",
      "Mean score:\t0.9799\n"
     ]
    }
   ],
   "source": [
    "logreg = LogisticRegression()\n",
    "scores = cross_val_score(logreg, Xv_train, y_train, cv=5)\n",
    "\n",
    "print('Scores:\\n{}\\n\\n'.format(scores))\n",
    "print('Mean score:\\t{:.4f}'.format(scores.mean()))"
   ]
  },
  {
   "cell_type": "markdown",
   "metadata": {},
   "source": [
    "## LogReg & GridSearchCV"
   ]
  },
  {
   "cell_type": "code",
   "execution_count": 9,
   "metadata": {
    "scrolled": false
   },
   "outputs": [
    {
     "data": {
      "text/plain": [
       "GridSearchCV(cv=5, error_score='raise-deprecating',\n",
       "       estimator=LogisticRegression(C=1.0, class_weight=None, dual=False, fit_intercept=True,\n",
       "          intercept_scaling=1, max_iter=100, multi_class='warn',\n",
       "          n_jobs=None, penalty='l2', random_state=None, solver='warn',\n",
       "          tol=0.0001, verbose=0, warm_start=False),\n",
       "       fit_params=None, iid='warn', n_jobs=None,\n",
       "       param_grid={'C': [0.0001, 0.001, 0.01, 0.1, 1, 10, 100, 1000]},\n",
       "       pre_dispatch='2*n_jobs', refit=True, return_train_score='warn',\n",
       "       scoring=None, verbose=0)"
      ]
     },
     "execution_count": 9,
     "metadata": {},
     "output_type": "execute_result"
    }
   ],
   "source": [
    "logreg = LogisticRegression()\n",
    "params = {'C': [0.0001, 0.001, 0.01, 0.1, 1, 10, 100, 1000]}\n",
    "\n",
    "grid = GridSearchCV(logreg, param_grid=params, cv=5)\n",
    "grid.fit(Xv_train, y_train)"
   ]
  },
  {
   "cell_type": "markdown",
   "metadata": {},
   "source": [
    "### = results"
   ]
  },
  {
   "cell_type": "code",
   "execution_count": 10,
   "metadata": {},
   "outputs": [
    {
     "name": "stdout",
     "output_type": "stream",
     "text": [
      "Grid best score:\t0.98\n",
      "\n",
      "Grig best params:\t{'C': 1000}\n",
      "\n",
      "Grig train score:\t1.00\n",
      "\n",
      "Grig test score:\t0.99\n",
      "\n",
      "F1 test score:\t\t0.95\n",
      "\n"
     ]
    }
   ],
   "source": [
    "print('Grid best score:\\t{:.2f}\\n'.format(grid.best_score_))\n",
    "print('Grig best params:\\t{}\\n'.format(grid.best_params_))\n",
    "print('Grig train score:\\t{:.2f}\\n'.format(grid.score(Xv_train, y_train)))\n",
    "print('Grig test score:\\t{:.2f}\\n'.format(grid.score(Xv_test, y_test)))\n",
    "print('F1 test score:\\t\\t{:.2f}\\n'.format(f1_score(grid.predict(Xv_test), y_test)))"
   ]
  },
  {
   "cell_type": "markdown",
   "metadata": {},
   "source": [
    "## min_df = 11"
   ]
  },
  {
   "cell_type": "code",
   "execution_count": 11,
   "metadata": {
    "scrolled": true
   },
   "outputs": [
    {
     "name": "stdout",
     "output_type": "stream",
     "text": [
      "Count of values:\n",
      "754\n",
      "\n",
      "First ten values of fnames:\n",
      "['000', '08000839402', '08000930705', '10', '100', '1000', '10p', '11', '12hrs', '150']\n",
      "\n",
      "Values between 2000 and 2010:\n",
      "[]\n",
      "\n",
      "Every 10th values:\n",
      "['000', 'boy', 'easy', 'here', 'mind', 'pounds', 'tell', 'were']\n",
      "\n"
     ]
    }
   ],
   "source": [
    "vect = CountVectorizer(min_df=11)\n",
    "vect.fit(X_train)\n",
    "fnames = vect.get_feature_names()\n",
    "\n",
    "print('Count of values:\\n{}'.format(len(fnames)), end='\\n\\n')\n",
    "print('First ten values of fnames:\\n{}'.format(fnames[:10]), end='\\n\\n')\n",
    "print('Values between 2000 and 2010:\\n{}'.format(fnames[2000:2010]), end='\\n\\n')\n",
    "print('Every 10th values:\\n{}'.format(fnames[::100]), end='\\n\\n')"
   ]
  },
  {
   "cell_type": "markdown",
   "metadata": {},
   "source": [
    "## Transforming Data"
   ]
  },
  {
   "cell_type": "code",
   "execution_count": 12,
   "metadata": {},
   "outputs": [],
   "source": [
    "Xv_train = vect.transform(X_train)\n",
    "Xv_test = vect.transform(X_test)"
   ]
  },
  {
   "cell_type": "markdown",
   "metadata": {},
   "source": [
    "## LogReg & GridSearchCV"
   ]
  },
  {
   "cell_type": "code",
   "execution_count": 13,
   "metadata": {},
   "outputs": [
    {
     "data": {
      "text/plain": [
       "GridSearchCV(cv=5, error_score='raise-deprecating',\n",
       "       estimator=LogisticRegression(C=1.0, class_weight=None, dual=False, fit_intercept=True,\n",
       "          intercept_scaling=1, max_iter=100, multi_class='warn',\n",
       "          n_jobs=None, penalty='l2', random_state=None, solver='warn',\n",
       "          tol=0.0001, verbose=0, warm_start=False),\n",
       "       fit_params=None, iid='warn', n_jobs=None,\n",
       "       param_grid={'C': [0.0001, 0.001, 0.01, 0.1, 1, 10, 100, 1000]},\n",
       "       pre_dispatch='2*n_jobs', refit=True, return_train_score='warn',\n",
       "       scoring=None, verbose=0)"
      ]
     },
     "execution_count": 13,
     "metadata": {},
     "output_type": "execute_result"
    }
   ],
   "source": [
    "logreg = LogisticRegression()### = results\n",
    "params = {'C': [0.0001, 0.001, 0.01, 0.1, 1, 10, 100, 1000]}\n",
    "\n",
    "grid = GridSearchCV(logreg, param_grid=params, cv=5)\n",
    "grid.fit(Xv_train, y_train)"
   ]
  },
  {
   "cell_type": "markdown",
   "metadata": {},
   "source": [
    "### = results"
   ]
  },
  {
   "cell_type": "code",
   "execution_count": 14,
   "metadata": {},
   "outputs": [
    {
     "name": "stdout",
     "output_type": "stream",
     "text": [
      "Grid best score:\t0.98\n",
      "\n",
      "Grig best params:\t{'C': 10}\n",
      "\n",
      "Grig train score:\t1.00\n",
      "\n",
      "Grig test score:\t0.99\n",
      "\n",
      "F1 test score:\t\t0.94\n",
      "\n"
     ]
    }
   ],
   "source": [
    "print('Grid best score:\\t{:.2f}\\n'.format(grid.best_score_))\n",
    "print('Grig best params:\\t{}\\n'.format(grid.best_params_))\n",
    "print('Grig train score:\\t{:.2f}\\n'.format(grid.score(Xv_train, y_train)))\n",
    "print('Grig test score:\\t{:.2f}\\n'.format(grid.score(Xv_test, y_test)))\n",
    "print('F1 test score:\\t\\t{:.2f}\\n'.format(f1_score(grid.predict(Xv_test), y_test)))"
   ]
  },
  {
   "cell_type": "markdown",
   "metadata": {},
   "source": [
    "## Add stop_words"
   ]
  },
  {
   "cell_type": "code",
   "execution_count": 15,
   "metadata": {},
   "outputs": [
    {
     "name": "stdout",
     "output_type": "stream",
     "text": [
      "Count of values:\n",
      "587\n",
      "\n",
      "First ten values of fnames:\n",
      "['000', '08000839402', '08000930705', '10', '100', '1000', '10p', '11', '12hrs', '150']\n",
      "\n",
      "Values between 2000 and 2010:\n",
      "[]\n",
      "\n",
      "Every 10th values:\n",
      "['000', 'chikku', 'girl', 'loving', 'problem', 'told']\n",
      "\n"
     ]
    }
   ],
   "source": [
    "vect = CountVectorizer(min_df=11, stop_words='english')\n",
    "vect.fit(X_train)\n",
    "fnames = vect.get_feature_names()\n",
    "\n",
    "print('Count of values:\\n{}'.format(len(fnames)), end='\\n\\n')\n",
    "print('First ten values of fnames:\\n{}'.format(fnames[:10]), end='\\n\\n')\n",
    "print('Values between 2000 and 2010:\\n{}'.format(fnames[2000:2010]), end='\\n\\n')\n",
    "print('Every 10th values:\\n{}'.format(fnames[::100]), end='\\n\\n')"
   ]
  },
  {
   "cell_type": "markdown",
   "metadata": {},
   "source": [
    "## LogReg & GridSearchCV"
   ]
  },
  {
   "cell_type": "code",
   "execution_count": 16,
   "metadata": {},
   "outputs": [
    {
     "data": {
      "text/plain": [
       "GridSearchCV(cv=5, error_score='raise-deprecating',\n",
       "       estimator=LogisticRegression(C=1.0, class_weight=None, dual=False, fit_intercept=True,\n",
       "          intercept_scaling=1, max_iter=100, multi_class='warn',\n",
       "          n_jobs=None, penalty='l2', random_state=None, solver='warn',\n",
       "          tol=0.0001, verbose=0, warm_start=False),\n",
       "       fit_params=None, iid='warn', n_jobs=None,\n",
       "       param_grid={'C': [0.0001, 0.001, 0.01, 0.1, 1, 10, 100, 1000]},\n",
       "       pre_dispatch='2*n_jobs', refit=True, return_train_score='warn',\n",
       "       scoring=None, verbose=0)"
      ]
     },
     "execution_count": 16,
     "metadata": {},
     "output_type": "execute_result"
    }
   ],
   "source": [
    "logreg = LogisticRegression()\n",
    "params = {'C': [0.0001, 0.001, 0.01, 0.1, 1, 10, 100, 1000]}\n",
    "\n",
    "grid = GridSearchCV(logreg, param_grid=params, cv=5)\n",
    "grid.fit(Xv_train, y_train)## LogReg & GridSearchCV"
   ]
  },
  {
   "cell_type": "markdown",
   "metadata": {},
   "source": [
    "### = results"
   ]
  },
  {
   "cell_type": "code",
   "execution_count": 17,
   "metadata": {},
   "outputs": [
    {
     "name": "stdout",
     "output_type": "stream",
     "text": [
      "Grid best score:\t0.98\n",
      "\n",
      "Grig best params:\t{'C': 10}\n",
      "\n",
      "Grig train score:\t1.00\n",
      "\n",
      "Grig test score:\t0.99\n",
      "\n",
      "F1 test sco### = resultsre:\t\t0.94\n",
      "\n"
     ]
    }
   ],
   "source": [
    "print('Grid best score:\\t{:.2f}\\n'.format(grid.best_score_))\n",
    "print('Grig best params:\\t{}\\n'.format(grid.best_params_))\n",
    "print('Grig train score:\\t{:.2f}\\n'.format(grid.score(Xv_train, y_train)))\n",
    "print('Grig test score:\\t{:.2f}\\n'.format(grid.score(Xv_test, y_test)))\n",
    "print('F1 test sco### = resultsre:\\t\\t{:.2f}\\n'.format(f1_score(grid.predict(Xv_test), y_test)))"
   ]
  },
  {
   "cell_type": "markdown",
   "metadata": {},
   "source": [
    "## Pipe"
   ]
  },
  {
   "cell_type": "code",
   "execution_count": 18,
   "metadata": {},
   "outputs": [
    {
     "data": {
      "text/plain": [
       "GridSearchCV(cv=5, error_score='raise-deprecating',\n",
       "       estimator=Pipeline(memory=None,\n",
       "     steps=[('tfidfvectorizer', TfidfVectorizer(analyzer='word', binary=False, decode_error='strict',\n",
       "        dtype=<class 'numpy.float64'>, encoding='utf-8', input='content',\n",
       "        lowercase=True, max_df=1.0, max_features=None, min_df=5,\n",
       "        ngram_range=(1, 1), norm=None, preprocessor=None, smooth...penalty='l2', random_state=None, solver='warn',\n",
       "          tol=0.0001, verbose=0, warm_start=False))]),\n",
       "       fit_params=None, iid='warn', n_jobs=None,\n",
       "       param_grid={'logisticregression__C': [0.0001, 0.001, 0.01, 0.1, 1, 10, 100, 1000]},\n",
       "       pre_dispatch='2*n_jobs', refit=True, return_train_score='warn',\n",
       "       scoring=None, verbose=0)"
      ]
     },
     "execution_count": 18,
     "metadata": {},
     "output_type": "execute_result"
    }
   ],
   "source": [
    "pipe = make_pipeline(TfidfVectorizer(min_df=5, norm=None), \n",
    "                     LogisticRegression())\n",
    "\n",
    "params = {'logisticregression__C': [0.0001, 0.001, 0.01, 0.1, 1, 10, 100, 1000]}\n",
    "\n",
    "grid = GridSearchCV(pipe, params, cv=5)\n",
    "grid.fit(X_train, y_train)"
   ]
  },
  {
   "cell_type": "markdown",
   "metadata": {},
   "source": [
    "### = results"
   ]
  },
  {
   "cell_type": "code",
   "execution_count": 19,
   "metadata": {},
   "outputs": [
    {
     "name": "stdout",
     "output_type": "stream",
     "text": [
      "Grid best score:\t0.98\n",
      "\n",
      "Grig best params:\t{'logisticregression__C': 0.1}\n",
      "\n",
      "Grig train score:\t1.00\n",
      "### = results\n",
      "Grig test score:\t0.99\n",
      "\n",
      "F1 test score:\t\t0.96\n",
      "\n"
     ]
    }
   ],
   "source": [
    "print('Grid best score:\\t{:.2f}\\n'.format(grid.best_score_))\n",
    "print('Grig best params:\\t{}\\n'.format(grid.best_params_))\n",
    "print('Grig train score:\\t{:.2f}\\n### = results'.format(grid.score(X_train, y_train)))\n",
    "print('Grig test score:\\t{:.2f}\\n'.format(grid.score(X_test, y_test)))\n",
    "print('F1 test score:\\t\\t{:.2f}\\n'.format(f1_score(grid.predict(X_test), y_test)))"
   ]
  },
  {
   "cell_type": "markdown",
   "metadata": {},
   "source": [
    "### check step"
   ]
  },
  {
   "cell_type": "code",
   "execution_count": 20,
   "metadata": {},
   "outputs": [
    {
     "data": {
      "text/plain": [
       "TfidfVectorizer(analyzer='word', binary=False, decode_error='strict',\n",
       "        dtype=<class 'numpy.float64'>, encoding='utf-8', input='content',\n",
       "        lowercase=True, max_df=1.0, max_features=None, min_df=5,\n",
       "        ngram_range=(1, 1), norm=None, preprocessor=None, smooth_idf=True,\n",
       "        stop_words=None, strip_accents=None, sublinear_tf=False,\n",
       "        token_pattern='(?u)\\\\b\\\\w\\\\w+\\\\b', tokenizer=None, use_idf=True,\n",
       "        vocabulary=None)"
      ]
     },
     "execution_count": 20,
     "metadata": {},
     "output_type": "execute_result"
    }
   ],
   "source": [
    "grid.best_estimator_.named_steps['tfidfvectorizer']"
   ]
  },
  {
   "cell_type": "markdown",
   "metadata": {},
   "source": [
    "## TFIDF & IDF"
   ]
  },
  {
   "cell_type": "code",
   "execution_count": 21,
   "metadata": {},
   "outputs": [],
   "source": [
    "vect = grid.best_estimator_.named_steps['tfidfvectorizer']\n",
    "\n",
    "Xv_train = vect.transform(X_train)\n",
    "max_value = Xv_train.max(axis=0).toarray().ravel()\n",
    "sort_tfidf = max_value.argsort()\n",
    "sort_idf = np.argsort(vect.idf_)\n",
    "\n",
    "fnames = np.array(vect.get_feature_names())"
   ]
  },
  {
   "cell_type": "markdown",
   "metadata": {},
   "source": [
    "### = results"
   ]
  },
  {
   "cell_type": "code",
   "execution_count": 22,
   "metadata": {},
   "outputs": [
    {
     "name": "stdout",
     "output_type": "stream",
     "text": [
      "Low-value tfidf features:\n",
      "['see' 'today' 'take' 'www' 'well' 'yes' 'after' 'tomorrow' 'doing' 'last'\n",
      " 'won' 'pick' 'why' '150p' 'cant' 'find' 'care' 'lol' 'his' 'down']\n",
      "\n",
      "\n",
      "High-value tfidf features:\n",
      "['can' 'should' 'without' 'boy' 'xmas' 'the' 'lose' 'smile' 'you' 'do'\n",
      " 'simple' 'it' 'my' 'be' 'missing' 'will' 'her' 'face' 'lt' 'gt']\n",
      "\n",
      "\n",
      "Low-value idf features:\n",
      "['to' 'you' 'the' 'and' 'in' 'is' 'me' 'for' 'it' 'my' 'your' 'call' 'of'\n",
      " 'have' 'that' 'on' 'now' 'are' 'not' 'can']\n",
      "\n",
      "\n",
      "High-value idf features:\n",
      "['jst' 'married' 'sim' 'directly' 'marry' 'under' 'hl' 'died' 'unsub'\n",
      " 'hell' 'high' 'medical' 'decide' 'joy' 'meds' 'daily' 'meh' 'shouldn'\n",
      " 'maximize' 'intro']\n",
      "\n",
      "\n"
     ]
    }
   ],
   "source": [
    "print('Low-value tfidf features:\\n{}\\n\\n'.format(fnames[sort_tfidf[:20]]))\n",
    "print('High-value tfidf features:\\n{}\\n\\n'.format(fnames[sort_tfidf[-20:]]))\n",
    "\n",
    "print('Low-value idf features:\\n{}\\n\\n'.format(fnames[sort_idf[:20]]))\n",
    "print('High-value idf features:\\n{}\\n\\n'.format(fnames[sort_idf[-20:]]))"
   ]
  },
  {
   "cell_type": "markdown",
   "metadata": {},
   "source": [
    "### = results plot"
   ]
  },
  {
   "cell_type": "code",
   "execution_count": 23,
   "metadata": {},
   "outputs": [
    {
     "data": {
      "image/png": "[encoded data removed]",
      "text/plain": [
       "<Figure size 1080x360 with 1 Axes>"
      ]
     },
     "metadata": {
      "needs_background": "light"
     },
     "output_type": "display_data"
    }
   ],
   "source": [
    "mglearn.tools.visualize_coefficients(grid.best_estimator_.named_steps['logisticregression'].coef_, fnames, n_top_features=20)"
   ]
  },
  {
   "cell_type": "markdown",
   "metadata": {},
   "source": [
    "## ngram_range=(2,2)"
   ]
  },
  {
   "cell_type": "code",
   "execution_count": 24,
   "metadata": {},
   "outputs": [
    {
     "name": "stdout",
     "output_type": "stream",
     "text": [
      "Count of values:\n",
      "33653\n",
      "\n",
      "First ten values of fnames:\n",
      "['00 in', '00 per', '00 sub', '000 bonus', '000 cash', '000 homeowners', '000 pounds', '000 price', '000 prize', '000 xmas']\n",
      "\n",
      "Values between 2000 and 2010:\n",
      "['an insurance', 'an ipod', 'an knackered', 'an o2', 'an offer', 'an official', 'an offline', 'an open', 'an opportunity', 'an outsider']\n",
      "\n",
      "Every 1000th values:\n",
      "['00 in', '9ja that', 'an insurance', 'as practice', 'been thinking', 'by broken', 'child who', 'da any', 'doing work', 'exist like', 'free mobile', 'goin on', 'hav blessed', 'home within', 'ing tomorrow', 'just 60p', 'like failing', 'married person', 'monoc monos', 'news by', 'of here', 'or mall', 'player will', 'realy frm', 'see it', 'snake amp', 'stuff or', 'the asus', 'this she', 'told before', 'ur order', 'we start', 'with gpu', 'you excited']\n",
      "\n"
     ]
    }
   ],
   "source": [
    "vect = CountVectorizer(ngram_range=(2,2))\n",
    "vect.fit(X_train)\n",
    "fnames = vect.get_feature_names()\n",
    "\n",
    "print('Count of values:\\n{}'.format(len(fnames)), end='\\n\\n')\n",
    "print('First ten values of fnames:\\n{}'.format(fnames[:10]), end='\\n\\n')\n",
    "print('Values between 2000 and 2010:\\n{}'.format(fnames[2000:2010]), end='\\n\\n')\n",
    "print('Every 1000th values:\\n{}'.format(fnames[::1000]), end='\\n\\n')"
   ]
  },
  {
   "cell_type": "markdown",
   "metadata": {},
   "source": [
    "## ngram_range=(1,3)"
   ]
  },
  {
   "cell_type": "code",
   "execution_count": 25,
   "metadata": {
    "scrolled": false
   },
   "outputs": [
    {
     "name": "stdout",
     "output_type": "stream",
     "text": [
      "Count of values:\n",
      "83691\n",
      "\n",
      "First ten values of fnames:\n",
      "['00', '00 in', '00 in our', '00 per', '00 sub', '00 sub 16', '000', '000 bonus', '000 bonus caller', '000 cash']\n",
      "\n",
      "Values between 2000 and 2010:\n",
      "['500 cash or', '500 cd', '500 cd gift', '500 cross', '500 cross ntwk', '500 enter', '500 enter our', '500 free', '500 free net', '500 free text']\n",
      "\n",
      "Every 100## ngram_range=(2,2)00th values:\n",
      "['00', 'before getting it', 'dont have the', 'havent reply', 'live on', 'oh and', 'she just broke', 'to 89070', 'work please call']\n",
      "\n"
     ]
    }
   ],
   "source": [
    "vect = CountVectorizer(ngram_range=(1,3))\n",
    "vect.fit(X_train)\n",
    "fnames = vect.get_feature_names()\n",
    "\n",
    "print('Count of values:\\n{}'.format(len(fnames)), end='\\n\\n')\n",
    "print('First ten values of fnames:\\n{}'.format(fnames[:10]), end='\\n\\n')\n",
    "print('Values between 2000 and 2010:\\n{}'.format(fnames[2000:2010]), end='\\n\\n')\n",
    "print('Every 100## ngram_range=(2,2)00th values:\\n{}'.format(fnames[::10000]), end='\\n\\n')"
   ]
  },
  {
   "cell_type": "markdown",
   "metadata": {},
   "source": [
    "## Pipe"
   ]
  },
  {
   "cell_type": "code",
   "execution_count": 26,
   "metadata": {},
   "outputs": [],
   "source": [
    "pipe = make_pipeline(TfidfVectorizer(min_df=5), LogisticRegression())\n",
    "params = {'logisticregression__C': [0.0001, 0.001, 0.01, 0.1, 1, 10, 100, 1000], \n",
    "          'tfidfvectorizer__ngram_range': [(1, 1), (1, 2), (1, 3)]}"
   ]
  },
  {
   "cell_type": "code",
   "execution_count": 27,
   "metadata": {},
   "outputs": [
    {
     "data": {
      "text/plain": [
       "GridSearchCV(cv=5, error_score='raise-deprecating',\n",
       "       estimator=Pipeline(memory=None,\n",
       "     steps=[('tfidfvectorizer', TfidfVectorizer(analyzer='word', binary=False, decode_error='strict',\n",
       "        dtype=<class 'numpy.float64'>, encoding='utf-8', input='content',\n",
       "        lowercase=True, max_df=1.0, max_features=None, min_df=5,\n",
       "        ngram_range=(1, 1), norm='l2', preprocessor=None, smooth...penalty='l2', random_state=None, solver='warn',\n",
       "          tol=0.0001, verbose=0, warm_start=False))]),\n",
       "       fit_params=None, iid='warn', n_jobs=None,\n",
       "       param_grid={'logisticregression__C': [0.0001, 0.001, 0.01, 0.1, 1, 10, 100, 1000], 'tfidfvectorizer__ngram_range': [(1, 1), (1, 2), (1, 3)]},\n",
       "       pre_dispatch='2*n_jobs', refit=True, return_train_score='warn',\n",
       "       scoring=None, verbose=0)"
      ]
     },
     "execution_count": 27,
     "metadata": {},
     "output_type": "execute_result"
    }
   ],
   "source": [
    "grid = GridSearchCV(pipe, param_grid=params, cv=5)\n",
    "grid.fit(X_train, y_train)"
   ]
  },
  {
   "cell_type": "markdown",
   "metadata": {},
   "source": [
    "### = results"
   ]
  },
  {
   "cell_type": "code",
   "execution_count": 28,
   "metadata": {},
   "outputs": [
    {
     "name": "stdout",
     "output_type": "stream",
     "text": [
      "Grid best score:\t0.98\n",
      "\n",
      "Grig best params:\t{'logisticregression__C': 100, 'tfidfvectorizer__ngram_range': (1, 3)}\n",
      "\n",
      "Grig train score:\t1.00\n",
      "\n",
      "Grig test score:\t0.99\n",
      "\n",
      "F1 test score:\t\t0.96\n",
      "\n"
     ]
    }
   ],
   "source": [
    "print('Grid best score:\\t{:.2f}\\n'.format(grid.best_score_))\n",
    "print('Grig best params:\\t{}\\n'.format(grid.best_params_))\n",
    "print('Grig train score:\\t{:.2f}\\n'.format(grid.score(X_train, y_train)))\n",
    "print('Grig test score:\\t{:.2f}\\n'.format(grid.score(X_test, y_test)))\n",
    "print('F1 test score:\\t\\t{:.2f}\\n'.format(f1_score(grid.predict(X_test), y_test)))"
   ]
  },
  {
   "cell_type": "markdown",
   "metadata": {},
   "source": [
    "## Heat Map"
   ]
  },
  {
   "cell_type": "code",
   "execution_count": 29,
   "metadata": {},
   "outputs": [
    {
     "data": {
      "image/png": "[encoded data removed]",
      "text/plain": [
       "<Figure size 1080x1080 with 1 Axes>"
      ]
     },
     "metadata": {
      "needs_background": "light"
     },
     "output_type": "display_data"
    }
   ],
   "source": [
    "scores = grid.cv_results_['mean_test_score'].reshape(-1, 3).T\n",
    "\n",
    "plt.figure(figsize=(15,15))\n",
    "heatmap = mglearn.tools.heatmap(scores, \n",
    "                                xlabel=\"C\", \n",
    "                                ylabel=\"ngram_range\", \n",
    "                                cmap=\"viridis\", \n",
    "                                fmt=\"%.3f\", \n",
    "                                xticklabels=params['logisticregression__C'], \n",
    "                                yticklabels=params['tfidfvectorizer__ngram_range'])\n",
    "\n",
    "plt.show()"
   ]
  },
  {
   "cell_type": "markdown",
   "metadata": {},
   "source": [
    "## Topics"
   ]
  },
  {
   "cell_type": "code",
   "execution_count": 30,
   "metadata": {},
   "outputs": [],
   "source": [
    "vect = CountVectorizer(max_features=10000, max_df=.15)\n",
    "Xv = vect.fit_transform(X_train)"
   ]
  },
  {
   "cell_type": "code",
   "execution_count": 31,
   "metadata": {},
   "outputs": [],
   "source": [
    "lda = LatentDirichletAllocation(n_components=10, learning_method='batch', max_iter=25, random_state=42)\n",
    "topics = lda.fit_transform(Xv)"
   ]
  },
  {
   "cell_type": "markdown",
   "metadata": {},
   "source": [
    "### = results"
   ]
  },
  {
   "cell_type": "code",
   "execution_count": 32,
   "metadata": {},
   "outputs": [
    {
     "name": "stdout",
     "output_type": "stream",
     "text": [
      "topic 0       topic 1       topic 2       topic 3       topic 4       \n",
      "--------      --------      --------      --------      --------      \n",
      "call          lt            free          and           in            \n",
      "your          gt            txt           just          it            \n",
      "no            can           or            its           not           \n",
      "have          it            now           have          but           \n",
      "for           and           call          is            got           \n",
      "prize         ll            ur            my            or            \n",
      "from          in            your          on            we            \n",
      "claim         where         mobile        it            is            \n",
      "as            we            text          now           of            \n",
      "is            be            for           all           with          \n",
      "\n",
      "\n",
      "topic 5       topic 6       topic 7       topic 8       topic 9       \n",
      "--------      --------      --------      --------      --------      \n",
      "ok            have          is            me            is            \n",
      "but           in            ur            my            and           \n",
      "lor           your          of            and           in            \n",
      "later         or            in            that          it            \n",
      "me            call          it            how           at            \n",
      "go            is            and           are           not           \n",
      "then          any           who           do            on            \n",
      "at            he            with          for           get           \n",
      "in            of            gt            what          that          \n",
      "call          for           on            your          will          \n",
      "\n",
      "\n"
     ]
    }
   ],
   "source": [
    "sorting = np.argsort(lda.components_, axis=1)[:, ::-1]\n",
    "feature_names = np.array(vect.get_feature_names())\n",
    "\n",
    "mglearn.tools.print_topics(topics=range(10), \n",
    "                           feature_names=feature_names, \n",
    "                           sorting=sorting, \n",
    "                           topics_per_chunk=5, \n",
    "                           n_words=10)"
   ]
  },
  {
   "cell_type": "markdown",
   "metadata": {},
   "source": [
    "![EBATB](ebatb.gif)"
   ]
  }
 ],
 "metadata": {
  "kernelspec": {
   "display_name": "Python 3",
   "language": "python",
   "name": "python3"
  },
  "language_info": {
   "codemirror_mode": {
    "name": "ipython",
    "version": 3
   },
   "file_extension": ".py",
   "mimetype": "text/x-python",
   "name": "python",
   "nbconvert_exporter": "python",
   "pygments_lexer": "ipython3",
   "version": "3.6.5"
  }
 },
 "nbformat": 4,
 "nbformat_minor": 2
}
