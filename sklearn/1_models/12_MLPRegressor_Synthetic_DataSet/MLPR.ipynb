{
 "cells": [
  {
   "cell_type": "markdown",
   "metadata": {},
   "source": [
    "# MLPRegressor with Synthetic DataSet\n",
    "\n",
    "## About DataSet\n",
    "\n",
    "I had made it with Excel\n",
    "\n",
    "There are 10000 rows\n",
    "\n",
    "### Columns:\n",
    "- s1 — number first\n",
    "- s2 — number second\n",
    "- sum — first + second"
   ]
  },
  {
   "cell_type": "markdown",
   "metadata": {},
   "source": [
    "### Modules"
   ]
  },
  {
   "cell_type": "code",
   "execution_count": 114,
   "metadata": {},
   "outputs": [],
   "source": [
    "import pandas as pd\n",
    "\n",
    "from sklearn.model_selection import train_test_split\n",
    "from sklearn.neural_network import MLPRegressor\n",
    "\n",
    "import matplotlib.pyplot as plt\n",
    "%matplotlib inline"
   ]
  },
  {
   "cell_type": "markdown",
   "metadata": {},
   "source": [
    "### Load and separate data"
   ]
  },
  {
   "cell_type": "code",
   "execution_count": 115,
   "metadata": {},
   "outputs": [
    {
     "data": {
      "text/html": [
       "<div>\n",
       "<style scoped>\n",
       "    .dataframe tbody tr th:only-of-type {\n",
       "        vertical-align: middle;\n",
       "    }\n",
       "\n",
       "    .dataframe tbody tr th {\n",
       "        vertical-align: top;\n",
       "    }\n",
       "\n",
       "    .dataframe thead th {\n",
       "        text-align: right;\n",
       "    }\n",
       "</style>\n",
       "<table border=\"1\" class=\"dataframe\">\n",
       "  <thead>\n",
       "    <tr style=\"text-align: right;\">\n",
       "      <th></th>\n",
       "      <th>s1</th>\n",
       "      <th>s2</th>\n",
       "      <th>sum</th>\n",
       "    </tr>\n",
       "  </thead>\n",
       "  <tbody>\n",
       "    <tr>\n",
       "      <th>0</th>\n",
       "      <td>59</td>\n",
       "      <td>63</td>\n",
       "      <td>122</td>\n",
       "    </tr>\n",
       "    <tr>\n",
       "      <th>1</th>\n",
       "      <td>30</td>\n",
       "      <td>9</td>\n",
       "      <td>39</td>\n",
       "    </tr>\n",
       "    <tr>\n",
       "      <th>2</th>\n",
       "      <td>78</td>\n",
       "      <td>21</td>\n",
       "      <td>99</td>\n",
       "    </tr>\n",
       "    <tr>\n",
       "      <th>3</th>\n",
       "      <td>24</td>\n",
       "      <td>66</td>\n",
       "      <td>90</td>\n",
       "    </tr>\n",
       "    <tr>\n",
       "      <th>4</th>\n",
       "      <td>66</td>\n",
       "      <td>82</td>\n",
       "      <td>148</td>\n",
       "    </tr>\n",
       "  </tbody>\n",
       "</table>\n",
       "</div>"
      ],
      "text/plain": [
       "   s1  s2  sum\n",
       "0  59  63  122\n",
       "1  30   9   39\n",
       "2  78  21   99\n",
       "3  24  66   90\n",
       "4  66  82  148"
      ]
     },
     "execution_count": 115,
     "metadata": {},
     "output_type": "execute_result"
    }
   ],
   "source": [
    "data = pd.read_csv('syn_data.csv', sep=';')\n",
    "data.head()"
   ]
  },
  {
   "cell_type": "code",
   "execution_count": 116,
   "metadata": {},
   "outputs": [],
   "source": [
    "X = data.iloc[:, :2]\n",
    "Y = data.iloc[:, 2]"
   ]
  },
  {
   "cell_type": "code",
   "execution_count": 123,
   "metadata": {},
   "outputs": [
    {
     "name": "stdout",
     "output_type": "stream",
     "text": [
      "Shape of X_train:\t(7499, 2)\n",
      "Shape of X_test:\t(2500, 2)\n",
      "Shape of y_train:\t(7499,)\n",
      "Shape of y_test:\t(2500,)\n"
     ]
    }
   ],
   "source": [
    "X_train, X_test, y_train, y_test = train_test_split(X, Y, random_state=0)\n",
    "\n",
    "print('Shape of X_train:\\t{}'.format(X_train.shape))\n",
    "print('Shape of X_test:\\t{}'.format(X_test.shape))\n",
    "print('Shape of y_train:\\t{}'.format(y_train.shape))\n",
    "print('Shape of y_test:\\t{}'.format(y_test.shape))"
   ]
  },
  {
   "cell_type": "markdown",
   "metadata": {},
   "source": [
    "### Test simple model"
   ]
  },
  {
   "cell_type": "code",
   "execution_count": 131,
   "metadata": {},
   "outputs": [
    {
     "data": {
      "text/plain": [
       "MLPRegressor(activation='relu', alpha=0.0001, batch_size='auto', beta_1=0.9,\n",
       "       beta_2=0.999, early_stopping=False, epsilon=1e-08,\n",
       "       hidden_layer_sizes=(5,), learning_rate='constant',\n",
       "       learning_rate_init=0.001, max_iter=500, momentum=0.9,\n",
       "       nesterovs_momentum=True, power_t=0.5, random_state=0, shuffle=True,\n",
       "       solver='adam', tol=0.0001, validation_fraction=0.1, verbose=False,\n",
       "       warm_start=False)"
      ]
     },
     "execution_count": 131,
     "metadata": {},
     "output_type": "execute_result"
    }
   ],
   "source": [
    "MLPR_nude = MLPRegressor(hidden_layer_sizes=(5,), max_iter=500, random_state=0)\n",
    "MLPR_nude.fit(X_train, y_train)"
   ]
  },
  {
   "cell_type": "code",
   "execution_count": 136,
   "metadata": {},
   "outputs": [
    {
     "name": "stdout",
     "output_type": "stream",
     "text": [
      "Train R2:\t0.9999992\n",
      "Test R2:\t0.9999993\n"
     ]
    }
   ],
   "source": [
    "print('Train R2:\\t{:.7f}'.format(MLPR_nude.score(X_train, y_train)))\n",
    "print('Test R2:\\t{:.7f}'.format(MLPR_nude.score(X_test, y_test)))"
   ]
  },
  {
   "cell_type": "code",
   "execution_count": 135,
   "metadata": {
    "scrolled": true
   },
   "outputs": [
    {
     "name": "stdout",
     "output_type": "stream",
     "text": [
      "2 + 2 = 4.078\n"
     ]
    }
   ],
   "source": [
    "print('2 + 2 = {:.3f}'.format(MLPR_nude.predict([[2,2]])[0]))"
   ]
  },
  {
   "cell_type": "markdown",
   "metadata": {},
   "source": [
    "### Loop to check ABS's between real value and predictions "
   ]
  },
  {
   "cell_type": "code",
   "execution_count": 122,
   "metadata": {},
   "outputs": [
    {
     "data": {
      "image/png": "[encoded data removed]",
      "text/plain": [
       "<Figure size 720x720 with 1 Axes>"
      ]
     },
     "metadata": {},
     "output_type": "display_data"
    },
    {
     "data": {
      "image/png": "[encoded data removed]",
      "text/plain": [
       "<Figure size 720x720 with 1 Axes>"
      ]
     },
     "metadata": {},
     "output_type": "display_data"
    }
   ],
   "source": [
    "MLPR_loop = MLPRegressor(hidden_layer_sizes=(5,), max_iter=500, random_state=0)\n",
    "MLPR_loop.fit(X_train, y_train)\n",
    "\n",
    "main_line = []\n",
    "nn_line = []\n",
    "\n",
    "for i in range(1, 101):\n",
    "    a = 2 * i\n",
    "    main_line.append(a)\n",
    "    \n",
    "    nn_score = MLPR_loop.predict([[i,i]])\n",
    "    abs_score = abs(nn_score - a)\n",
    "    nn_line.append(abs_score)\n",
    "\n",
    "\n",
    "plt.figure(figsize=(10,10))\n",
    "plt.title('y = 2x', fontsize=30)\n",
    "plt.ylabel('y', fontsize=27)\n",
    "plt.xlabel('x', fontsize=27)\n",
    "plt.plot(main_line, 'r--')\n",
    "plt.show()\n",
    "\n",
    "plt.figure(figsize=(10,10))\n",
    "plt.plot(nn_line, 'b--')\n",
    "plt.title('dy = 2x - y` | y` → predict', fontsize=30)\n",
    "plt.ylabel('dy', fontsize=27)\n",
    "plt.xlabel('x', fontsize=27)\n",
    "plt.show()"
   ]
  },
  {
   "cell_type": "markdown",
   "metadata": {},
   "source": [
    "# PS:\n",
    "## I have a NNCalculator with MLPRegressor in another repo\n",
    "### [LINK](https://github.com/andybeardness/4Orn_Neural_Network_Calculator)"
   ]
  },
  {
   "cell_type": "markdown",
   "metadata": {},
   "source": [
    "![giphy](giphy.gif)"
   ]
  }
 ],
 "metadata": {
  "kernelspec": {
   "display_name": "Python 3",
   "language": "python",
   "name": "python3"
  },
  "language_info": {
   "codemirror_mode": {
    "name": "ipython",
    "version": 3
   },
   "file_extension": ".py",
   "mimetype": "text/x-python",
   "name": "python",
   "nbconvert_exporter": "python",
   "pygments_lexer": "ipython3",
   "version": "3.6.5"
  }
 },
 "nbformat": 4,
 "nbformat_minor": 2
}
