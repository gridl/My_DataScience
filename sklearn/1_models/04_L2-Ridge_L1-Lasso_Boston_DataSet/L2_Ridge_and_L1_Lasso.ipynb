{
 "cells": [
  {
   "cell_type": "markdown",
   "metadata": {},
   "source": [
    "# Ridge (L2) and Lasso (L1) regressions"
   ]
  },
  {
   "cell_type": "markdown",
   "metadata": {},
   "source": [
    "I tested a little bit of Ridge and Lasso regressions"
   ]
  },
  {
   "cell_type": "markdown",
   "metadata": {},
   "source": [
    "## Load DataSet"
   ]
  },
  {
   "cell_type": "markdown",
   "metadata": {},
   "source": [
    "I used sklearn-dataset — boston"
   ]
  },
  {
   "cell_type": "code",
   "execution_count": 1,
   "metadata": {},
   "outputs": [],
   "source": [
    "import pandas as pd\n",
    "from sklearn.datasets import load_boston\n",
    "\n",
    "data = load_boston()\n",
    "data.data = pd.DataFrame(data.data)\n",
    "data.target = pd.DataFrame(data.target)\n",
    "\n",
    "X = data.data\n",
    "Y = data.target"
   ]
  },
  {
   "cell_type": "markdown",
   "metadata": {},
   "source": [
    "Let's watch shapes!"
   ]
  },
  {
   "cell_type": "code",
   "execution_count": 2,
   "metadata": {},
   "outputs": [
    {
     "name": "stdout",
     "output_type": "stream",
     "text": [
      "Shape of X: (506, 13)\n",
      "Shape of Y: (506, 1)\n"
     ]
    }
   ],
   "source": [
    "print('Shape of X: {}'.format(X.shape))\n",
    "print('Shape of Y: {}'.format(Y.shape))"
   ]
  },
  {
   "cell_type": "markdown",
   "metadata": {},
   "source": [
    "...and describe :)"
   ]
  },
  {
   "cell_type": "code",
   "execution_count": 3,
   "metadata": {},
   "outputs": [
    {
     "data": {
      "text/html": [
       "<div>\n",
       "<style scoped>\n",
       "    .dataframe tbody tr th:only-of-type {\n",
       "        vertical-align: middle;\n",
       "    }\n",
       "\n",
       "    .dataframe tbody tr th {\n",
       "        vertical-align: top;\n",
       "    }\n",
       "\n",
       "    .dataframe thead th {\n",
       "        text-align: right;\n",
       "    }\n",
       "</style>\n",
       "<table border=\"1\" class=\"dataframe\">\n",
       "  <thead>\n",
       "    <tr style=\"text-align: right;\">\n",
       "      <th></th>\n",
       "      <th>0</th>\n",
       "      <th>1</th>\n",
       "      <th>2</th>\n",
       "      <th>3</th>\n",
       "      <th>4</th>\n",
       "      <th>5</th>\n",
       "      <th>6</th>\n",
       "      <th>7</th>\n",
       "      <th>8</th>\n",
       "      <th>9</th>\n",
       "      <th>10</th>\n",
       "      <th>11</th>\n",
       "      <th>12</th>\n",
       "    </tr>\n",
       "  </thead>\n",
       "  <tbody>\n",
       "    <tr>\n",
       "      <th>count</th>\n",
       "      <td>506.000000</td>\n",
       "      <td>506.000000</td>\n",
       "      <td>506.000000</td>\n",
       "      <td>506.000000</td>\n",
       "      <td>506.000000</td>\n",
       "      <td>506.000000</td>\n",
       "      <td>506.000000</td>\n",
       "      <td>506.000000</td>\n",
       "      <td>506.000000</td>\n",
       "      <td>506.000000</td>\n",
       "      <td>506.000000</td>\n",
       "      <td>506.000000</td>\n",
       "      <td>506.000000</td>\n",
       "    </tr>\n",
       "    <tr>\n",
       "      <th>mean</th>\n",
       "      <td>3.613524</td>\n",
       "      <td>11.363636</td>\n",
       "      <td>11.136779</td>\n",
       "      <td>0.069170</td>\n",
       "      <td>0.554695</td>\n",
       "      <td>6.284634</td>\n",
       "      <td>68.574901</td>\n",
       "      <td>3.795043</td>\n",
       "      <td>9.549407</td>\n",
       "      <td>408.237154</td>\n",
       "      <td>18.455534</td>\n",
       "      <td>356.674032</td>\n",
       "      <td>12.653063</td>\n",
       "    </tr>\n",
       "    <tr>\n",
       "      <th>std</th>\n",
       "      <td>8.601545</td>\n",
       "      <td>23.322453</td>\n",
       "      <td>6.860353</td>\n",
       "      <td>0.253994</td>\n",
       "      <td>0.115878</td>\n",
       "      <td>0.702617</td>\n",
       "      <td>28.148861</td>\n",
       "      <td>2.105710</td>\n",
       "      <td>8.707259</td>\n",
       "      <td>168.537116</td>\n",
       "      <td>2.164946</td>\n",
       "      <td>91.294864</td>\n",
       "      <td>7.141062</td>\n",
       "    </tr>\n",
       "    <tr>\n",
       "      <th>min</th>\n",
       "      <td>0.006320</td>\n",
       "      <td>0.000000</td>\n",
       "      <td>0.460000</td>\n",
       "      <td>0.000000</td>\n",
       "      <td>0.385000</td>\n",
       "      <td>3.561000</td>\n",
       "      <td>2.900000</td>\n",
       "      <td>1.129600</td>\n",
       "      <td>1.000000</td>\n",
       "      <td>187.000000</td>\n",
       "      <td>12.600000</td>\n",
       "      <td>0.320000</td>\n",
       "      <td>1.730000</td>\n",
       "    </tr>\n",
       "    <tr>\n",
       "      <th>25%</th>\n",
       "      <td>0.082045</td>\n",
       "      <td>0.000000</td>\n",
       "      <td>5.190000</td>\n",
       "      <td>0.000000</td>\n",
       "      <td>0.449000</td>\n",
       "      <td>5.885500</td>\n",
       "      <td>45.025000</td>\n",
       "      <td>2.100175</td>\n",
       "      <td>4.000000</td>\n",
       "      <td>279.000000</td>\n",
       "      <td>17.400000</td>\n",
       "      <td>375.377500</td>\n",
       "      <td>6.950000</td>\n",
       "    </tr>\n",
       "    <tr>\n",
       "      <th>50%</th>\n",
       "      <td>0.256510</td>\n",
       "      <td>0.000000</td>\n",
       "      <td>9.690000</td>\n",
       "      <td>0.000000</td>\n",
       "      <td>0.538000</td>\n",
       "      <td>6.208500</td>\n",
       "      <td>77.500000</td>\n",
       "      <td>3.207450</td>\n",
       "      <td>5.000000</td>\n",
       "      <td>330.000000</td>\n",
       "      <td>19.050000</td>\n",
       "      <td>391.440000</td>\n",
       "      <td>11.360000</td>\n",
       "    </tr>\n",
       "    <tr>\n",
       "      <th>75%</th>\n",
       "      <td>3.677083</td>\n",
       "      <td>12.500000</td>\n",
       "      <td>18.100000</td>\n",
       "      <td>0.000000</td>\n",
       "      <td>0.624000</td>\n",
       "      <td>6.623500</td>\n",
       "      <td>94.075000</td>\n",
       "      <td>5.188425</td>\n",
       "      <td>24.000000</td>\n",
       "      <td>666.000000</td>\n",
       "      <td>20.200000</td>\n",
       "      <td>396.225000</td>\n",
       "      <td>16.955000</td>\n",
       "    </tr>\n",
       "    <tr>\n",
       "      <th>max</th>\n",
       "      <td>88.976200</td>\n",
       "      <td>100.000000</td>\n",
       "      <td>27.740000</td>\n",
       "      <td>1.000000</td>\n",
       "      <td>0.871000</td>\n",
       "      <td>8.780000</td>\n",
       "      <td>100.000000</td>\n",
       "      <td>12.126500</td>\n",
       "      <td>24.000000</td>\n",
       "      <td>711.000000</td>\n",
       "      <td>22.000000</td>\n",
       "      <td>396.900000</td>\n",
       "      <td>37.970000</td>\n",
       "    </tr>\n",
       "  </tbody>\n",
       "</table>\n",
       "</div>"
      ],
      "text/plain": [
       "               0           1           2           3           4           5   \\\n",
       "count  506.000000  506.000000  506.000000  506.000000  506.000000  506.000000   \n",
       "mean     3.613524   11.363636   11.136779    0.069170    0.554695    6.284634   \n",
       "std      8.601545   23.322453    6.860353    0.253994    0.115878    0.702617   \n",
       "min      0.006320    0.000000    0.460000    0.000000    0.385000    3.561000   \n",
       "25%      0.082045    0.000000    5.190000    0.000000    0.449000    5.885500   \n",
       "50%      0.256510    0.000000    9.690000    0.000000    0.538000    6.208500   \n",
       "75%      3.677083   12.500000   18.100000    0.000000    0.624000    6.623500   \n",
       "max     88.976200  100.000000   27.740000    1.000000    0.871000    8.780000   \n",
       "\n",
       "               6           7           8           9           10          11  \\\n",
       "count  506.000000  506.000000  506.000000  506.000000  506.000000  506.000000   \n",
       "mean    68.574901    3.795043    9.549407  408.237154   18.455534  356.674032   \n",
       "std     28.148861    2.105710    8.707259  168.537116    2.164946   91.294864   \n",
       "min      2.900000    1.129600    1.000000  187.000000   12.600000    0.320000   \n",
       "25%     45.025000    2.100175    4.000000  279.000000   17.400000  375.377500   \n",
       "50%     77.500000    3.207450    5.000000  330.000000   19.050000  391.440000   \n",
       "75%     94.075000    5.188425   24.000000  666.000000   20.200000  396.225000   \n",
       "max    100.000000   12.126500   24.000000  711.000000   22.000000  396.900000   \n",
       "\n",
       "               12  \n",
       "count  506.000000  \n",
       "mean    12.653063  \n",
       "std      7.141062  \n",
       "min      1.730000  \n",
       "25%      6.950000  \n",
       "50%     11.360000  \n",
       "75%     16.955000  \n",
       "max     37.970000  "
      ]
     },
     "execution_count": 3,
     "metadata": {},
     "output_type": "execute_result"
    }
   ],
   "source": [
    "X.describe()"
   ]
  },
  {
   "cell_type": "markdown",
   "metadata": {},
   "source": [
    "Let's check corr-matrix X and Y together"
   ]
  },
  {
   "cell_type": "code",
   "execution_count": 4,
   "metadata": {},
   "outputs": [
    {
     "data": {
      "text/plain": [
       "0    -0.388305\n",
       "1     0.360445\n",
       "2    -0.483725\n",
       "3     0.175260\n",
       "4    -0.427321\n",
       "5     0.695360\n",
       "6    -0.376955\n",
       "7     0.249929\n",
       "8    -0.381626\n",
       "9    -0.468536\n",
       "10   -0.507787\n",
       "11    0.333461\n",
       "12   -0.737663\n",
       "0     1.000000\n",
       "Name: Y, dtype: float64"
      ]
     },
     "execution_count": 4,
     "metadata": {},
     "output_type": "execute_result"
    }
   ],
   "source": [
    "XY = pd.concat([X, Y], axis=1)\n",
    "\n",
    "names = list(data.feature_names) \n",
    "names.append('Y')\n",
    "\n",
    "corr = XY.corr()\n",
    "corr.columns = names\n",
    "corr['Y']"
   ]
  },
  {
   "cell_type": "markdown",
   "metadata": {},
   "source": [
    "Correlation X and Y is few negative and positive\n",
    "\n",
    "Values are good (I think)"
   ]
  },
  {
   "cell_type": "markdown",
   "metadata": {},
   "source": [
    "### Spliting set"
   ]
  },
  {
   "cell_type": "code",
   "execution_count": 5,
   "metadata": {},
   "outputs": [],
   "source": [
    "from sklearn.model_selection import train_test_split\n",
    "\n",
    "X_train, X_test, y_train, y_test = train_test_split(X, Y, random_state=0)"
   ]
  },
  {
   "cell_type": "code",
   "execution_count": 6,
   "metadata": {
    "scrolled": true
   },
   "outputs": [
    {
     "name": "stdout",
     "output_type": "stream",
     "text": [
      "Shape of X_train: (379, 13)\n",
      "Shape of y_train: (379, 1)\n",
      "\n",
      "Shape of X_test: (127, 13)\n",
      "Shape of y_test: (127, 1)\n"
     ]
    }
   ],
   "source": [
    "print('Shape of X_train: {}'.format(X_train.shape))\n",
    "print('Shape of y_train: {}'.format(y_train.shape), end='\\n\\n')\n",
    "print('Shape of X_test: {}'.format(X_test.shape))\n",
    "print('Shape of y_test: {}'.format(y_test.shape))"
   ]
  },
  {
   "cell_type": "markdown",
   "metadata": {},
   "source": [
    "## Test nude models"
   ]
  },
  {
   "cell_type": "code",
   "execution_count": 7,
   "metadata": {
    "scrolled": false
   },
   "outputs": [
    {
     "name": "stdout",
     "output_type": "stream",
     "text": [
      "= LinearRegression\n",
      "– Train score: 0.77\n",
      "– Test score: 0.64\n",
      "\n",
      "– Intercept: 36.93\n",
      "\n",
      "– Coef's: \n",
      "[[-1.17735289e-01  4.40174969e-02 -5.76814314e-03  2.39341594e+00\n",
      "  -1.55894211e+01  3.76896770e+00 -7.03517828e-03 -1.43495641e+00\n",
      "   2.40081086e-01 -1.12972810e-02 -9.85546732e-01  8.44443453e-03\n",
      "  -4.99116797e-01]]\n",
      "\n",
      "==== ==== ==== ====\n",
      "\n",
      "= Ridge\n",
      "– Train score: 0.77\n",
      "– Test score: 0.63\n",
      "\n",
      "– Intercept: 31.85\n",
      "\n",
      "– Coef's: \n",
      "[[-0.11478591  0.04541838 -0.03540308  2.30329133 -8.12744537  3.80634143\n",
      "  -0.01428219 -1.33693873  0.21674809 -0.01175498 -0.90393728  0.00881273\n",
      "  -0.50742473]]\n",
      "\n",
      "==== ==== ==== ====\n",
      "\n",
      "= Lasso\n",
      "– Train score: 0.72\n",
      "– Test score: 0.55\n",
      "\n",
      "– Intercept: 44.73\n",
      "\n",
      "– Coef's: \n",
      "[-0.05873776  0.04999404 -0.00158882  0.         -0.          0.761785\n",
      "  0.01304661 -0.71010927  0.19551641 -0.01414771 -0.80524598  0.00709763\n",
      " -0.74214555]\n",
      "\n",
      "==== ==== ==== ====\n",
      "\n"
     ]
    }
   ],
   "source": [
    "from sklearn.linear_model import LinearRegression, Ridge, Lasso\n",
    "\n",
    "lin = LinearRegression()\n",
    "rid = Ridge()\n",
    "las = Lasso()\n",
    "\n",
    "# =================================\n",
    "# Function for fast getting results\n",
    "# =================================\n",
    "\n",
    "def simple_result(model, X_train, X_test, y_train, y_test):\n",
    "    model.fit(X_train, y_train)\n",
    "    print('= {}'.format(type(model).__name__))\n",
    "    print('– Train score: {:.2f}'.format(model.score(X_train, y_train)))\n",
    "    print('– Test score: {:.2f}'.format(model.score(X_test, y_test)), end='\\n\\n')\n",
    "    print('– Intercept: {:.2f}'.format(model.intercept_[0]), end='\\n\\n')\n",
    "    print('– Coef\\'s: \\n{}'.format(model.coef_))\n",
    "    print('\\n==== ==== ==== ====\\n')\n",
    "\n",
    "simple_result(lin, X_train, X_test, y_train, y_test)\n",
    "simple_result(rid, X_train, X_test, y_train, y_test)\n",
    "simple_result(las, X_train, X_test, y_train, y_test)"
   ]
  },
  {
   "cell_type": "markdown",
   "metadata": {},
   "source": [
    "Ridge and Lasso makes our model few worse\n",
    "\n",
    "But we can check features and find useless\n",
    "\n",
    "If count of features is large —— Ridge and Lasso can make life simple better :3"
   ]
  },
  {
   "cell_type": "markdown",
   "metadata": {},
   "source": [
    "## Watch at differece coef's of models"
   ]
  },
  {
   "cell_type": "code",
   "execution_count": 8,
   "metadata": {
    "scrolled": false
   },
   "outputs": [
    {
     "data": {
      "text/html": [
       "<style  type=\"text/css\" >\n",
       "    #T_2bbade34_89ec_11e9_9b0e_23c4b51e603crow0_col0 {\n",
       "            background-color:  None;\n",
       "        }    #T_2bbade34_89ec_11e9_9b0e_23c4b51e603crow0_col1 {\n",
       "            background-color:  None;\n",
       "        }    #T_2bbade34_89ec_11e9_9b0e_23c4b51e603crow0_col2 {\n",
       "            background-color:  None;\n",
       "        }    #T_2bbade34_89ec_11e9_9b0e_23c4b51e603crow1_col0 {\n",
       "            background-color:  None;\n",
       "        }    #T_2bbade34_89ec_11e9_9b0e_23c4b51e603crow1_col1 {\n",
       "            background-color:  None;\n",
       "        }    #T_2bbade34_89ec_11e9_9b0e_23c4b51e603crow1_col2 {\n",
       "            background-color:  None;\n",
       "        }    #T_2bbade34_89ec_11e9_9b0e_23c4b51e603crow2_col0 {\n",
       "            background-color:  None;\n",
       "        }    #T_2bbade34_89ec_11e9_9b0e_23c4b51e603crow2_col1 {\n",
       "            background-color:  None;\n",
       "        }    #T_2bbade34_89ec_11e9_9b0e_23c4b51e603crow2_col2 {\n",
       "            background-color:  None;\n",
       "        }    #T_2bbade34_89ec_11e9_9b0e_23c4b51e603crow3_col0 {\n",
       "            background-color:  None;\n",
       "        }    #T_2bbade34_89ec_11e9_9b0e_23c4b51e603crow3_col1 {\n",
       "            background-color:  None;\n",
       "        }    #T_2bbade34_89ec_11e9_9b0e_23c4b51e603crow3_col2 {\n",
       "            background-color:  rgba(255, 0, 0, 0.4);\n",
       "        }    #T_2bbade34_89ec_11e9_9b0e_23c4b51e603crow4_col0 {\n",
       "            background-color:  None;\n",
       "        }    #T_2bbade34_89ec_11e9_9b0e_23c4b51e603crow4_col1 {\n",
       "            background-color:  None;\n",
       "        }    #T_2bbade34_89ec_11e9_9b0e_23c4b51e603crow4_col2 {\n",
       "            background-color:  rgba(255, 0, 0, 0.4);\n",
       "        }    #T_2bbade34_89ec_11e9_9b0e_23c4b51e603crow5_col0 {\n",
       "            background-color:  None;\n",
       "        }    #T_2bbade34_89ec_11e9_9b0e_23c4b51e603crow5_col1 {\n",
       "            background-color:  None;\n",
       "        }    #T_2bbade34_89ec_11e9_9b0e_23c4b51e603crow5_col2 {\n",
       "            background-color:  None;\n",
       "        }    #T_2bbade34_89ec_11e9_9b0e_23c4b51e603crow6_col0 {\n",
       "            background-color:  None;\n",
       "        }    #T_2bbade34_89ec_11e9_9b0e_23c4b51e603crow6_col1 {\n",
       "            background-color:  None;\n",
       "        }    #T_2bbade34_89ec_11e9_9b0e_23c4b51e603crow6_col2 {\n",
       "            background-color:  None;\n",
       "        }    #T_2bbade34_89ec_11e9_9b0e_23c4b51e603crow7_col0 {\n",
       "            background-color:  None;\n",
       "        }    #T_2bbade34_89ec_11e9_9b0e_23c4b51e603crow7_col1 {\n",
       "            background-color:  None;\n",
       "        }    #T_2bbade34_89ec_11e9_9b0e_23c4b51e603crow7_col2 {\n",
       "            background-color:  None;\n",
       "        }    #T_2bbade34_89ec_11e9_9b0e_23c4b51e603crow8_col0 {\n",
       "            background-color:  None;\n",
       "        }    #T_2bbade34_89ec_11e9_9b0e_23c4b51e603crow8_col1 {\n",
       "            background-color:  None;\n",
       "        }    #T_2bbade34_89ec_11e9_9b0e_23c4b51e603crow8_col2 {\n",
       "            background-color:  None;\n",
       "        }    #T_2bbade34_89ec_11e9_9b0e_23c4b51e603crow9_col0 {\n",
       "            background-color:  None;\n",
       "        }    #T_2bbade34_89ec_11e9_9b0e_23c4b51e603crow9_col1 {\n",
       "            background-color:  None;\n",
       "        }    #T_2bbade34_89ec_11e9_9b0e_23c4b51e603crow9_col2 {\n",
       "            background-color:  None;\n",
       "        }    #T_2bbade34_89ec_11e9_9b0e_23c4b51e603crow10_col0 {\n",
       "            background-color:  None;\n",
       "        }    #T_2bbade34_89ec_11e9_9b0e_23c4b51e603crow10_col1 {\n",
       "            background-color:  None;\n",
       "        }    #T_2bbade34_89ec_11e9_9b0e_23c4b51e603crow10_col2 {\n",
       "            background-color:  None;\n",
       "        }    #T_2bbade34_89ec_11e9_9b0e_23c4b51e603crow11_col0 {\n",
       "            background-color:  None;\n",
       "        }    #T_2bbade34_89ec_11e9_9b0e_23c4b51e603crow11_col1 {\n",
       "            background-color:  None;\n",
       "        }    #T_2bbade34_89ec_11e9_9b0e_23c4b51e603crow11_col2 {\n",
       "            background-color:  None;\n",
       "        }    #T_2bbade34_89ec_11e9_9b0e_23c4b51e603crow12_col0 {\n",
       "            background-color:  None;\n",
       "        }    #T_2bbade34_89ec_11e9_9b0e_23c4b51e603crow12_col1 {\n",
       "            background-color:  None;\n",
       "        }    #T_2bbade34_89ec_11e9_9b0e_23c4b51e603crow12_col2 {\n",
       "            background-color:  None;\n",
       "        }</style><table id=\"T_2bbade34_89ec_11e9_9b0e_23c4b51e603c\" ><thead>    <tr>        <th class=\"blank level0\" ></th>        <th class=\"col_heading level0 col0\" >Linear</th>        <th class=\"col_heading level0 col1\" >Ridge</th>        <th class=\"col_heading level0 col2\" >Lasso</th>    </tr></thead><tbody>\n",
       "                <tr>\n",
       "                        <th id=\"T_2bbade34_89ec_11e9_9b0e_23c4b51e603clevel0_row0\" class=\"row_heading level0 row0\" >CRIM</th>\n",
       "                        <td id=\"T_2bbade34_89ec_11e9_9b0e_23c4b51e603crow0_col0\" class=\"data row0 col0\" >-0.117735</td>\n",
       "                        <td id=\"T_2bbade34_89ec_11e9_9b0e_23c4b51e603crow0_col1\" class=\"data row0 col1\" >-0.114786</td>\n",
       "                        <td id=\"T_2bbade34_89ec_11e9_9b0e_23c4b51e603crow0_col2\" class=\"data row0 col2\" >-0.0587378</td>\n",
       "            </tr>\n",
       "            <tr>\n",
       "                        <th id=\"T_2bbade34_89ec_11e9_9b0e_23c4b51e603clevel0_row1\" class=\"row_heading level0 row1\" >ZN</th>\n",
       "                        <td id=\"T_2bbade34_89ec_11e9_9b0e_23c4b51e603crow1_col0\" class=\"data row1 col0\" >0.0440175</td>\n",
       "                        <td id=\"T_2bbade34_89ec_11e9_9b0e_23c4b51e603crow1_col1\" class=\"data row1 col1\" >0.0454184</td>\n",
       "                        <td id=\"T_2bbade34_89ec_11e9_9b0e_23c4b51e603crow1_col2\" class=\"data row1 col2\" >0.049994</td>\n",
       "            </tr>\n",
       "            <tr>\n",
       "                        <th id=\"T_2bbade34_89ec_11e9_9b0e_23c4b51e603clevel0_row2\" class=\"row_heading level0 row2\" >INDUS</th>\n",
       "                        <td id=\"T_2bbade34_89ec_11e9_9b0e_23c4b51e603crow2_col0\" class=\"data row2 col0\" >-0.00576814</td>\n",
       "                        <td id=\"T_2bbade34_89ec_11e9_9b0e_23c4b51e603crow2_col1\" class=\"data row2 col1\" >-0.0354031</td>\n",
       "                        <td id=\"T_2bbade34_89ec_11e9_9b0e_23c4b51e603crow2_col2\" class=\"data row2 col2\" >-0.00158882</td>\n",
       "            </tr>\n",
       "            <tr>\n",
       "                        <th id=\"T_2bbade34_89ec_11e9_9b0e_23c4b51e603clevel0_row3\" class=\"row_heading level0 row3\" >CHAS</th>\n",
       "                        <td id=\"T_2bbade34_89ec_11e9_9b0e_23c4b51e603crow3_col0\" class=\"data row3 col0\" >2.39342</td>\n",
       "                        <td id=\"T_2bbade34_89ec_11e9_9b0e_23c4b51e603crow3_col1\" class=\"data row3 col1\" >2.30329</td>\n",
       "                        <td id=\"T_2bbade34_89ec_11e9_9b0e_23c4b51e603crow3_col2\" class=\"data row3 col2\" >0</td>\n",
       "            </tr>\n",
       "            <tr>\n",
       "                        <th id=\"T_2bbade34_89ec_11e9_9b0e_23c4b51e603clevel0_row4\" class=\"row_heading level0 row4\" >NOX</th>\n",
       "                        <td id=\"T_2bbade34_89ec_11e9_9b0e_23c4b51e603crow4_col0\" class=\"data row4 col0\" >-15.5894</td>\n",
       "                        <td id=\"T_2bbade34_89ec_11e9_9b0e_23c4b51e603crow4_col1\" class=\"data row4 col1\" >-8.12745</td>\n",
       "                        <td id=\"T_2bbade34_89ec_11e9_9b0e_23c4b51e603crow4_col2\" class=\"data row4 col2\" >-0</td>\n",
       "            </tr>\n",
       "            <tr>\n",
       "                        <th id=\"T_2bbade34_89ec_11e9_9b0e_23c4b51e603clevel0_row5\" class=\"row_heading level0 row5\" >RM</th>\n",
       "                        <td id=\"T_2bbade34_89ec_11e9_9b0e_23c4b51e603crow5_col0\" class=\"data row5 col0\" >3.76897</td>\n",
       "                        <td id=\"T_2bbade34_89ec_11e9_9b0e_23c4b51e603crow5_col1\" class=\"data row5 col1\" >3.80634</td>\n",
       "                        <td id=\"T_2bbade34_89ec_11e9_9b0e_23c4b51e603crow5_col2\" class=\"data row5 col2\" >0.761785</td>\n",
       "            </tr>\n",
       "            <tr>\n",
       "                        <th id=\"T_2bbade34_89ec_11e9_9b0e_23c4b51e603clevel0_row6\" class=\"row_heading level0 row6\" >AGE</th>\n",
       "                        <td id=\"T_2bbade34_89ec_11e9_9b0e_23c4b51e603crow6_col0\" class=\"data row6 col0\" >-0.00703518</td>\n",
       "                        <td id=\"T_2bbade34_89ec_11e9_9b0e_23c4b51e603crow6_col1\" class=\"data row6 col1\" >-0.0142822</td>\n",
       "                        <td id=\"T_2bbade34_89ec_11e9_9b0e_23c4b51e603crow6_col2\" class=\"data row6 col2\" >0.0130466</td>\n",
       "            </tr>\n",
       "            <tr>\n",
       "                        <th id=\"T_2bbade34_89ec_11e9_9b0e_23c4b51e603clevel0_row7\" class=\"row_heading level0 row7\" >DIS</th>\n",
       "                        <td id=\"T_2bbade34_89ec_11e9_9b0e_23c4b51e603crow7_col0\" class=\"data row7 col0\" >-1.43496</td>\n",
       "                        <td id=\"T_2bbade34_89ec_11e9_9b0e_23c4b51e603crow7_col1\" class=\"data row7 col1\" >-1.33694</td>\n",
       "                        <td id=\"T_2bbade34_89ec_11e9_9b0e_23c4b51e603crow7_col2\" class=\"data row7 col2\" >-0.710109</td>\n",
       "            </tr>\n",
       "            <tr>\n",
       "                        <th id=\"T_2bbade34_89ec_11e9_9b0e_23c4b51e603clevel0_row8\" class=\"row_heading level0 row8\" >RAD</th>\n",
       "                        <td id=\"T_2bbade34_89ec_11e9_9b0e_23c4b51e603crow8_col0\" class=\"data row8 col0\" >0.240081</td>\n",
       "                        <td id=\"T_2bbade34_89ec_11e9_9b0e_23c4b51e603crow8_col1\" class=\"data row8 col1\" >0.216748</td>\n",
       "                        <td id=\"T_2bbade34_89ec_11e9_9b0e_23c4b51e603crow8_col2\" class=\"data row8 col2\" >0.195516</td>\n",
       "            </tr>\n",
       "            <tr>\n",
       "                        <th id=\"T_2bbade34_89ec_11e9_9b0e_23c4b51e603clevel0_row9\" class=\"row_heading level0 row9\" >TAX</th>\n",
       "                        <td id=\"T_2bbade34_89ec_11e9_9b0e_23c4b51e603crow9_col0\" class=\"data row9 col0\" >-0.0112973</td>\n",
       "                        <td id=\"T_2bbade34_89ec_11e9_9b0e_23c4b51e603crow9_col1\" class=\"data row9 col1\" >-0.011755</td>\n",
       "                        <td id=\"T_2bbade34_89ec_11e9_9b0e_23c4b51e603crow9_col2\" class=\"data row9 col2\" >-0.0141477</td>\n",
       "            </tr>\n",
       "            <tr>\n",
       "                        <th id=\"T_2bbade34_89ec_11e9_9b0e_23c4b51e603clevel0_row10\" class=\"row_heading level0 row10\" >PTRATIO</th>\n",
       "                        <td id=\"T_2bbade34_89ec_11e9_9b0e_23c4b51e603crow10_col0\" class=\"data row10 col0\" >-0.985547</td>\n",
       "                        <td id=\"T_2bbade34_89ec_11e9_9b0e_23c4b51e603crow10_col1\" class=\"data row10 col1\" >-0.903937</td>\n",
       "                        <td id=\"T_2bbade34_89ec_11e9_9b0e_23c4b51e603crow10_col2\" class=\"data row10 col2\" >-0.805246</td>\n",
       "            </tr>\n",
       "            <tr>\n",
       "                        <th id=\"T_2bbade34_89ec_11e9_9b0e_23c4b51e603clevel0_row11\" class=\"row_heading level0 row11\" >B</th>\n",
       "                        <td id=\"T_2bbade34_89ec_11e9_9b0e_23c4b51e603crow11_col0\" class=\"data row11 col0\" >0.00844443</td>\n",
       "                        <td id=\"T_2bbade34_89ec_11e9_9b0e_23c4b51e603crow11_col1\" class=\"data row11 col1\" >0.00881273</td>\n",
       "                        <td id=\"T_2bbade34_89ec_11e9_9b0e_23c4b51e603crow11_col2\" class=\"data row11 col2\" >0.00709763</td>\n",
       "            </tr>\n",
       "            <tr>\n",
       "                        <th id=\"T_2bbade34_89ec_11e9_9b0e_23c4b51e603clevel0_row12\" class=\"row_heading level0 row12\" >LSTAT</th>\n",
       "                        <td id=\"T_2bbade34_89ec_11e9_9b0e_23c4b51e603crow12_col0\" class=\"data row12 col0\" >-0.499117</td>\n",
       "                        <td id=\"T_2bbade34_89ec_11e9_9b0e_23c4b51e603crow12_col1\" class=\"data row12 col1\" >-0.507425</td>\n",
       "                        <td id=\"T_2bbade34_89ec_11e9_9b0e_23c4b51e603crow12_col2\" class=\"data row12 col2\" >-0.742146</td>\n",
       "            </tr>\n",
       "    </tbody></table>"
      ],
      "text/plain": [
       "<pandas.io.formats.style.Styler at 0x7f82d8d76b00>"
      ]
     },
     "execution_count": 8,
     "metadata": {},
     "output_type": "execute_result"
    }
   ],
   "source": [
    "lin_coef = pd.DataFrame(lin.coef_).T\n",
    "rid_coef = pd.DataFrame(rid.coef_).T\n",
    "las_coef = pd.DataFrame(las.coef_)\n",
    "\n",
    "names = ['Linear', 'Ridge', 'Lasso']\n",
    "\n",
    "# ===========================\n",
    "# Function for colorize table\n",
    "# ===========================\n",
    "\n",
    "def color_zero_red(val):\n",
    "    color = 'rgba(255, 0, 0, 0.4)' if abs(val) == 0 else None\n",
    "    return 'background-color: {}'.format(color)\n",
    "\n",
    "all_coefs = pd.concat([lin_coef, rid_coef, las_coef], axis=1)\n",
    "all_coefs.columns = names\n",
    "all_coefs.index = data.feature_names\n",
    "all_coefs.style.applymap(color_zero_red)"
   ]
  },
  {
   "cell_type": "markdown",
   "metadata": {},
   "source": [
    "Lasso chose 'CHAS' and 'NOX'\n",
    "\n",
    "And we try to drop it and make test with nude models"
   ]
  },
  {
   "cell_type": "code",
   "execution_count": 9,
   "metadata": {},
   "outputs": [
    {
     "name": "stdout",
     "output_type": "stream",
     "text": [
      "= LinearRegression\n",
      "– Train score: 0.76\n",
      "– Test score: 0.60\n",
      "\n",
      "– Intercept: 25.95\n",
      "\n",
      "– Coef's: \n",
      "[[-0.11724991  0.04624808 -0.05216921  3.97068831 -0.02161906 -1.23897775\n",
      "   0.21004986 -0.01326482 -0.83982522  0.00987017 -0.51422215]]\n",
      "\n",
      "==== ==== ==== ====\n",
      "\n",
      "= Ridge\n",
      "– Train score: 0.76\n",
      "– Test score: 0.60\n",
      "\n",
      "– Intercept: 26.27\n",
      "\n",
      "– Coef's: \n",
      "[[-0.11709812  0.04644621 -0.05261644  3.92982399 -0.02132999 -1.23938646\n",
      "   0.21089753 -0.01329317 -0.8410677   0.00984228 -0.51699914]]\n",
      "\n",
      "==== ==== ==== ====\n",
      "\n",
      "= Lasso\n",
      "– Train score: 0.72\n",
      "– Test score: 0.55\n",
      "\n",
      "– Intercept: 44.73\n",
      "\n",
      "– Coef's: \n",
      "[-0.05873776  0.04999404 -0.00158882  0.761785    0.01304661 -0.71010927\n",
      "  0.19551641 -0.01414771 -0.80524598  0.00709763 -0.74214555]\n",
      "\n",
      "==== ==== ==== ====\n",
      "\n"
     ]
    }
   ],
   "source": [
    "data_droped = pd.DataFrame(data.data).drop([3,4], axis=1)\n",
    "\n",
    "X_train_d, X_test_d, y_train_d, y_test_d = train_test_split(data_droped, Y, random_state=0)\n",
    "\n",
    "lin_d = LinearRegression()\n",
    "rid_d = Ridge()\n",
    "las_d = Lasso()\n",
    "\n",
    "simple_result(lin_d, X_train_d, X_test_d, y_train_d, y_test_d)\n",
    "simple_result(rid_d, X_train_d, X_test_d, y_train_d, y_test_d)\n",
    "simple_result(las_d, X_train_d, X_test_d, y_train_d, y_test_d)"
   ]
  },
  {
   "cell_type": "code",
   "execution_count": 10,
   "metadata": {},
   "outputs": [],
   "source": [
    "# ========================================================\n",
    "# Function for itteration «alpha» in Ridge and Lasso model\n",
    "# ========================================================\n",
    "\n",
    "def loop_a_find(model, X_train, X_test, y_train, y_test, a_list=[1,10]):\n",
    "    print('= {}'.format(type(model).__name__))\n",
    "    for a in range(a_list[0],a_list[1]+1):\n",
    "        model.set_params(alpha=a)\n",
    "        model.fit(X_train, y_train)\n",
    "        \n",
    "        score_train = model.score(X_train, y_train)\n",
    "        score_test = model.score(X_test, y_test)\n",
    "        \n",
    "        print('a: {}'.format(a))\n",
    "        print('Train score: {:.2f}'.format(score_train))\n",
    "        print('Test score: {:.2f}\\n'.format(score_test))\n",
    "\n",
    "    print('== == == == ==\\n')"
   ]
  },
  {
   "cell_type": "code",
   "execution_count": 11,
   "metadata": {},
   "outputs": [],
   "source": [
    "rid_loop = Ridge()\n",
    "las_loop = Lasso()"
   ]
  },
  {
   "cell_type": "code",
   "execution_count": 12,
   "metadata": {
    "scrolled": false
   },
   "outputs": [
    {
     "name": "stdout",
     "output_type": "stream",
     "text": [
      "= Ridge\n",
      "a: 1\n",
      "Train score: 0.77\n",
      "Test score: 0.63\n",
      "\n",
      "a: 2\n",
      "Train score: 0.77\n",
      "Test score: 0.62\n",
      "\n",
      "a: 3\n",
      "Train score: 0.77\n",
      "Test score: 0.62\n",
      "\n",
      "a: 4\n",
      "Train score: 0.76\n",
      "Test score: 0.62\n",
      "\n",
      "a: 5\n",
      "Train score: 0.76\n",
      "Test score: 0.62\n",
      "\n",
      "a: 6\n",
      "Train score: 0.76\n",
      "Test score: 0.62\n",
      "\n",
      "a: 7\n",
      "Train score: 0.76\n",
      "Test score: 0.61\n",
      "\n",
      "a: 8\n",
      "Train score: 0.76\n",
      "Test score: 0.61\n",
      "\n",
      "a: 9\n",
      "Train score: 0.76\n",
      "Test score: 0.61\n",
      "\n",
      "a: 10\n",
      "Train score: 0.76\n",
      "Test score: 0.61\n",
      "\n",
      "== == == == ==\n",
      "\n",
      "= Ridge\n",
      "a: 100\n",
      "Train score: 0.75\n",
      "Test score: 0.59\n",
      "\n",
      "== == == == ==\n",
      "\n",
      "= Ridge\n",
      "a: 1000000\n",
      "Train score: 0.31\n",
      "Test score: 0.14\n",
      "\n",
      "== == == == ==\n",
      "\n"
     ]
    }
   ],
   "source": [
    "loop_a_find(rid_loop, X_train, X_test, y_train, y_test, a_list=[1, 10])\n",
    "loop_a_find(rid_loop, X_train, X_test, y_train, y_test, a_list=[100, 100])\n",
    "loop_a_find(rid_loop, X_train, X_test, y_train, y_test, a_list=[1000000, 1000000])"
   ]
  },
  {
   "cell_type": "code",
   "execution_count": 13,
   "metadata": {
    "scrolled": false
   },
   "outputs": [
    {
     "name": "stdout",
     "output_type": "stream",
     "text": [
      "= Lasso\n",
      "a: 1\n",
      "Train score: 0.72\n",
      "Test score: 0.55\n",
      "\n",
      "a: 2\n",
      "Train score: 0.66\n",
      "Test score: 0.49\n",
      "\n",
      "a: 3\n",
      "Train score: 0.64\n",
      "Test score: 0.47\n",
      "\n",
      "a: 4\n",
      "Train score: 0.61\n",
      "Test score: 0.46\n",
      "\n",
      "a: 5\n",
      "Train score: 0.60\n",
      "Test score: 0.44\n",
      "\n",
      "a: 6\n",
      "Train score: 0.59\n",
      "Test score: 0.44\n",
      "\n",
      "a: 7\n",
      "Train score: 0.58\n",
      "Test score: 0.43\n",
      "\n",
      "a: 8\n",
      "Train score: 0.57\n",
      "Test score: 0.42\n",
      "\n",
      "a: 9\n",
      "Train score: 0.56\n",
      "Test score: 0.41\n",
      "\n",
      "a: 10\n",
      "Train score: 0.56\n",
      "Test score: 0.40\n",
      "\n",
      "== == == == ==\n",
      "\n",
      "= Lasso\n",
      "a: 100\n",
      "Train score: 0.26\n",
      "Test score: 0.12\n",
      "\n",
      "== == == == ==\n",
      "\n",
      "= Lasso\n",
      "a: 1000000\n",
      "Train score: 0.00\n",
      "Test score: -0.00\n",
      "\n",
      "== == == == ==\n",
      "\n"
     ]
    }
   ],
   "source": [
    "loop_a_find(las_loop, X_train, X_test, y_train, y_test, a_list=[1, 10])\n",
    "loop_a_find(las_loop, X_train, X_test, y_train, y_test, a_list=[100, 100])\n",
    "loop_a_find(las_loop, X_train, X_test, y_train, y_test, a_list=[1000000, 1000000])"
   ]
  },
  {
   "cell_type": "markdown",
   "metadata": {},
   "source": [
    "If we upper «a» —— get worse models results (If it say simple)"
   ]
  },
  {
   "cell_type": "markdown",
   "metadata": {},
   "source": [
    "## Intercept graph"
   ]
  },
  {
   "cell_type": "markdown",
   "metadata": {},
   "source": [
    "Go make plot: changing intercept and checking intercept\n",
    "\n",
    "_PS: Intercept —— is a in equation:_<br>\n",
    "\n",
    "_Ỳ = a + b * Ẋ_"
   ]
  },
  {
   "cell_type": "code",
   "execution_count": 14,
   "metadata": {
    "scrolled": false
   },
   "outputs": [
    {
     "data": {
      "text/plain": [
       "<matplotlib.legend.Legend at 0x7f82d5398860>"
      ]
     },
     "execution_count": 14,
     "metadata": {},
     "output_type": "execute_result"
    },
    {
     "data": {
      "image/png": "[encoded data removed]",
      "text/plain": [
       "<Figure size 720x720 with 1 Axes>"
      ]
     },
     "metadata": {
      "needs_background": "light"
     },
     "output_type": "display_data"
    }
   ],
   "source": [
    "import matplotlib.pyplot as plt\n",
    "%matplotlib inline\n",
    "\n",
    "from matplotlib.pyplot import figure\n",
    "\n",
    "import warnings\n",
    "warnings.simplefilter(action='ignore', category=UserWarning)\n",
    "\n",
    "a_ridge_list = []\n",
    "a_lasso_list = []\n",
    "\n",
    "for a in range(0,11):\n",
    "    rid_int = Ridge(alpha=a).fit(X_train, y_train).intercept_[0]\n",
    "    las_int = Lasso(alpha=a).fit(X_train, y_train).intercept_[0]\n",
    "    \n",
    "    a_ridge_list.append(rid_int)\n",
    "    a_lasso_list.append(las_int)\n",
    "\n",
    "figure(figsize=(10,10))\n",
    "\n",
    "plt.plot(a_ridge_list, 'r', label='ridge')\n",
    "plt.plot(a_lasso_list, 'b', label='lasso')\n",
    "plt.grid(linestyle='--')\n",
    "plt.legend(prop={'size': '20'})"
   ]
  },
  {
   "cell_type": "markdown",
   "metadata": {},
   "source": [
    "![froggy](tenor.gif)"
   ]
  }
 ],
 "metadata": {
  "kernelspec": {
   "display_name": "Python 3",
   "language": "python",
   "name": "python3"
  },
  "language_info": {
   "codemirror_mode": {
    "name": "ipython",
    "version": 3
   },
   "file_extension": ".py",
   "mimetype": "text/x-python",
   "name": "python",
   "nbconvert_exporter": "python",
   "pygments_lexer": "ipython3",
   "version": "3.7.3"
  }
 },
 "nbformat": 4,
 "nbformat_minor": 2
}
