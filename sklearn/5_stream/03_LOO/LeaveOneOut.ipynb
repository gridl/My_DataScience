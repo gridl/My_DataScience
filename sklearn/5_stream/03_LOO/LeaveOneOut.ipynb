{
 "cells": [
  {
   "cell_type": "markdown",
   "metadata": {},
   "source": [
    "# LeaveOneOut\n",
    "\n",
    "It's KFold-like, but it chooses one dot of data as **test**, and other as **train**"
   ]
  },
  {
   "cell_type": "markdown",
   "metadata": {},
   "source": [
    "## Imports"
   ]
  },
  {
   "cell_type": "code",
   "execution_count": 1,
   "metadata": {},
   "outputs": [],
   "source": [
    "from sklearn.datasets import load_iris\n",
    "\n",
    "from sklearn.model_selection import LeaveOneOut\n",
    "from sklearn.model_selection import cross_val_score\n",
    "\n",
    "from sklearn.linear_model import LogisticRegression\n",
    "from sklearn.neighbors import KNeighborsClassifier\n",
    "from sklearn.svm import SVC\n",
    "from sklearn.neural_network import MLPClassifier\n",
    "from sklearn.tree import DecisionTreeClassifier\n",
    "from sklearn.ensemble import RandomForestClassifier"
   ]
  },
  {
   "cell_type": "markdown",
   "metadata": {},
   "source": [
    "## Warning for nude MLPC"
   ]
  },
  {
   "cell_type": "code",
   "execution_count": 2,
   "metadata": {},
   "outputs": [],
   "source": [
    "from warnings import filterwarnings\n",
    "filterwarnings('ignore')"
   ]
  },
  {
   "cell_type": "markdown",
   "metadata": {},
   "source": [
    "## Load data and models"
   ]
  },
  {
   "cell_type": "code",
   "execution_count": 3,
   "metadata": {},
   "outputs": [],
   "source": [
    "iris = load_iris()\n",
    "loo = LeaveOneOut()\n",
    "\n",
    "logreg = LogisticRegression()\n",
    "knc = KNeighborsClassifier()\n",
    "svc = SVC()\n",
    "mlpc = MLPClassifier()\n",
    "tree = DecisionTreeClassifier()\n",
    "rfc = RandomForestClassifier()"
   ]
  },
  {
   "cell_type": "markdown",
   "metadata": {},
   "source": [
    "## Test all and check time"
   ]
  },
  {
   "cell_type": "code",
   "execution_count": 6,
   "metadata": {},
   "outputs": [
    {
     "name": "stdout",
     "output_type": "stream",
     "text": [
      "Wall time: 153 ms\n",
      "= LOGREG =\n",
      "Iterations count:\t150\n",
      "Mean score:\t\t0.95\n",
      "\n",
      "Wall time: 133 ms\n",
      "= KNC =\n",
      "Iterations count:\t150\n",
      "Mean score:\t\t0.97\n",
      "\n",
      "Wall time: 151 ms\n",
      "= SVC =\n",
      "Iterations count:\t150\n",
      "Mean score:\t\t0.97\n",
      "\n",
      "Wall time: 15.4 s\n",
      "= MLPClassifier =\n",
      "Iterations count:\t150\n",
      "Mean score:\t\t0.97\n",
      "\n",
      "Wall time: 116 ms\n",
      "= DecisionTreeClassifier =\n",
      "Iterations count:\t150\n",
      "Mean score:\t\t0.95\n",
      "\n",
      "Wall time: 1.45 s\n",
      "= RandomForestClassifier =\n",
      "Iterations count:\t150\n",
      "Mean score:\t\t0.93\n"
     ]
    }
   ],
   "source": [
    "%time scores = cross_val_score(logreg, iris.data, iris.target, cv=loo)\n",
    "print('= LOGREG =')\n",
    "print('Iterations count:\\t{}'.format(len(scores)))\n",
    "print('Mean score:\\t\\t{:.2f}'.format(scores.mean()), end='\\n\\n')\n",
    "\n",
    "%time scores = cross_val_score(knc, iris.data, iris.target, cv=loo)\n",
    "print('= KNC =')\n",
    "print('Iterations count:\\t{}'.format(len(scores)))\n",
    "print('Mean score:\\t\\t{:.2f}'.format(scores.mean()), end='\\n\\n')\n",
    "\n",
    "%time scores = cross_val_score(svc, iris.data, iris.target, cv=loo)\n",
    "print('= SVC =')\n",
    "print('Iterations count:\\t{}'.format(len(scores)))\n",
    "print('Mean score:\\t\\t{:.2f}'.format(scores.mean()), end='\\n\\n')\n",
    "\n",
    "%time scores = cross_val_score(mlpc, iris.data, iris.target, cv=loo)\n",
    "print('= MLPClassifier =')\n",
    "print('Iterations count:\\t{}'.format(len(scores)))\n",
    "print('Mean score:\\t\\t{:.2f}'.format(scores.mean()), end='\\n\\n')\n",
    "\n",
    "%time scores = cross_val_score(tree, iris.data, iris.target, cv=loo)\n",
    "print('= DecisionTreeClassifier =')\n",
    "print('Iterations count:\\t{}'.format(len(scores)))\n",
    "print('Mean score:\\t\\t{:.2f}'.format(scores.mean()), end='\\n\\n')\n",
    "\n",
    "%time scores = cross_val_score(rfc, iris.data, iris.target, cv=loo)\n",
    "print('= RandomForestClassifier =')\n",
    "print('Iterations count:\\t{}'.format(len(scores)))\n",
    "print('Mean score:\\t\\t{:.2f}'.format(scores.mean()))"
   ]
  },
  {
   "cell_type": "markdown",
   "metadata": {},
   "source": [
    "![gif](stone.gif)"
   ]
  }
 ],
 "metadata": {
  "kernelspec": {
   "display_name": "Python 3",
   "language": "python",
   "name": "python3"
  },
  "language_info": {
   "codemirror_mode": {
    "name": "ipython",
    "version": 3
   },
   "file_extension": ".py",
   "mimetype": "text/x-python",
   "name": "python",
   "nbconvert_exporter": "python",
   "pygments_lexer": "ipython3",
   "version": "3.6.5"
  }
 },
 "nbformat": 4,
 "nbformat_minor": 2
}
