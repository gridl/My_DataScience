{
 "cells": [
  {
   "cell_type": "markdown",
   "metadata": {},
   "source": [
    "# cross_val_score\n",
    "\n",
    "## About\n",
    "\n",
    "Method to test models power\n",
    "\n",
    "## jpegn't example (rus)\n",
    "\n",
    "![gif](jpgn't.gif)\n",
    "\n",
    "## jpegn't example (eng)\n",
    "\n",
    "But very small\n",
    "\n",
    "![png](down.png)"
   ]
  },
  {
   "cell_type": "markdown",
   "metadata": {},
   "source": [
    "## Imports"
   ]
  },
  {
   "cell_type": "code",
   "execution_count": 159,
   "metadata": {},
   "outputs": [],
   "source": [
    "from sklearn.datasets import load_iris\n",
    "from sklearn.linear_model import LogisticRegression\n",
    "from sklearn.model_selection import cross_val_score\n",
    "\n",
    "import numpy as np\n",
    "import pandas as pd\n",
    "\n",
    "import random"
   ]
  },
  {
   "cell_type": "markdown",
   "metadata": {},
   "source": [
    "## Load Data and Model"
   ]
  },
  {
   "cell_type": "code",
   "execution_count": 168,
   "metadata": {},
   "outputs": [],
   "source": [
    "iris = load_iris()\n",
    "logreg = LogisticRegression()"
   ]
  },
  {
   "cell_type": "markdown",
   "metadata": {},
   "source": [
    "## Help-function"
   ]
  },
  {
   "cell_type": "code",
   "execution_count": 173,
   "metadata": {},
   "outputs": [],
   "source": [
    "def pr_res(model, X, Y, cv=3):\n",
    "    \n",
    "    cross_vs = cross_val_score(model, X, Y, cv=cv)\n",
    "\n",
    "    print('SCORES:\\n{}\\n\\n'.format(cross_vs))\n",
    "    print('MEAN:\\n{}'.format(cross_vs.mean()))"
   ]
  },
  {
   "cell_type": "markdown",
   "metadata": {},
   "source": [
    "## cv:3"
   ]
  },
  {
   "cell_type": "code",
   "execution_count": 174,
   "metadata": {},
   "outputs": [
    {
     "name": "stdout",
     "output_type": "stream",
     "text": [
      "SCORES:\n",
      "[0.96078431 0.92156863 0.95833333]\n",
      "\n",
      "\n",
      "MEAN:\n",
      "0.9468954248366014\n"
     ]
    }
   ],
   "source": [
    "pr_res(logreg, iris.data, iris.target, cv=3)"
   ]
  },
  {
   "cell_type": "markdown",
   "metadata": {},
   "source": [
    "## cv: 5"
   ]
  },
  {
   "cell_type": "code",
   "execution_count": 175,
   "metadata": {
    "scrolled": false
   },
   "outputs": [
    {
     "name": "stdout",
     "output_type": "stream",
     "text": [
      "SCORES:\n",
      "[1.         0.96666667 0.93333333 0.9        1.        ]\n",
      "\n",
      "\n",
      "MEAN:\n",
      "0.9600000000000002\n"
     ]
    }
   ],
   "source": [
    "pr_res(logreg, iris.data, iris.target, cv=5)"
   ]
  },
  {
   "cell_type": "markdown",
   "metadata": {},
   "source": [
    "## cv: 8"
   ]
  },
  {
   "cell_type": "code",
   "execution_count": 180,
   "metadata": {},
   "outputs": [
    {
     "name": "stdout",
     "output_type": "stream",
     "text": [
      "SCORES:\n",
      "[1.         1.         0.94444444 0.94444444 0.94444444 0.83333333\n",
      " 1.         1.        ]\n",
      "\n",
      "\n",
      "MEAN:\n",
      "0.9583333333333333\n"
     ]
    }
   ],
   "source": [
    "pr_res(logreg, iris.data, iris.target, cv=8)"
   ]
  },
  {
   "cell_type": "markdown",
   "metadata": {},
   "source": [
    "### One thing\n",
    "\n",
    "There is non-shuffle-data\n",
    "\n",
    "And this result was the same"
   ]
  },
  {
   "cell_type": "markdown",
   "metadata": {},
   "source": [
    "## Shuffling"
   ]
  },
  {
   "cell_type": "code",
   "execution_count": 176,
   "metadata": {},
   "outputs": [],
   "source": [
    "all_iris = pd.DataFrame(iris.data, columns=iris.feature_names)\n",
    "all_iris['target'] = iris.target\n",
    "\n",
    "values = all_iris.values\n",
    "np.random.shuffle(values)\n",
    "\n",
    "all_iris_sh = pd.DataFrame(values)\n",
    "X = all_iris_sh.iloc[:,:-1]\n",
    "Y = all_iris_sh[4]"
   ]
  },
  {
   "cell_type": "markdown",
   "metadata": {},
   "source": [
    "## cv: 3"
   ]
  },
  {
   "cell_type": "code",
   "execution_count": 178,
   "metadata": {},
   "outputs": [
    {
     "name": "stdout",
     "output_type": "stream",
     "text": [
      "SCORES:\n",
      "[0.96078431 0.94117647 0.89583333]\n",
      "\n",
      "\n",
      "MEAN:\n",
      "0.9325980392156863\n"
     ]
    }
   ],
   "source": [
    "pr_res(logreg, X, Y, cv=3)"
   ]
  },
  {
   "cell_type": "markdown",
   "metadata": {},
   "source": [
    "## cv: 5"
   ]
  },
  {
   "cell_type": "code",
   "execution_count": 179,
   "metadata": {},
   "outputs": [
    {
     "name": "stdout",
     "output_type": "stream",
     "text": [
      "SCORES:\n",
      "[1.         0.96666667 0.96666667 0.93333333 0.93333333]\n",
      "\n",
      "\n",
      "MEAN:\n",
      "0.9600000000000002\n"
     ]
    }
   ],
   "source": [
    "pr_res(logreg, X, Y, cv=5)"
   ]
  },
  {
   "cell_type": "markdown",
   "metadata": {},
   "source": [
    "## cv: 8"
   ]
  },
  {
   "cell_type": "code",
   "execution_count": 181,
   "metadata": {
    "scrolled": true
   },
   "outputs": [
    {
     "name": "stdout",
     "output_type": "stream",
     "text": [
      "SCORES:\n",
      "[1.         1.         0.94444444 0.94444444 1.         0.88888889\n",
      " 0.94444444 0.94444444]\n",
      "\n",
      "\n",
      "MEAN:\n",
      "0.9583333333333333\n"
     ]
    }
   ],
   "source": [
    "pr_res(logreg, X, Y, cv=8)"
   ]
  },
  {
   "cell_type": "markdown",
   "metadata": {},
   "source": [
    "## Agressive total\n",
    "\n",
    "- SHUFLE YOUR DATA!\n",
    "- MAKE YOUR DATA BIG!\n",
    "- TEST YOUR MODEL BEFORE!\n",
    "- TRY HARD!"
   ]
  },
  {
   "cell_type": "markdown",
   "metadata": {},
   "source": [
    "![gif](tenor.gif)"
   ]
  }
 ],
 "metadata": {
  "kernelspec": {
   "display_name": "Python 3",
   "language": "python",
   "name": "python3"
  },
  "language_info": {
   "codemirror_mode": {
    "name": "ipython",
    "version": 3
   },
   "file_extension": ".py",
   "mimetype": "text/x-python",
   "name": "python",
   "nbconvert_exporter": "python",
   "pygments_lexer": "ipython3",
   "version": "3.6.5"
  }
 },
 "nbformat": 4,
 "nbformat_minor": 2
}
