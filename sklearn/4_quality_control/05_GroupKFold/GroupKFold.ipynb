{
 "cells": [
  {
   "cell_type": "markdown",
   "metadata": {},
   "source": [
    "# GroupKFold"
   ]
  },
  {
   "cell_type": "markdown",
   "metadata": {},
   "source": [
    "## Imports"
   ]
  },
  {
   "cell_type": "code",
   "execution_count": null,
   "metadata": {},
   "outputs": [],
   "source": [
    "from sklearn.datasets import make_blobs\n",
    "\n",
    "from sklearn.model_selection import cross_val_score, GroupKFold\n",
    "\n",
    "from sklearn.linear_model import LogisticRegression\n",
    "from sklearn.svm import SVC"
   ]
  },
  {
   "cell_type": "markdown",
   "metadata": {},
   "source": [
    "## Make data and groub with 4 classes"
   ]
  },
  {
   "cell_type": "code",
   "execution_count": null,
   "metadata": {},
   "outputs": [],
   "source": [
    "X, Y = make_blobs(n_samples=12, random_state=40)\n",
    "gr = [0,0,0,1,1,1,1,2,2,3,3,3]"
   ]
  },
  {
   "cell_type": "markdown",
   "metadata": {},
   "source": [
    "## n_splits: 2"
   ]
  },
  {
   "cell_type": "code",
   "execution_count": 19,
   "metadata": {},
   "outputs": [
    {
     "name": "stdout",
     "output_type": "stream",
     "text": [
      "LOGREG Mean:\t0.417\n",
      "SVC Mean:\t0.333\n"
     ]
    }
   ],
   "source": [
    "grkfold = GroupKFold(n_splits=2)\n",
    "\n",
    "model = LogisticRegression()\n",
    "scores = cross_val_score(model, X, Y, groups=gr, cv=grkfold)\n",
    "print('LOGREG Mean:\\t{:.3f}'.format(scores.mean()))\n",
    "\n",
    "model = SVC()\n",
    "scores = cross_val_score(model, X, Y, groups=gr, cv=grkfold)\n",
    "print('SVC Mean:\\t{:.3f}'.format(scores.mean()))"
   ]
  },
  {
   "cell_type": "markdown",
   "metadata": {},
   "source": [
    "## n_splits: 3"
   ]
  },
  {
   "cell_type": "code",
   "execution_count": 18,
   "metadata": {},
   "outputs": [
    {
     "name": "stdout",
     "output_type": "stream",
     "text": [
      "LOGREG Mean:\t0.750\n",
      "SVC Mean:\t0.767\n"
     ]
    }
   ],
   "source": [
    "grkfold = GroupKFold(n_splits=3)\n",
    "\n",
    "model = LogisticRegression()\n",
    "scores = cross_val_score(model, X, Y, groups=gr, cv=grkfold)\n",
    "print('LOGREG Mean:\\t{:.3f}'.format(scores.mean()))\n",
    "\n",
    "model = SVC()\n",
    "scores = cross_val_score(model, X, Y, groups=gr, cv=grkfold)\n",
    "print('SVC Mean:\\t{:.3f}'.format(scores.mean()))"
   ]
  },
  {
   "cell_type": "markdown",
   "metadata": {},
   "source": [
    "## n_splits: 4"
   ]
  },
  {
   "cell_type": "code",
   "execution_count": 21,
   "metadata": {},
   "outputs": [
    {
     "name": "stdout",
     "output_type": "stream",
     "text": [
      "LOGREG Mean:\t0.688\n",
      "SVC Mean:\t0.792\n"
     ]
    }
   ],
   "source": [
    "grkfold = GroupKFold(n_splits=4)\n",
    "\n",
    "model = LogisticRegression()\n",
    "scores = cross_val_score(model, X, Y, groups=gr, cv=grkfold)\n",
    "print('LOGREG Mean:\\t{:.3f}'.format(scores.mean()))\n",
    "\n",
    "model = SVC()\n",
    "scores = cross_val_score(model, X, Y, groups=gr, cv=grkfold)\n",
    "print('SVC Mean:\\t{:.3f}'.format(scores.mean()))"
   ]
  },
  {
   "cell_type": "markdown",
   "metadata": {},
   "source": [
    "## Error: n_splits > classes"
   ]
  },
  {
   "cell_type": "code",
   "execution_count": 25,
   "metadata": {},
   "outputs": [
    {
     "name": "stdout",
     "output_type": "stream",
     "text": [
      "Error exception!\n"
     ]
    }
   ],
   "source": [
    "try:\n",
    "    grkfold = GroupKFold(n_splits=5)\n",
    "\n",
    "    model = LogisticRegression()\n",
    "    scores = cross_val_score(model, X, Y, groups=gr, cv=grkfold)\n",
    "    print('LOGREG Mean:\\t{:.3f}'.format(scores.mean()))\n",
    "\n",
    "    model = SVC()\n",
    "    scores = cross_val_score(model, X, Y, groups=gr, cv=grkfold)\n",
    "    print('SVC Mean:\\t{:.3f}'.format(scores.mean()))\n",
    "\n",
    "except ValueError:\n",
    "    print('Error exception!')"
   ]
  },
  {
   "cell_type": "markdown",
   "metadata": {},
   "source": [
    "![gif](frg.gif)"
   ]
  }
 ],
 "metadata": {
  "kernelspec": {
   "display_name": "Python 3",
   "language": "python",
   "name": "python3"
  },
  "language_info": {
   "codemirror_mode": {
    "name": "ipython",
    "version": 3
   },
   "file_extension": ".py",
   "mimetype": "text/x-python",
   "name": "python",
   "nbconvert_exporter": "python",
   "pygments_lexer": "ipython3",
   "version": "3.6.5"
  }
 },
 "nbformat": 4,
 "nbformat_minor": 2
}
