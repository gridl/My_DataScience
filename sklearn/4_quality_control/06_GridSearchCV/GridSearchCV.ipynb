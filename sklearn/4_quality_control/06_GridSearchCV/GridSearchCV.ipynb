{
 "cells": [
  {
   "cell_type": "markdown",
   "metadata": {},
   "source": [
    "# GridSearchCV"
   ]
  },
  {
   "cell_type": "markdown",
   "metadata": {},
   "source": [
    "## Imports"
   ]
  },
  {
   "cell_type": "code",
   "execution_count": 8,
   "metadata": {},
   "outputs": [],
   "source": [
    "from sklearn.datasets import load_iris\n",
    "from sklearn.svm import SVC\n",
    "from sklearn.tree import DecisionTreeClassifier\n",
    "\n",
    "from sklearn.model_selection import GridSearchCV, train_test_split, LeaveOneOut"
   ]
  },
  {
   "cell_type": "markdown",
   "metadata": {},
   "source": [
    "## Prepearing data"
   ]
  },
  {
   "cell_type": "code",
   "execution_count": 9,
   "metadata": {},
   "outputs": [],
   "source": [
    "svc = SVC()\n",
    "tree = DecisionTreeClassifier()\n",
    "loo = LeaveOneOut()\n",
    "iris = load_iris()\n",
    "\n",
    "X_train, X_test, y_train, y_test = train_test_split(iris.data, iris.target, random_state=42)"
   ]
  },
  {
   "cell_type": "markdown",
   "metadata": {},
   "source": [
    "## GridSearchCV + SVC"
   ]
  },
  {
   "cell_type": "code",
   "execution_count": 10,
   "metadata": {},
   "outputs": [
    {
     "data": {
      "text/plain": [
       "GridSearchCV(cv=5, error_score='raise',\n",
       "       estimator=SVC(C=1.0, cache_size=200, class_weight=None, coef0=0.0,\n",
       "  decision_function_shape='ovr', degree=3, gamma='auto', kernel='rbf',\n",
       "  max_iter=-1, probability=False, random_state=None, shrinking=True,\n",
       "  tol=0.001, verbose=False),\n",
       "       fit_params=None, iid=True, n_jobs=1,\n",
       "       param_grid={'C': [0.001, 0.01, 0.1, 1, 10, 100], 'gamma': [0.001, 0.01, 0.1, 1, 10, 100], 'kernel': ['linear', 'poly', 'rbf', 'sigmoid']},\n",
       "       pre_dispatch='2*n_jobs', refit=True, return_train_score='warn',\n",
       "       scoring=None, verbose=0)"
      ]
     },
     "execution_count": 10,
     "metadata": {},
     "output_type": "execute_result"
    }
   ],
   "source": [
    "params = {'C': [0.001, 0.01, 0.1, 1, 10, 100], \n",
    "          'gamma': [0.001, 0.01, 0.1, 1, 10, 100], \n",
    "          'kernel': ['linear', 'poly', 'rbf', 'sigmoid']}\n",
    "\n",
    "\n",
    "grid = GridSearchCV(svc, params, cv=5)\n",
    "\n",
    "grid.fit(X_train, y_train)"
   ]
  },
  {
   "cell_type": "code",
   "execution_count": 11,
   "metadata": {
    "scrolled": true
   },
   "outputs": [
    {
     "name": "stdout",
     "output_type": "stream",
     "text": [
      "→ Train score:\t0.9732142857142857\n",
      "\n",
      "→ Test score:\t1.0\n",
      "\n",
      "→ Best params:\n",
      "{'C': 1, 'gamma': 0.001, 'kernel': 'linear'}\n",
      "\n",
      "→ Best CV score\t0.9642857142857143\n",
      "\n"
     ]
    }
   ],
   "source": [
    "print('→ Train score:\\t{}\\n'.format(grid.score(X_train, y_train)))\n",
    "print('→ Test score:\\t{}\\n'.format(grid.score(X_test, y_test)))\n",
    "print('→ Best params:\\n{}\\n'.format(grid.best_params_))\n",
    "print('→ Best CV score\\t{}\\n'.format(grid.best_score_))"
   ]
  },
  {
   "cell_type": "markdown",
   "metadata": {},
   "source": [
    "## GridSearchCV + TreeC"
   ]
  },
  {
   "cell_type": "code",
   "execution_count": 12,
   "metadata": {},
   "outputs": [
    {
     "data": {
      "text/plain": [
       "GridSearchCV(cv=5, error_score='raise',\n",
       "       estimator=DecisionTreeClassifier(class_weight=None, criterion='gini', max_depth=None,\n",
       "            max_features=None, max_leaf_nodes=None,\n",
       "            min_impurity_decrease=0.0, min_impurity_split=None,\n",
       "            min_samples_leaf=1, min_samples_split=2,\n",
       "            min_weight_fraction_leaf=0.0, presort=False, random_state=None,\n",
       "            splitter='best'),\n",
       "       fit_params=None, iid=True, n_jobs=1,\n",
       "       param_grid={'min_samples_split': [2, 3, 4, 5, 6, 7, 8, 9, 10], 'max_depth': [None, 500, 400, 300, 200, 100, 50, 10], 'min_samples_leaf': [1, 2, 3, 4, 5]},\n",
       "       pre_dispatch='2*n_jobs', refit=True, return_train_score='warn',\n",
       "       scoring=None, verbose=0)"
      ]
     },
     "execution_count": 12,
     "metadata": {},
     "output_type": "execute_result"
    }
   ],
   "source": [
    "tree = DecisionTreeClassifier()\n",
    "params = {'min_samples_split': [2,3,4,5,6,7,8,9,10], \n",
    "          'max_depth': [None, 500, 400, 300, 200, 100, 50, 10], \n",
    "          'min_samples_leaf': [1,2,3,4,5]}\n",
    "\n",
    "grid = GridSearchCV(tree, params, cv=5)\n",
    "\n",
    "grid.fit(X_train, y_train)"
   ]
  },
  {
   "cell_type": "code",
   "execution_count": 13,
   "metadata": {},
   "outputs": [
    {
     "name": "stdout",
     "output_type": "stream",
     "text": [
      "→ Train score:\t0.9642857142857143\n",
      "\n",
      "→ Test score:\t1.0\n",
      "\n",
      "→ Best params:\n",
      "{'max_depth': None, 'min_samples_leaf': 3, 'min_samples_split': 4}\n",
      "\n",
      "→ Best CV score\t0.9553571428571429\n",
      "\n"
     ]
    }
   ],
   "source": [
    "print('→ Train score:\\t{}\\n'.format(grid.score(X_train, y_train)))\n",
    "print('→ Test score:\\t{}\\n'.format(grid.score(X_test, y_test)))\n",
    "print('→ Best params:\\n{}\\n'.format(grid.best_params_))\n",
    "print('→ Best CV score\\t{}\\n'.format(grid.best_score_))"
   ]
  },
  {
   "cell_type": "markdown",
   "metadata": {},
   "source": [
    "## GridSearchCV + TreeC + LeaveOneOut"
   ]
  },
  {
   "cell_type": "code",
   "execution_count": 14,
   "metadata": {},
   "outputs": [
    {
     "name": "stdout",
     "output_type": "stream",
     "text": [
      "Wall time: 40.4 s\n"
     ]
    },
    {
     "data": {
      "text/plain": [
       "GridSearchCV(cv=LeaveOneOut(), error_score='raise',\n",
       "       estimator=DecisionTreeClassifier(class_weight=None, criterion='gini', max_depth=None,\n",
       "            max_features=None, max_leaf_nodes=None,\n",
       "            min_impurity_decrease=0.0, min_impurity_split=None,\n",
       "            min_samples_leaf=1, min_samples_split=2,\n",
       "            min_weight_fraction_leaf=0.0, presort=False, random_state=None,\n",
       "            splitter='best'),\n",
       "       fit_params=None, iid=True, n_jobs=1,\n",
       "       param_grid={'min_samples_split': [2, 3, 4, 5, 6, 7, 8, 9, 10], 'max_depth': [None, 500, 400, 300, 200, 100, 50, 10], 'min_samples_leaf': [1, 2, 3, 4, 5]},\n",
       "       pre_dispatch='2*n_jobs', refit=True, return_train_score='warn',\n",
       "       scoring=None, verbose=0)"
      ]
     },
     "execution_count": 14,
     "metadata": {},
     "output_type": "execute_result"
    }
   ],
   "source": [
    "params = {'min_samples_split': [2,3,4,5,6,7,8,9,10], \n",
    "          'max_depth': [None, 500, 400, 300, 200, 100, 50, 10], \n",
    "          'min_samples_leaf': [1,2,3,4,5]}\n",
    "\n",
    "grid = GridSearchCV(tree, params, cv=loo)\n",
    "\n",
    "%time grid.fit(X_train, y_train)"
   ]
  },
  {
   "cell_type": "code",
   "execution_count": 15,
   "metadata": {},
   "outputs": [
    {
     "name": "stdout",
     "output_type": "stream",
     "text": [
      "→ Train score:\t0.9642857142857143\n",
      "\n",
      "→ Test score:\t1.0\n",
      "\n",
      "→ Best params:\n",
      "{'max_depth': 300, 'min_samples_leaf': 3, 'min_samples_split': 3}\n",
      "\n",
      "→ Best CV score\t0.9642857142857143\n",
      "\n"
     ]
    }
   ],
   "source": [
    "print('→ Train score:\\t{}\\n'.format(grid.score(X_train, y_train)))\n",
    "print('→ Test score:\\t{}\\n'.format(grid.score(X_test, y_test)))\n",
    "print('→ Best params:\\n{}\\n'.format(grid.best_params_))\n",
    "print('→ Best CV score\\t{}\\n'.format(grid.best_score_))"
   ]
  },
  {
   "cell_type": "markdown",
   "metadata": {},
   "source": [
    "![gif](gg.gif)"
   ]
  }
 ],
 "metadata": {
  "kernelspec": {
   "display_name": "Python 3",
   "language": "python",
   "name": "python3"
  },
  "language_info": {
   "codemirror_mode": {
    "name": "ipython",
    "version": 3
   },
   "file_extension": ".py",
   "mimetype": "text/x-python",
   "name": "python",
   "nbconvert_exporter": "python",
   "pygments_lexer": "ipython3",
   "version": "3.6.5"
  }
 },
 "nbformat": 4,
 "nbformat_minor": 2
}
