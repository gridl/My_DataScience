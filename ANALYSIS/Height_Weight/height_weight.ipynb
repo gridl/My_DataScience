{
 "cells": [
  {
   "cell_type": "code",
   "execution_count": 235,
   "metadata": {},
   "outputs": [],
   "source": [
    "import pandas as pd\n",
    "import numpy as np\n",
    "\n",
    "import matplotlib.pyplot as plt\n",
    "%matplotlib inline\n",
    "\n",
    "from sklearn.neighbors import KNeighborsRegressor\n",
    "from sklearn.linear_model import LinearRegression\n",
    "from sklearn.neural_network import MLPRegressor\n",
    "from sklearn.model_selection import train_test_split\n",
    "\n",
    "# https://www.kaggle.com/mustafaali96/weight-height/downloads/weight-height.zip/1"
   ]
  },
  {
   "cell_type": "code",
   "execution_count": 16,
   "metadata": {},
   "outputs": [
    {
     "data": {
      "text/html": [
       "<div>\n",
       "<style scoped>\n",
       "    .dataframe tbody tr th:only-of-type {\n",
       "        vertical-align: middle;\n",
       "    }\n",
       "\n",
       "    .dataframe tbody tr th {\n",
       "        vertical-align: top;\n",
       "    }\n",
       "\n",
       "    .dataframe thead th {\n",
       "        text-align: right;\n",
       "    }\n",
       "</style>\n",
       "<table border=\"1\" class=\"dataframe\">\n",
       "  <thead>\n",
       "    <tr style=\"text-align: right;\">\n",
       "      <th></th>\n",
       "      <th>Gender</th>\n",
       "      <th>Height</th>\n",
       "      <th>Weight</th>\n",
       "    </tr>\n",
       "  </thead>\n",
       "  <tbody>\n",
       "    <tr>\n",
       "      <th>0</th>\n",
       "      <td>Male</td>\n",
       "      <td>73.847017</td>\n",
       "      <td>241.893563</td>\n",
       "    </tr>\n",
       "    <tr>\n",
       "      <th>1</th>\n",
       "      <td>Male</td>\n",
       "      <td>68.781904</td>\n",
       "      <td>162.310473</td>\n",
       "    </tr>\n",
       "    <tr>\n",
       "      <th>2</th>\n",
       "      <td>Male</td>\n",
       "      <td>74.110105</td>\n",
       "      <td>212.740856</td>\n",
       "    </tr>\n",
       "    <tr>\n",
       "      <th>3</th>\n",
       "      <td>Male</td>\n",
       "      <td>71.730978</td>\n",
       "      <td>220.042470</td>\n",
       "    </tr>\n",
       "    <tr>\n",
       "      <th>4</th>\n",
       "      <td>Male</td>\n",
       "      <td>69.881796</td>\n",
       "      <td>206.349801</td>\n",
       "    </tr>\n",
       "  </tbody>\n",
       "</table>\n",
       "</div>"
      ],
      "text/plain": [
       "  Gender     Height      Weight\n",
       "0   Male  73.847017  241.893563\n",
       "1   Male  68.781904  162.310473\n",
       "2   Male  74.110105  212.740856\n",
       "3   Male  71.730978  220.042470\n",
       "4   Male  69.881796  206.349801"
      ]
     },
     "execution_count": 16,
     "metadata": {},
     "output_type": "execute_result"
    }
   ],
   "source": [
    "data = pd.read_csv('weight-height.csv')\n",
    "data.head()"
   ]
  },
  {
   "cell_type": "code",
   "execution_count": 17,
   "metadata": {},
   "outputs": [],
   "source": [
    "data['Height'] *= 2.54\n",
    "data['Weight'] /= 2.205"
   ]
  },
  {
   "cell_type": "code",
   "execution_count": 18,
   "metadata": {},
   "outputs": [
    {
     "data": {
      "text/html": [
       "<div>\n",
       "<style scoped>\n",
       "    .dataframe tbody tr th:only-of-type {\n",
       "        vertical-align: middle;\n",
       "    }\n",
       "\n",
       "    .dataframe tbody tr th {\n",
       "        vertical-align: top;\n",
       "    }\n",
       "\n",
       "    .dataframe thead th {\n",
       "        text-align: right;\n",
       "    }\n",
       "</style>\n",
       "<table border=\"1\" class=\"dataframe\">\n",
       "  <thead>\n",
       "    <tr style=\"text-align: right;\">\n",
       "      <th></th>\n",
       "      <th>Gender</th>\n",
       "      <th>Height</th>\n",
       "      <th>Weight</th>\n",
       "    </tr>\n",
       "  </thead>\n",
       "  <tbody>\n",
       "    <tr>\n",
       "      <th>0</th>\n",
       "      <td>Male</td>\n",
       "      <td>187.571423</td>\n",
       "      <td>109.702296</td>\n",
       "    </tr>\n",
       "    <tr>\n",
       "      <th>1</th>\n",
       "      <td>Male</td>\n",
       "      <td>174.706036</td>\n",
       "      <td>73.610192</td>\n",
       "    </tr>\n",
       "    <tr>\n",
       "      <th>2</th>\n",
       "      <td>Male</td>\n",
       "      <td>188.239668</td>\n",
       "      <td>96.481114</td>\n",
       "    </tr>\n",
       "    <tr>\n",
       "      <th>3</th>\n",
       "      <td>Male</td>\n",
       "      <td>182.196685</td>\n",
       "      <td>99.792504</td>\n",
       "    </tr>\n",
       "    <tr>\n",
       "      <th>4</th>\n",
       "      <td>Male</td>\n",
       "      <td>177.499761</td>\n",
       "      <td>93.582676</td>\n",
       "    </tr>\n",
       "  </tbody>\n",
       "</table>\n",
       "</div>"
      ],
      "text/plain": [
       "  Gender      Height      Weight\n",
       "0   Male  187.571423  109.702296\n",
       "1   Male  174.706036   73.610192\n",
       "2   Male  188.239668   96.481114\n",
       "3   Male  182.196685   99.792504\n",
       "4   Male  177.499761   93.582676"
      ]
     },
     "execution_count": 18,
     "metadata": {},
     "output_type": "execute_result"
    }
   ],
   "source": [
    "data.head()"
   ]
  },
  {
   "cell_type": "code",
   "execution_count": 19,
   "metadata": {},
   "outputs": [
    {
     "data": {
      "text/plain": [
       "Female    5000\n",
       "Male      5000\n",
       "Name: Gender, dtype: int64"
      ]
     },
     "execution_count": 19,
     "metadata": {},
     "output_type": "execute_result"
    }
   ],
   "source": [
    "data['Gender'].value_counts()"
   ]
  },
  {
   "cell_type": "code",
   "execution_count": 37,
   "metadata": {},
   "outputs": [],
   "source": [
    "data_male = data[data['Gender'] == 'Male'].copy()\n",
    "data_female = data[data['Gender'] == 'Female'].copy()"
   ]
  },
  {
   "cell_type": "code",
   "execution_count": 21,
   "metadata": {},
   "outputs": [
    {
     "data": {
      "text/html": [
       "<div>\n",
       "<style scoped>\n",
       "    .dataframe tbody tr th:only-of-type {\n",
       "        vertical-align: middle;\n",
       "    }\n",
       "\n",
       "    .dataframe tbody tr th {\n",
       "        vertical-align: top;\n",
       "    }\n",
       "\n",
       "    .dataframe thead th {\n",
       "        text-align: right;\n",
       "    }\n",
       "</style>\n",
       "<table border=\"1\" class=\"dataframe\">\n",
       "  <thead>\n",
       "    <tr style=\"text-align: right;\">\n",
       "      <th></th>\n",
       "      <th>Height</th>\n",
       "      <th>Weight</th>\n",
       "    </tr>\n",
       "  </thead>\n",
       "  <tbody>\n",
       "    <tr>\n",
       "      <th>count</th>\n",
       "      <td>5000.000000</td>\n",
       "      <td>5000.000000</td>\n",
       "    </tr>\n",
       "    <tr>\n",
       "      <th>mean</th>\n",
       "      <td>175.326919</td>\n",
       "      <td>84.816608</td>\n",
       "    </tr>\n",
       "    <tr>\n",
       "      <th>std</th>\n",
       "      <td>7.272940</td>\n",
       "      <td>8.971045</td>\n",
       "    </tr>\n",
       "    <tr>\n",
       "      <th>min</th>\n",
       "      <td>148.353539</td>\n",
       "      <td>51.203147</td>\n",
       "    </tr>\n",
       "    <tr>\n",
       "      <th>25%</th>\n",
       "      <td>170.623685</td>\n",
       "      <td>78.860665</td>\n",
       "    </tr>\n",
       "    <tr>\n",
       "      <th>50%</th>\n",
       "      <td>175.330380</td>\n",
       "      <td>84.822470</td>\n",
       "    </tr>\n",
       "    <tr>\n",
       "      <th>75%</th>\n",
       "      <td>180.311409</td>\n",
       "      <td>90.865216</td>\n",
       "    </tr>\n",
       "    <tr>\n",
       "      <th>max</th>\n",
       "      <td>200.656806</td>\n",
       "      <td>122.444308</td>\n",
       "    </tr>\n",
       "  </tbody>\n",
       "</table>\n",
       "</div>"
      ],
      "text/plain": [
       "            Height       Weight\n",
       "count  5000.000000  5000.000000\n",
       "mean    175.326919    84.816608\n",
       "std       7.272940     8.971045\n",
       "min     148.353539    51.203147\n",
       "25%     170.623685    78.860665\n",
       "50%     175.330380    84.822470\n",
       "75%     180.311409    90.865216\n",
       "max     200.656806   122.444308"
      ]
     },
     "execution_count": 21,
     "metadata": {},
     "output_type": "execute_result"
    }
   ],
   "source": [
    "data_male.describe()"
   ]
  },
  {
   "cell_type": "code",
   "execution_count": 22,
   "metadata": {},
   "outputs": [
    {
     "data": {
      "text/html": [
       "<div>\n",
       "<style scoped>\n",
       "    .dataframe tbody tr th:only-of-type {\n",
       "        vertical-align: middle;\n",
       "    }\n",
       "\n",
       "    .dataframe tbody tr th {\n",
       "        vertical-align: top;\n",
       "    }\n",
       "\n",
       "    .dataframe thead th {\n",
       "        text-align: right;\n",
       "    }\n",
       "</style>\n",
       "<table border=\"1\" class=\"dataframe\">\n",
       "  <thead>\n",
       "    <tr style=\"text-align: right;\">\n",
       "      <th></th>\n",
       "      <th>Height</th>\n",
       "      <th>Weight</th>\n",
       "    </tr>\n",
       "  </thead>\n",
       "  <tbody>\n",
       "    <tr>\n",
       "      <th>count</th>\n",
       "      <td>5000.000000</td>\n",
       "      <td>5000.000000</td>\n",
       "    </tr>\n",
       "    <tr>\n",
       "      <th>mean</th>\n",
       "      <td>161.820285</td>\n",
       "      <td>61.614555</td>\n",
       "    </tr>\n",
       "    <tr>\n",
       "      <th>std</th>\n",
       "      <td>6.848561</td>\n",
       "      <td>8.626970</td>\n",
       "    </tr>\n",
       "    <tr>\n",
       "      <th>min</th>\n",
       "      <td>137.828359</td>\n",
       "      <td>29.342461</td>\n",
       "    </tr>\n",
       "    <tr>\n",
       "      <th>25%</th>\n",
       "      <td>157.211881</td>\n",
       "      <td>55.752425</td>\n",
       "    </tr>\n",
       "    <tr>\n",
       "      <th>50%</th>\n",
       "      <td>161.876547</td>\n",
       "      <td>61.731330</td>\n",
       "    </tr>\n",
       "    <tr>\n",
       "      <th>75%</th>\n",
       "      <td>166.531456</td>\n",
       "      <td>67.487948</td>\n",
       "    </tr>\n",
       "    <tr>\n",
       "      <th>max</th>\n",
       "      <td>186.409548</td>\n",
       "      <td>91.717557</td>\n",
       "    </tr>\n",
       "  </tbody>\n",
       "</table>\n",
       "</div>"
      ],
      "text/plain": [
       "            Height       Weight\n",
       "count  5000.000000  5000.000000\n",
       "mean    161.820285    61.614555\n",
       "std       6.848561     8.626970\n",
       "min     137.828359    29.342461\n",
       "25%     157.211881    55.752425\n",
       "50%     161.876547    61.731330\n",
       "75%     166.531456    67.487948\n",
       "max     186.409548    91.717557"
      ]
     },
     "execution_count": 22,
     "metadata": {},
     "output_type": "execute_result"
    }
   ],
   "source": [
    "data_female.describe()"
   ]
  },
  {
   "cell_type": "code",
   "execution_count": 105,
   "metadata": {},
   "outputs": [
    {
     "data": {
      "text/plain": [
       "count    5000.000000\n",
       "mean      175.326919\n",
       "std         7.272940\n",
       "min       148.353539\n",
       "25%       170.623685\n",
       "50%       175.330380\n",
       "75%       180.311409\n",
       "max       200.656806\n",
       "Name: Height, dtype: float64"
      ]
     },
     "execution_count": 105,
     "metadata": {},
     "output_type": "execute_result"
    }
   ],
   "source": [
    "data_male['Height'].describe()"
   ]
  },
  {
   "cell_type": "code",
   "execution_count": 173,
   "metadata": {},
   "outputs": [
    {
     "data": {
      "image/png": "[encoded data removed]",
      "text/plain": [
       "<Figure size 1440x720 with 4 Axes>"
      ]
     },
     "metadata": {
      "needs_background": "light"
     },
     "output_type": "display_data"
    }
   ],
   "source": [
    "fig, axes = plt.subplots(2,2, figsize=(20,10))\n",
    "plt.subplots_adjust(wspace=0, hspace=0)\n",
    "\n",
    "axes[0,0].hist(data_male['Height'], label='Male Height', bins=100, color='red')\n",
    "axes[0,1].hist(data_male['Weight'], label='Male Weight', bins=100, color='red', alpha=0.4)\n",
    "axes[1,0].hist(data_female['Height'], label='Female Height', bins=100, color='blue')\n",
    "axes[1,1].hist(data_female['Weight'], label='Female Weight', bins=100, color='blue', alpha=0.4)\n",
    "\n",
    "axes[0,0].legend(loc=2, fontsize=20)\n",
    "axes[0,1].legend(loc=2, fontsize=20)\n",
    "axes[1,0].legend(loc=2, fontsize=20)\n",
    "axes[1,1].legend(loc=2, fontsize=20)\n",
    "\n",
    "\n",
    "plt.show()"
   ]
  },
  {
   "cell_type": "code",
   "execution_count": 99,
   "metadata": {},
   "outputs": [
    {
     "name": "stdout",
     "output_type": "stream",
     "text": [
      "mean:\t175.33\n"
     ]
    }
   ],
   "source": [
    "mean = data_male['Height'].mean()\n",
    "print('mean:\\t{:.2f}'.format(mean))"
   ]
  },
  {
   "cell_type": "code",
   "execution_count": 38,
   "metadata": {},
   "outputs": [
    {
     "data": {
      "text/plain": [
       "0    149.927893\n",
       "1      0.385495\n",
       "2    166.739089\n",
       "3     47.193692\n",
       "4      4.721246\n",
       "Name: Height_d, dtype: float64"
      ]
     },
     "execution_count": 38,
     "metadata": {},
     "output_type": "execute_result"
    }
   ],
   "source": [
    "data_male['Height_d'] = (data_male['Height'] - mean) ** 2\n",
    "data_male['Height_d'].head()"
   ]
  },
  {
   "cell_type": "code",
   "execution_count": 100,
   "metadata": {},
   "outputs": [
    {
     "name": "stdout",
     "output_type": "stream",
     "text": [
      "disp:\t52.89\n"
     ]
    }
   ],
   "source": [
    "disp = data_male['Height_d'].mean()\n",
    "print('disp:\\t{:.2f}'.format(disp))"
   ]
  },
  {
   "cell_type": "code",
   "execution_count": 101,
   "metadata": {},
   "outputs": [
    {
     "name": "stdout",
     "output_type": "stream",
     "text": [
      "std:\t7.27\n"
     ]
    }
   ],
   "source": [
    "std = disp ** 0.5\n",
    "print('std:\\t{:.2f}'.format(std))"
   ]
  },
  {
   "cell_type": "code",
   "execution_count": 114,
   "metadata": {},
   "outputs": [],
   "source": [
    "def get_stats(series, title='noname'):\n",
    "    # print title\n",
    "    print('= {} =\\n'.format(title.upper()))\n",
    "    \n",
    "    # getting describe\n",
    "    descr = series.describe()\n",
    "    \n",
    "    # mean getting and print\n",
    "    mean = descr['mean']\n",
    "    print('= Mean:\\t{:.0f}'.format(mean))\n",
    "\n",
    "    # std getting and print\n",
    "    std = descr['std']\n",
    "    print('= Std:\\t{:.0f}'.format(std))\n",
    "    \n",
    "    # splitter\n",
    "    print('\\n= = = =\\n')\n",
    "    \n",
    "    # percent deviations\n",
    "    ## 68%\n",
    "    devi_1 = [mean - std, mean + std]\n",
    "    ## 95%\n",
    "    devi_2 = [mean - 2 * std, mean + 2 * std]\n",
    "    ## 99.7%\n",
    "    devi_3 = [mean - 3 * std, mean + 3 * std]\n",
    "    \n",
    "    #print deviations\n",
    "    print('= 68% is from\\t\\t{:.0f} to {:.0f}'.format(devi_1[0], devi_1[1]))\n",
    "    print('= 95% is from\\t\\t{:.0f} to {:.0f}'.format(devi_2[0], devi_2[1]))\n",
    "    print('= 99.7% is from\\t\\t{:.0f} to {:.0f}'.format(devi_3[0], devi_3[1]))"
   ]
  },
  {
   "cell_type": "code",
   "execution_count": 115,
   "metadata": {},
   "outputs": [
    {
     "name": "stdout",
     "output_type": "stream",
     "text": [
      "= MALE HEIGHT =\n",
      "\n",
      "= Mean:\t175\n",
      "= Std:\t7\n",
      "\n",
      "= = = =\n",
      "\n",
      "= 68% is from\t\t168 to 183\n",
      "= 95% is from\t\t161 to 190\n",
      "= 99.7% is from\t\t154 to 197\n"
     ]
    }
   ],
   "source": [
    "get_stats(data_male['Height'], title='Male Height')"
   ]
  },
  {
   "cell_type": "code",
   "execution_count": 116,
   "metadata": {},
   "outputs": [
    {
     "name": "stdout",
     "output_type": "stream",
     "text": [
      "= MALE WEIGHT =\n",
      "\n",
      "= Mean:\t85\n",
      "= Std:\t9\n",
      "\n",
      "= = = =\n",
      "\n",
      "= 68% is from\t\t76 to 94\n",
      "= 95% is from\t\t67 to 103\n",
      "= 99.7% is from\t\t58 to 112\n"
     ]
    }
   ],
   "source": [
    "get_stats(data_male['Weight'], title='Male Weight')"
   ]
  },
  {
   "cell_type": "code",
   "execution_count": 117,
   "metadata": {},
   "outputs": [
    {
     "name": "stdout",
     "output_type": "stream",
     "text": [
      "= FEMALE HEIGHT =\n",
      "\n",
      "= Mean:\t162\n",
      "= Std:\t7\n",
      "\n",
      "= = = =\n",
      "\n",
      "= 68% is from\t\t155 to 169\n",
      "= 95% is from\t\t148 to 176\n",
      "= 99.7% is from\t\t141 to 182\n"
     ]
    }
   ],
   "source": [
    "get_stats(data_female['Height'], title='Female Height')"
   ]
  },
  {
   "cell_type": "code",
   "execution_count": 118,
   "metadata": {
    "scrolled": true
   },
   "outputs": [
    {
     "name": "stdout",
     "output_type": "stream",
     "text": [
      "= FEMALE WEIGHT =\n",
      "\n",
      "= Mean:\t62\n",
      "= Std:\t9\n",
      "\n",
      "= = = =\n",
      "\n",
      "= 68% is from\t\t53 to 70\n",
      "= 95% is from\t\t44 to 79\n",
      "= 99.7% is from\t\t36 to 87\n"
     ]
    }
   ],
   "source": [
    "get_stats(data_female['Weight'], title='Female Weight')"
   ]
  },
  {
   "cell_type": "code",
   "execution_count": 191,
   "metadata": {},
   "outputs": [],
   "source": [
    "X_train, X_test, y_train, y_test = train_test_split(data_male['Height'], data_male['Weight'])"
   ]
  },
  {
   "cell_type": "code",
   "execution_count": 230,
   "metadata": {},
   "outputs": [
    {
     "data": {
      "text/plain": [
       "0.826981790199253"
      ]
     },
     "execution_count": 230,
     "metadata": {},
     "output_type": "execute_result"
    }
   ],
   "source": [
    "knr3 = KNeighborsRegressor(n_neighbors=3)\n",
    "knr3.fit(X_train.values.reshape(-1,1), y_train.values.reshape(-1,1))\n",
    "knr3.score(X_train.values.reshape(-1,1), y_train.values.reshape(-1,1))"
   ]
  },
  {
   "cell_type": "code",
   "execution_count": 207,
   "metadata": {},
   "outputs": [
    {
     "data": {
      "text/plain": [
       "0.791243426107014"
      ]
     },
     "execution_count": 207,
     "metadata": {},
     "output_type": "execute_result"
    }
   ],
   "source": [
    "knr5 = KNeighborsRegressor(n_neighbors=5)\n",
    "knr5.fit(X_train.values.reshape(-1,1), y_train.values.reshape(-1,1))\n",
    "knr5.score(X_train.values.reshape(-1,1), y_train.values.reshape(-1,1))"
   ]
  },
  {
   "cell_type": "code",
   "execution_count": 208,
   "metadata": {},
   "outputs": [
    {
     "data": {
      "text/plain": [
       "0.7768360917448904"
      ]
     },
     "execution_count": 208,
     "metadata": {},
     "output_type": "execute_result"
    }
   ],
   "source": [
    "knr7 = KNeighborsRegressor(n_neighbors=7)\n",
    "knr7.fit(X_train.values.reshape(-1,1), y_train.values.reshape(-1,1))\n",
    "knr7.score(X_train.values.reshape(-1,1), y_train.values.reshape(-1,1))"
   ]
  },
  {
   "cell_type": "code",
   "execution_count": null,
   "metadata": {},
   "outputs": [],
   "source": []
  },
  {
   "cell_type": "code",
   "execution_count": 231,
   "metadata": {},
   "outputs": [
    {
     "data": {
      "text/plain": [
       "array([[76.9541182]])"
      ]
     },
     "execution_count": 231,
     "metadata": {},
     "output_type": "execute_result"
    }
   ],
   "source": [
    "knr3.predict([[164]])"
   ]
  },
  {
   "cell_type": "code",
   "execution_count": 225,
   "metadata": {},
   "outputs": [],
   "source": [
    "array = []\n",
    "xaxis = range(154, 198)\n",
    "\n",
    "for h in xaxis:\n",
    "    ans = knr3.predict([[h]])\n",
    "    array.append(ans[0][0])"
   ]
  },
  {
   "cell_type": "code",
   "execution_count": 226,
   "metadata": {},
   "outputs": [
    {
     "data": {
      "image/png": "[encoded data removed]",
      "text/plain": [
       "<Figure size 1440x720 with 1 Axes>"
      ]
     },
     "metadata": {
      "needs_background": "light"
     },
     "output_type": "display_data"
    }
   ],
   "source": [
    "plt.figure(figsize=(20,10))\n",
    "plt.plot(xaxis, array)\n",
    "plt.show()"
   ]
  },
  {
   "cell_type": "code",
   "execution_count": 233,
   "metadata": {},
   "outputs": [
    {
     "data": {
      "text/plain": [
       "0.7418087515721397"
      ]
     },
     "execution_count": 233,
     "metadata": {},
     "output_type": "execute_result"
    }
   ],
   "source": [
    "lr = LinearRegression()\n",
    "lr.fit(X_train.values.reshape(-1,1), y_train.values.reshape(-1,1))\n",
    "lr.score(X_train.values.reshape(-1,1), y_train.values.reshape(-1,1))"
   ]
  },
  {
   "cell_type": "code",
   "execution_count": 234,
   "metadata": {},
   "outputs": [
    {
     "data": {
      "text/plain": [
       "array([[72.7833104]])"
      ]
     },
     "execution_count": 234,
     "metadata": {},
     "output_type": "execute_result"
    }
   ],
   "source": [
    "lr.predict([[164]])"
   ]
  },
  {
   "cell_type": "code",
   "execution_count": 249,
   "metadata": {},
   "outputs": [
    {
     "name": "stderr",
     "output_type": "stream",
     "text": [
      "/home/andy/anaconda3/lib/python3.7/site-packages/sklearn/neural_network/multilayer_perceptron.py:1321: DataConversionWarning: A column-vector y was passed when a 1d array was expected. Please change the shape of y to (n_samples, ), for example using ravel().\n",
      "  y = column_or_1d(y, warn=True)\n"
     ]
    },
    {
     "data": {
      "text/plain": [
       "0.5218700312281489"
      ]
     },
     "execution_count": 249,
     "metadata": {},
     "output_type": "execute_result"
    }
   ],
   "source": [
    "mlp = MLPRegressor(hidden_layer_sizes=(90, 10))\n",
    "mlp.fit(X_train.values.reshape(-1,1), y_train.values.reshape(-1,1))\n",
    "mlp.score(X_train.values.reshape(-1,1), y_train.values.reshape(-1,1))"
   ]
  },
  {
   "cell_type": "code",
   "execution_count": 250,
   "metadata": {},
   "outputs": [
    {
     "data": {
      "text/plain": [
       "array([79.54181609])"
      ]
     },
     "execution_count": 250,
     "metadata": {},
     "output_type": "execute_result"
    }
   ],
   "source": [
    "mlp.predict([[164]])"
   ]
  },
  {
   "cell_type": "code",
   "execution_count": null,
   "metadata": {},
   "outputs": [],
   "source": []
  }
 ],
 "metadata": {
  "kernelspec": {
   "display_name": "Python 3",
   "language": "python",
   "name": "python3"
  },
  "language_info": {
   "codemirror_mode": {
    "name": "ipython",
    "version": 3
   },
   "file_extension": ".py",
   "mimetype": "text/x-python",
   "name": "python",
   "nbconvert_exporter": "python",
   "pygments_lexer": "ipython3",
   "version": "3.7.3"
  }
 },
 "nbformat": 4,
 "nbformat_minor": 2
}
