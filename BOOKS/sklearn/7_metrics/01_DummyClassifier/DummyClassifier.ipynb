{
 "cells": [
  {
   "cell_type": "markdown",
   "metadata": {},
   "source": [
    "# DummyClassifier\n",
    "\n",
    "## About from sklearn\n",
    "\n",
    "DummyClassifier is a classifier that makes predictions using simple rules\n",
    "\n",
    "This classifier is useful as a simple baseline to compare with other (real) classifiers\n",
    "\n",
    "Do not use it for real problems"
   ]
  },
  {
   "cell_type": "markdown",
   "metadata": {},
   "source": [
    "## Imports"
   ]
  },
  {
   "cell_type": "code",
   "execution_count": 20,
   "metadata": {},
   "outputs": [],
   "source": [
    "from sklearn.datasets import load_digits\n",
    "from sklearn.dummy import DummyClassifier\n",
    "from sklearn.neural_network import MLPClassifier\n",
    "from sklearn.model_selection import train_test_split, cross_val_score, KFold"
   ]
  },
  {
   "cell_type": "markdown",
   "metadata": {},
   "source": [
    "## Load Data"
   ]
  },
  {
   "cell_type": "code",
   "execution_count": 4,
   "metadata": {},
   "outputs": [],
   "source": [
    "dig = load_digits()\n",
    "\n",
    "data = dig.data\n",
    "target = dig.target"
   ]
  },
  {
   "cell_type": "markdown",
   "metadata": {},
   "source": [
    "## Make data with two classes\n",
    "\n",
    "- If class 1 → class 1\n",
    "- If not class → class 0"
   ]
  },
  {
   "cell_type": "code",
   "execution_count": 31,
   "metadata": {},
   "outputs": [
    {
     "name": "stdout",
     "output_type": "stream",
     "text": [
      "Count of ZERO-class:\t\t1615\n",
      "Count of ONE-class:\t\t182\n",
      "Percentage of ONE to ZERO:\t11.3%\n"
     ]
    }
   ],
   "source": [
    "target_new = [] \n",
    "\n",
    "class_0count = 0\n",
    "class_1count = 0\n",
    "\n",
    "for t in target:\n",
    "    if t != 1:\n",
    "        target_new.append(0)\n",
    "        class_0count += 1\n",
    "    else:\n",
    "        target_new.append(1)\n",
    "        class_1count += 1\n",
    "        \n",
    "print('Count of ZERO-class:\\t\\t{}'.format(class_0count))\n",
    "print('Count of ONE-class:\\t\\t{}'.format(class_1count))\n",
    "\n",
    "print('Percentage of ONE to ZERO:\\t{:.1f}%'.format(class_1count * 100 / class_0count))"
   ]
  },
  {
   "cell_type": "markdown",
   "metadata": {},
   "source": [
    "## Training MLPC"
   ]
  },
  {
   "cell_type": "code",
   "execution_count": 32,
   "metadata": {},
   "outputs": [
    {
     "name": "stdout",
     "output_type": "stream",
     "text": [
      "MLPC Scores:\n",
      "[0.9933222  0.99499165 0.99165275]\n",
      "\n",
      "MLPC Mean:\n",
      "0.993322203672788\n",
      "\n"
     ]
    }
   ],
   "source": [
    "kf = KFold(shuffle=True, random_state=0)\n",
    "mlpc = MLPClassifier()\n",
    "\n",
    "scores = cross_val_score(mlpc, data, target_new, cv=kf, n_jobs=-1)\n",
    "\n",
    "print('MLPC Scores:\\n{}\\n'.format(scores))\n",
    "print('MLPC Mean:\\n{}\\n'.format(scores.mean()))"
   ]
  },
  {
   "cell_type": "markdown",
   "metadata": {},
   "source": [
    "## Training DummyC"
   ]
  },
  {
   "cell_type": "code",
   "execution_count": 33,
   "metadata": {},
   "outputs": [
    {
     "name": "stdout",
     "output_type": "stream",
     "text": [
      "Dummy Scores:\n",
      "[0.8230384  0.81803005 0.80467446]\n",
      "\n",
      "Dummy Mean:\n",
      "0.8152476349471341\n",
      "\n"
     ]
    }
   ],
   "source": [
    "dummyC = DummyClassifier()\n",
    "\n",
    "scores = cross_val_score(dummyC, data, target_new, cv=kf, n_jobs=-1)\n",
    "\n",
    "print('Dummy Scores:\\n{}\\n'.format(scores))\n",
    "print('Dummy Mean:\\n{}\\n'.format(scores.mean()))"
   ]
  },
  {
   "cell_type": "markdown",
   "metadata": {},
   "source": [
    "## Total\n",
    "\n",
    "MLPC makes result better, than Dummy. It's mean — model MLPC in this conditions more profitable\n"
   ]
  },
  {
   "cell_type": "markdown",
   "metadata": {},
   "source": [
    "![gif](7MRw.gif)"
   ]
  },
  {
   "cell_type": "code",
   "execution_count": null,
   "metadata": {},
   "outputs": [],
   "source": []
  }
 ],
 "metadata": {
  "kernelspec": {
   "display_name": "Python 3",
   "language": "python",
   "name": "python3"
  },
  "language_info": {
   "codemirror_mode": {
    "name": "ipython",
    "version": 3
   },
   "file_extension": ".py",
   "mimetype": "text/x-python",
   "name": "python",
   "nbconvert_exporter": "python",
   "pygments_lexer": "ipython3",
   "version": "3.6.5"
  }
 },
 "nbformat": 4,
 "nbformat_minor": 2
}
