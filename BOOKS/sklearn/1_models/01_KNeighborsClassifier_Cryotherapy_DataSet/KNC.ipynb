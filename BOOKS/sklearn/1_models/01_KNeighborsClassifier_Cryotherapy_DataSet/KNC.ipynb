{
 "cells": [
  {
   "cell_type": "markdown",
   "metadata": {},
   "source": [
    "# KNeighborsClassifier for Cryotherapy dataset"
   ]
  },
  {
   "cell_type": "markdown",
   "metadata": {},
   "source": [
    "Hello!\n",
    "\n",
    "I did a little analysis of the «KNeighborsClassifier» model"
   ]
  },
  {
   "cell_type": "markdown",
   "metadata": {},
   "source": [
    "## About dataset"
   ]
  },
  {
   "cell_type": "markdown",
   "metadata": {},
   "source": [
    "This is Cryotherapy data<br>\n",
    "I had downloaded it from UCI: https://archive.ics.uci.edu<br>\n",
    "Link to this DataSet: https://archive.ics.uci.edu/ml/datasets/Cryotherapy+Dataset+"
   ]
  },
  {
   "cell_type": "markdown",
   "metadata": {},
   "source": [
    "There are no description about DataSet\n",
    "\n",
    "And i had understood it as i can :]"
   ]
  },
  {
   "cell_type": "markdown",
   "metadata": {},
   "source": [
    "There are 6 features about pacients and 90 objects\n",
    "\n",
    "1. «sex» → encoded male or female by 1 and 2 numbers. But i really dont know what number mean ^^\n",
    "2. «age» → just age of pacients in INT variables\n",
    "3. «Time» → time in minutes (i think) of procedure duration\n",
    "4. «Number_of_Warts» → numder of warts im pacient\n",
    "5. «Type» → type of warts. There are three types. But the second type is the rarest\n",
    "6. «Area» → area of warts summary in mm (i think)"
   ]
  },
  {
   "cell_type": "markdown",
   "metadata": {},
   "source": [
    "## First look\n",
    "\n",
    "The data was in .xlsx format when i had download it\n",
    "\n",
    "I transferred them to .csv with the help of LibreOffice.\n",
    "\n",
    "Load the module in the standard way, load the data and look at the first 10 lines"
   ]
  },
  {
   "cell_type": "code",
   "execution_count": 1,
   "metadata": {},
   "outputs": [
    {
     "data": {
      "text/html": [
       "<div>\n",
       "<style scoped>\n",
       "    .dataframe tbody tr th:only-of-type {\n",
       "        vertical-align: middle;\n",
       "    }\n",
       "\n",
       "    .dataframe tbody tr th {\n",
       "        vertical-align: top;\n",
       "    }\n",
       "\n",
       "    .dataframe thead th {\n",
       "        text-align: right;\n",
       "    }\n",
       "</style>\n",
       "<table border=\"1\" class=\"dataframe\">\n",
       "  <thead>\n",
       "    <tr style=\"text-align: right;\">\n",
       "      <th></th>\n",
       "      <th>sex</th>\n",
       "      <th>age</th>\n",
       "      <th>Time</th>\n",
       "      <th>Number_of_Warts</th>\n",
       "      <th>Type</th>\n",
       "      <th>Area</th>\n",
       "      <th>Result_of_Treatment</th>\n",
       "    </tr>\n",
       "  </thead>\n",
       "  <tbody>\n",
       "    <tr>\n",
       "      <th>0</th>\n",
       "      <td>1</td>\n",
       "      <td>35</td>\n",
       "      <td>12.00</td>\n",
       "      <td>5</td>\n",
       "      <td>1</td>\n",
       "      <td>100</td>\n",
       "      <td>0</td>\n",
       "    </tr>\n",
       "    <tr>\n",
       "      <th>1</th>\n",
       "      <td>1</td>\n",
       "      <td>29</td>\n",
       "      <td>7.00</td>\n",
       "      <td>5</td>\n",
       "      <td>1</td>\n",
       "      <td>96</td>\n",
       "      <td>1</td>\n",
       "    </tr>\n",
       "    <tr>\n",
       "      <th>2</th>\n",
       "      <td>1</td>\n",
       "      <td>50</td>\n",
       "      <td>8.00</td>\n",
       "      <td>1</td>\n",
       "      <td>3</td>\n",
       "      <td>132</td>\n",
       "      <td>0</td>\n",
       "    </tr>\n",
       "    <tr>\n",
       "      <th>3</th>\n",
       "      <td>1</td>\n",
       "      <td>32</td>\n",
       "      <td>11.75</td>\n",
       "      <td>7</td>\n",
       "      <td>3</td>\n",
       "      <td>750</td>\n",
       "      <td>0</td>\n",
       "    </tr>\n",
       "    <tr>\n",
       "      <th>4</th>\n",
       "      <td>1</td>\n",
       "      <td>67</td>\n",
       "      <td>9.25</td>\n",
       "      <td>1</td>\n",
       "      <td>1</td>\n",
       "      <td>42</td>\n",
       "      <td>0</td>\n",
       "    </tr>\n",
       "    <tr>\n",
       "      <th>5</th>\n",
       "      <td>1</td>\n",
       "      <td>41</td>\n",
       "      <td>8.00</td>\n",
       "      <td>2</td>\n",
       "      <td>2</td>\n",
       "      <td>20</td>\n",
       "      <td>1</td>\n",
       "    </tr>\n",
       "    <tr>\n",
       "      <th>6</th>\n",
       "      <td>1</td>\n",
       "      <td>36</td>\n",
       "      <td>11.00</td>\n",
       "      <td>2</td>\n",
       "      <td>1</td>\n",
       "      <td>8</td>\n",
       "      <td>0</td>\n",
       "    </tr>\n",
       "    <tr>\n",
       "      <th>7</th>\n",
       "      <td>1</td>\n",
       "      <td>59</td>\n",
       "      <td>3.50</td>\n",
       "      <td>3</td>\n",
       "      <td>3</td>\n",
       "      <td>20</td>\n",
       "      <td>0</td>\n",
       "    </tr>\n",
       "    <tr>\n",
       "      <th>8</th>\n",
       "      <td>1</td>\n",
       "      <td>20</td>\n",
       "      <td>4.50</td>\n",
       "      <td>12</td>\n",
       "      <td>1</td>\n",
       "      <td>6</td>\n",
       "      <td>1</td>\n",
       "    </tr>\n",
       "    <tr>\n",
       "      <th>9</th>\n",
       "      <td>2</td>\n",
       "      <td>34</td>\n",
       "      <td>11.25</td>\n",
       "      <td>3</td>\n",
       "      <td>3</td>\n",
       "      <td>150</td>\n",
       "      <td>0</td>\n",
       "    </tr>\n",
       "  </tbody>\n",
       "</table>\n",
       "</div>"
      ],
      "text/plain": [
       "   sex  age   Time  Number_of_Warts  Type  Area  Result_of_Treatment\n",
       "0    1   35  12.00                5     1   100                    0\n",
       "1    1   29   7.00                5     1    96                    1\n",
       "2    1   50   8.00                1     3   132                    0\n",
       "3    1   32  11.75                7     3   750                    0\n",
       "4    1   67   9.25                1     1    42                    0\n",
       "5    1   41   8.00                2     2    20                    1\n",
       "6    1   36  11.00                2     1     8                    0\n",
       "7    1   59   3.50                3     3    20                    0\n",
       "8    1   20   4.50               12     1     6                    1\n",
       "9    2   34  11.25                3     3   150                    0"
      ]
     },
     "execution_count": 1,
     "metadata": {},
     "output_type": "execute_result"
    }
   ],
   "source": [
    "import pandas as pd\n",
    "\n",
    "data = pd.read_csv('Cryotherapy.csv')\n",
    "data.head(10)"
   ]
  },
  {
   "cell_type": "markdown",
   "metadata": {},
   "source": [
    "Good!\n",
    "\n",
    "Data loaded correctly. Go ahead\n",
    "\n",
    "Lets check shape of our data"
   ]
  },
  {
   "cell_type": "code",
   "execution_count": 2,
   "metadata": {},
   "outputs": [
    {
     "data": {
      "text/plain": [
       "(90, 7)"
      ]
     },
     "execution_count": 2,
     "metadata": {},
     "output_type": "execute_result"
    }
   ],
   "source": [
    "data.shape"
   ]
  },
  {
   "cell_type": "markdown",
   "metadata": {},
   "source": [
    "OK! We have 90 rows and 7 columns\n",
    "\n",
    "This is small, but not bad for a small illustrative example :3\n",
    "\n",
    "Now you need to look at the information about the data using the function describe()"
   ]
  },
  {
   "cell_type": "code",
   "execution_count": 3,
   "metadata": {
    "scrolled": true
   },
   "outputs": [
    {
     "data": {
      "text/html": [
       "<div>\n",
       "<style scoped>\n",
       "    .dataframe tbody tr th:only-of-type {\n",
       "        vertical-align: middle;\n",
       "    }\n",
       "\n",
       "    .dataframe tbody tr th {\n",
       "        vertical-align: top;\n",
       "    }\n",
       "\n",
       "    .dataframe thead th {\n",
       "        text-align: right;\n",
       "    }\n",
       "</style>\n",
       "<table border=\"1\" class=\"dataframe\">\n",
       "  <thead>\n",
       "    <tr style=\"text-align: right;\">\n",
       "      <th></th>\n",
       "      <th>sex</th>\n",
       "      <th>age</th>\n",
       "      <th>Time</th>\n",
       "      <th>Number_of_Warts</th>\n",
       "      <th>Type</th>\n",
       "      <th>Area</th>\n",
       "      <th>Result_of_Treatment</th>\n",
       "    </tr>\n",
       "  </thead>\n",
       "  <tbody>\n",
       "    <tr>\n",
       "      <th>count</th>\n",
       "      <td>90.000000</td>\n",
       "      <td>90.000000</td>\n",
       "      <td>90.000000</td>\n",
       "      <td>90.000000</td>\n",
       "      <td>90.000000</td>\n",
       "      <td>90.000000</td>\n",
       "      <td>90.000000</td>\n",
       "    </tr>\n",
       "    <tr>\n",
       "      <th>mean</th>\n",
       "      <td>1.477778</td>\n",
       "      <td>28.600000</td>\n",
       "      <td>7.666667</td>\n",
       "      <td>5.511111</td>\n",
       "      <td>1.700000</td>\n",
       "      <td>85.833333</td>\n",
       "      <td>0.533333</td>\n",
       "    </tr>\n",
       "    <tr>\n",
       "      <th>std</th>\n",
       "      <td>0.502304</td>\n",
       "      <td>13.360852</td>\n",
       "      <td>3.406661</td>\n",
       "      <td>3.567155</td>\n",
       "      <td>0.905042</td>\n",
       "      <td>131.733153</td>\n",
       "      <td>0.501683</td>\n",
       "    </tr>\n",
       "    <tr>\n",
       "      <th>min</th>\n",
       "      <td>1.000000</td>\n",
       "      <td>15.000000</td>\n",
       "      <td>0.250000</td>\n",
       "      <td>1.000000</td>\n",
       "      <td>1.000000</td>\n",
       "      <td>4.000000</td>\n",
       "      <td>0.000000</td>\n",
       "    </tr>\n",
       "    <tr>\n",
       "      <th>25%</th>\n",
       "      <td>1.000000</td>\n",
       "      <td>18.000000</td>\n",
       "      <td>4.562500</td>\n",
       "      <td>2.000000</td>\n",
       "      <td>1.000000</td>\n",
       "      <td>20.000000</td>\n",
       "      <td>0.000000</td>\n",
       "    </tr>\n",
       "    <tr>\n",
       "      <th>50%</th>\n",
       "      <td>1.000000</td>\n",
       "      <td>25.500000</td>\n",
       "      <td>8.500000</td>\n",
       "      <td>5.000000</td>\n",
       "      <td>1.000000</td>\n",
       "      <td>70.000000</td>\n",
       "      <td>1.000000</td>\n",
       "    </tr>\n",
       "    <tr>\n",
       "      <th>75%</th>\n",
       "      <td>2.000000</td>\n",
       "      <td>35.000000</td>\n",
       "      <td>10.687500</td>\n",
       "      <td>8.000000</td>\n",
       "      <td>3.000000</td>\n",
       "      <td>100.000000</td>\n",
       "      <td>1.000000</td>\n",
       "    </tr>\n",
       "    <tr>\n",
       "      <th>max</th>\n",
       "      <td>2.000000</td>\n",
       "      <td>67.000000</td>\n",
       "      <td>12.000000</td>\n",
       "      <td>12.000000</td>\n",
       "      <td>3.000000</td>\n",
       "      <td>750.000000</td>\n",
       "      <td>1.000000</td>\n",
       "    </tr>\n",
       "  </tbody>\n",
       "</table>\n",
       "</div>"
      ],
      "text/plain": [
       "             sex        age       Time  Number_of_Warts       Type  \\\n",
       "count  90.000000  90.000000  90.000000        90.000000  90.000000   \n",
       "mean    1.477778  28.600000   7.666667         5.511111   1.700000   \n",
       "std     0.502304  13.360852   3.406661         3.567155   0.905042   \n",
       "min     1.000000  15.000000   0.250000         1.000000   1.000000   \n",
       "25%     1.000000  18.000000   4.562500         2.000000   1.000000   \n",
       "50%     1.000000  25.500000   8.500000         5.000000   1.000000   \n",
       "75%     2.000000  35.000000  10.687500         8.000000   3.000000   \n",
       "max     2.000000  67.000000  12.000000        12.000000   3.000000   \n",
       "\n",
       "             Area  Result_of_Treatment  \n",
       "count   90.000000            90.000000  \n",
       "mean    85.833333             0.533333  \n",
       "std    131.733153             0.501683  \n",
       "min      4.000000             0.000000  \n",
       "25%     20.000000             0.000000  \n",
       "50%     70.000000             1.000000  \n",
       "75%    100.000000             1.000000  \n",
       "max    750.000000             1.000000  "
      ]
     },
     "execution_count": 3,
     "metadata": {},
     "output_type": "execute_result"
    }
   ],
   "source": [
    "data.describe()"
   ]
  },
  {
   "cell_type": "markdown",
   "metadata": {},
   "source": [
    "We see that in the set there are no NA values. It's good\n",
    "\n",
    "But there are several problems:<br>\n",
    "1. «sex» column is not bool<br>\n",
    "2. «sex» column has unaccustomed values — 1 or 2 (not 0 or 1)<br>\n",
    "3. «Type» column is not «category» type<br>\n",
    "4. «Result_of_Treatment» is not «bool» type<br>"
   ]
  },
  {
   "cell_type": "markdown",
   "metadata": {},
   "source": [
    "## Prepearing data"
   ]
  },
  {
   "cell_type": "markdown",
   "metadata": {},
   "source": [
    "Lets fix it!"
   ]
  },
  {
   "cell_type": "code",
   "execution_count": 4,
   "metadata": {},
   "outputs": [
    {
     "data": {
      "text/plain": [
       "sex                        bool\n",
       "age                       int64\n",
       "Time                    float64\n",
       "Number_of_Warts           int64\n",
       "Type                   category\n",
       "Area                      int64\n",
       "Result_of_Treatment        bool\n",
       "dtype: object"
      ]
     },
     "execution_count": 4,
     "metadata": {},
     "output_type": "execute_result"
    }
   ],
   "source": [
    "data['sex'].replace(2,0)\n",
    "data['sex'] = data['sex'].astype(bool)\n",
    "data['Type'] = data['Type'].astype('category')\n",
    "data['Result_of_Treatment'] = data['Result_of_Treatment'].astype(bool)\n",
    "data.dtypes"
   ]
  },
  {
   "cell_type": "markdown",
   "metadata": {},
   "source": [
    "Now looks better!"
   ]
  },
  {
   "cell_type": "code",
   "execution_count": 5,
   "metadata": {},
   "outputs": [
    {
     "data": {
      "text/html": [
       "<div>\n",
       "<style scoped>\n",
       "    .dataframe tbody tr th:only-of-type {\n",
       "        vertical-align: middle;\n",
       "    }\n",
       "\n",
       "    .dataframe tbody tr th {\n",
       "        vertical-align: top;\n",
       "    }\n",
       "\n",
       "    .dataframe thead th {\n",
       "        text-align: right;\n",
       "    }\n",
       "</style>\n",
       "<table border=\"1\" class=\"dataframe\">\n",
       "  <thead>\n",
       "    <tr style=\"text-align: right;\">\n",
       "      <th></th>\n",
       "      <th>age</th>\n",
       "      <th>Time</th>\n",
       "      <th>Number_of_Warts</th>\n",
       "      <th>Area</th>\n",
       "    </tr>\n",
       "  </thead>\n",
       "  <tbody>\n",
       "    <tr>\n",
       "      <th>count</th>\n",
       "      <td>90.000000</td>\n",
       "      <td>90.000000</td>\n",
       "      <td>90.000000</td>\n",
       "      <td>90.000000</td>\n",
       "    </tr>\n",
       "    <tr>\n",
       "      <th>mean</th>\n",
       "      <td>28.600000</td>\n",
       "      <td>7.666667</td>\n",
       "      <td>5.511111</td>\n",
       "      <td>85.833333</td>\n",
       "    </tr>\n",
       "    <tr>\n",
       "      <th>std</th>\n",
       "      <td>13.360852</td>\n",
       "      <td>3.406661</td>\n",
       "      <td>3.567155</td>\n",
       "      <td>131.733153</td>\n",
       "    </tr>\n",
       "    <tr>\n",
       "      <th>min</th>\n",
       "      <td>15.000000</td>\n",
       "      <td>0.250000</td>\n",
       "      <td>1.000000</td>\n",
       "      <td>4.000000</td>\n",
       "    </tr>\n",
       "    <tr>\n",
       "      <th>25%</th>\n",
       "      <td>18.000000</td>\n",
       "      <td>4.562500</td>\n",
       "      <td>2.000000</td>\n",
       "      <td>20.000000</td>\n",
       "    </tr>\n",
       "    <tr>\n",
       "      <th>50%</th>\n",
       "      <td>25.500000</td>\n",
       "      <td>8.500000</td>\n",
       "      <td>5.000000</td>\n",
       "      <td>70.000000</td>\n",
       "    </tr>\n",
       "    <tr>\n",
       "      <th>75%</th>\n",
       "      <td>35.000000</td>\n",
       "      <td>10.687500</td>\n",
       "      <td>8.000000</td>\n",
       "      <td>100.000000</td>\n",
       "    </tr>\n",
       "    <tr>\n",
       "      <th>max</th>\n",
       "      <td>67.000000</td>\n",
       "      <td>12.000000</td>\n",
       "      <td>12.000000</td>\n",
       "      <td>750.000000</td>\n",
       "    </tr>\n",
       "  </tbody>\n",
       "</table>\n",
       "</div>"
      ],
      "text/plain": [
       "             age       Time  Number_of_Warts        Area\n",
       "count  90.000000  90.000000        90.000000   90.000000\n",
       "mean   28.600000   7.666667         5.511111   85.833333\n",
       "std    13.360852   3.406661         3.567155  131.733153\n",
       "min    15.000000   0.250000         1.000000    4.000000\n",
       "25%    18.000000   4.562500         2.000000   20.000000\n",
       "50%    25.500000   8.500000         5.000000   70.000000\n",
       "75%    35.000000  10.687500         8.000000  100.000000\n",
       "max    67.000000  12.000000        12.000000  750.000000"
      ]
     },
     "execution_count": 5,
     "metadata": {},
     "output_type": "execute_result"
    }
   ],
   "source": [
    "data.describe()"
   ]
  },
  {
   "cell_type": "markdown",
   "metadata": {},
   "source": [
    "Make two DataFrame with features and with target"
   ]
  },
  {
   "cell_type": "code",
   "execution_count": 6,
   "metadata": {},
   "outputs": [],
   "source": [
    "Y = data['Result_of_Treatment']\n",
    "X = data.drop('Result_of_Treatment', axis=1)"
   ]
  },
  {
   "cell_type": "markdown",
   "metadata": {},
   "source": [
    "Load KNC and train_test_split to divide set on\n",
    "1. X and Y for train model\n",
    "2. X and Y for test model"
   ]
  },
  {
   "cell_type": "code",
   "execution_count": 7,
   "metadata": {},
   "outputs": [],
   "source": [
    "from sklearn.neighbors import KNeighborsClassifier\n",
    "from sklearn.model_selection import train_test_split\n",
    "\n",
    "X_train, X_test, y_train, y_test = train_test_split(X, Y, test_size=0.22, random_state=11)"
   ]
  },
  {
   "cell_type": "markdown",
   "metadata": {},
   "source": [
    "I choose test_size 22% to make 20 rows in test data\n",
    "\n",
    "If model will do just one error — accuracy will not change by more 5%\n",
    "\n",
    "I think, its good idea :]"
   ]
  },
  {
   "cell_type": "markdown",
   "metadata": {},
   "source": [
    "Lets check shapes of X_train and X_test"
   ]
  },
  {
   "cell_type": "code",
   "execution_count": 8,
   "metadata": {},
   "outputs": [
    {
     "name": "stdout",
     "output_type": "stream",
     "text": [
      "Shape of X_train : (70, 6)\n",
      "Shape of X_test : (20, 6)\n"
     ]
    }
   ],
   "source": [
    "print('Shape of X_train : {}'.format(X_train.shape))\n",
    "print('Shape of X_test : {}'.format(X_test.shape))"
   ]
  },
  {
   "cell_type": "markdown",
   "metadata": {},
   "source": [
    "Excelent!"
   ]
  },
  {
   "cell_type": "markdown",
   "metadata": {},
   "source": [
    "## Time to test KNC >:]"
   ]
  },
  {
   "cell_type": "markdown",
   "metadata": {},
   "source": [
    "### Check nude model \\*\\_\\_\\_\\_\\_\\_\\*"
   ]
  },
  {
   "cell_type": "markdown",
   "metadata": {},
   "source": [
    "Lets try without parametres :)"
   ]
  },
  {
   "cell_type": "code",
   "execution_count": 22,
   "metadata": {},
   "outputs": [
    {
     "name": "stdout",
     "output_type": "stream",
     "text": [
      "Score with Train Data: 0.8571428571428571\n",
      "Score with Test Data: 0.75\n"
     ]
    }
   ],
   "source": [
    "knn_simple = KNeighborsClassifier()\n",
    "knn_simple.fit(X_train, y_train)\n",
    "\n",
    "print(\"Score with Train Data: {}\".format(knn_simple.score(X_train, y_train)))\n",
    "print(\"Score with Test Data: {}\".format(knn_simple.score(X_test, y_test)))"
   ]
  },
  {
   "cell_type": "markdown",
   "metadata": {},
   "source": [
    "OK\n",
    "\n",
    "«Train» result is better then «Test». Its normally :)"
   ]
  },
  {
   "cell_type": "markdown",
   "metadata": {},
   "source": [
    "### First experement with «n»"
   ]
  },
  {
   "cell_type": "markdown",
   "metadata": {},
   "source": [
    "I did a loop with «i» from 1 to 10\n",
    "\n",
    "«i» is value of «n_neighbors»\n",
    "\n",
    "I wanted to find best parameter of «n»\n",
    "\n",
    "Go watch result!"
   ]
  },
  {
   "cell_type": "code",
   "execution_count": 31,
   "metadata": {},
   "outputs": [
    {
     "name": "stdout",
     "output_type": "stream",
     "text": [
      "= Set of bests n:\n",
      "Best n of Train: 1\n",
      "Best n of Test: 4\n",
      "\n",
      "\n",
      "= Set of results of model with bests train scores:\n",
      "Best Train score with n from Best Train Model: 1.0\n",
      "Best Test score with n from Best Train Model: 0.8\n",
      "\n",
      "\n",
      "= Set of results of model with bests test scores:\n",
      "Best Train score with n from Best Test Model: 0.9\n",
      "Best Test score with n from Best Test Model: 0.85\n",
      "\n",
      "\n"
     ]
    }
   ],
   "source": [
    "# =======================\n",
    "# Make an empty variables\n",
    "# =======================\n",
    "\n",
    "best_n_train = 0\n",
    "best_n_test = 0\n",
    "\n",
    "best_score_train = 0\n",
    "best_score_train_test = 0\n",
    "\n",
    "best_score_test = 0\n",
    "best_score_test_train = 0\n",
    "\n",
    "# ==========\n",
    "# Start loop\n",
    "# ==========\n",
    "\n",
    "for i in range (1,11):\n",
    "    knn_i = KNeighborsClassifier(n_neighbors=i)\n",
    "    knn_i.fit(X_train, y_train)\n",
    "    \n",
    "    score_train = knn_i.score(X_train, y_train)\n",
    "    score_test = knn_i.score(X_test, y_test)\n",
    "    \n",
    "    if score_train > best_score_train:\n",
    "        best_score_train = score_train\n",
    "        best_score_train_test = score_test\n",
    "        best_n_train = i\n",
    "    \n",
    "    if score_test > best_score_test:\n",
    "        best_score_test_train = score_train\n",
    "        best_score_test = score_test\n",
    "        best_n_test = i\n",
    "        \n",
    "# ================\n",
    "# Show the results\n",
    "# ================\n",
    "\n",
    "print(\"= Set of bests n:\")\n",
    "print(\"Best n of Train: {}\".format(best_n_train))\n",
    "print(\"Best n of Test: {}\".format(best_n_test))\n",
    "print(\"\\n\")\n",
    "\n",
    "print(\"= Set of results of model with bests train scores:\")\n",
    "print(\"Best Train score with n from Best Train Model: {}\".format(best_score_train))\n",
    "print(\"Best Test score with n from Best Train Model: {}\".format(best_score_train_test))\n",
    "print(\"\\n\")\n",
    "\n",
    "print(\"= Set of results of model with bests test scores:\")\n",
    "print(\"Best Train score with n from Best Test Model: {}\".format(best_score_test_train))\n",
    "print(\"Best Test score with n from Best Test Model: {}\".format(best_score_test))\n",
    "print(\"\\n\")"
   ]
  },
  {
   "cell_type": "markdown",
   "metadata": {},
   "source": [
    "The results show some things:\n",
    "1. KNC-Model with n=1 make 100% result with train data (its ok)\n",
    "2. KNC Model with best train result — is not matter good score with train data (80%)\n",
    "3. KNC-Model with best test result make train result some lower, but test resul some better"
   ]
  },
  {
   "cell_type": "markdown",
   "metadata": {},
   "source": [
    "### Simple check «weights» with n = best test"
   ]
  },
  {
   "cell_type": "markdown",
   "metadata": {},
   "source": [
    "Lest check KNC-Model with best test n and change another parameter — «weights = 'distance'»"
   ]
  },
  {
   "cell_type": "code",
   "execution_count": 11,
   "metadata": {},
   "outputs": [
    {
     "name": "stdout",
     "output_type": "stream",
     "text": [
      "1.0\n",
      "0.8\n"
     ]
    }
   ],
   "source": [
    "knn_best_dist = KNeighborsClassifier(n_neighbors=best_n_test, weights='distance')\n",
    "knn_best_dist.fit(X_train, y_train)\n",
    "\n",
    "print(knn_best_dist.score(X_train, y_train))\n",
    "print(knn_best_dist.score(X_test, y_test))"
   ]
  },
  {
   "cell_type": "markdown",
   "metadata": {},
   "source": [
    "OK\n",
    "\n",
    "Model made train results better, but test results lower"
   ]
  },
  {
   "cell_type": "markdown",
   "metadata": {},
   "source": [
    "### Check parameter «algorithm» with n = best test"
   ]
  },
  {
   "cell_type": "markdown",
   "metadata": {},
   "source": [
    "Well\n",
    "\n",
    "Go next and start play with parameter «algoritm» :)"
   ]
  },
  {
   "cell_type": "code",
   "execution_count": 36,
   "metadata": {},
   "outputs": [
    {
     "name": "stdout",
     "output_type": "stream",
     "text": [
      "Train score: 0.9\n",
      "Test score: 0.85\n"
     ]
    }
   ],
   "source": [
    "knn_best_balltree = KNeighborsClassifier(n_neighbors=best_n_test, algorithm='ball_tree')\n",
    "knn_best_balltree.fit(X_train, y_train)\n",
    "\n",
    "print(\"Train score: {}\".format(knn_best_balltree.score(X_train, y_train)))\n",
    "print(\"Test score: {}\".format(knn_best_balltree.score(X_test, y_test)))"
   ]
  },
  {
   "cell_type": "code",
   "execution_count": 37,
   "metadata": {},
   "outputs": [
    {
     "name": "stdout",
     "output_type": "stream",
     "text": [
      "Train score: 0.9\n",
      "Test score: 0.85\n"
     ]
    }
   ],
   "source": [
    "knn_best_kdtree = KNeighborsClassifier(n_neighbors=best_n_test, algorithm='kd_tree')\n",
    "knn_best_kdtree.fit(X_train, y_train)\n",
    "\n",
    "print(\"Train score: {}\".format(knn_best_kdtree.score(X_train, y_train)))\n",
    "print(\"Test score: {}\".format(knn_best_kdtree.score(X_test, y_test)))"
   ]
  },
  {
   "cell_type": "code",
   "execution_count": 38,
   "metadata": {},
   "outputs": [
    {
     "name": "stdout",
     "output_type": "stream",
     "text": [
      "Train score: 0.9\n",
      "Test score: 0.85\n"
     ]
    }
   ],
   "source": [
    "knn_best_brute = KNeighborsClassifier(n_neighbors=best_n_test, algorithm='brute')\n",
    "knn_best_brute.fit(X_train, y_train)\n",
    "\n",
    "print(\"Train score: {}\".format(knn_best_brute.score(X_train, y_train)))\n",
    "print(\"Test score: {}\".format(knn_best_brute.score(X_test, y_test)))"
   ]
  },
  {
   "cell_type": "markdown",
   "metadata": {},
   "source": [
    "Like we see: this parametres do not affect in this case ^^"
   ]
  },
  {
   "cell_type": "markdown",
   "metadata": {},
   "source": [
    "### Check «weights» with nude model"
   ]
  },
  {
   "cell_type": "code",
   "execution_count": 39,
   "metadata": {},
   "outputs": [
    {
     "name": "stdout",
     "output_type": "stream",
     "text": [
      "Train score: 1.0\n",
      "Test score: 0.85\n"
     ]
    }
   ],
   "source": [
    "knn_simple_dist = KNeighborsClassifier(weights='distance')\n",
    "knn_simple_dist.fit(X_train, y_train)\n",
    "\n",
    "print(\"Train score: {}\".format(knn_simple_dist.score(X_train, y_train)))\n",
    "print(\"Test score: {}\".format(knn_simple_dist.score(X_test, y_test)))"
   ]
  },
  {
   "cell_type": "markdown",
   "metadata": {},
   "source": [
    "Good!\n",
    "\n",
    "It shows best results now :)\n",
    "\n",
    "But default value of n — is 5. I think, we should play with this model more to find something else"
   ]
  },
  {
   "cell_type": "markdown",
   "metadata": {},
   "source": [
    "### Check «algoritm» with nude model"
   ]
  },
  {
   "cell_type": "code",
   "execution_count": 40,
   "metadata": {
    "scrolled": true
   },
   "outputs": [
    {
     "name": "stdout",
     "output_type": "stream",
     "text": [
      "Train score: 0.8571428571428571\n",
      "Test score: 0.75\n"
     ]
    }
   ],
   "source": [
    "knn_simple_kdtree = KNeighborsClassifier(algorithm='ball_tree')\n",
    "knn_simple_kdtree.fit(X_train, y_train)\n",
    "\n",
    "print(\"Train score: {}\".format(knn_simple_kdtree.score(X_train, y_train)))\n",
    "print(\"Test score: {}\".format(knn_simple_kdtree.score(X_test, y_test)))"
   ]
  },
  {
   "cell_type": "code",
   "execution_count": 41,
   "metadata": {},
   "outputs": [
    {
     "name": "stdout",
     "output_type": "stream",
     "text": [
      "Train score: 0.8571428571428571\n",
      "Test score: 0.75\n"
     ]
    }
   ],
   "source": [
    "knn_simple_kdtree = KNeighborsClassifier(algorithm='kd_tree')\n",
    "knn_simple_kdtree.fit(X_train, y_train)\n",
    "\n",
    "print(\"Train score: {}\".format(knn_simple_kdtree.score(X_train, y_train)))\n",
    "print(\"Test score: {}\".format(knn_simple_kdtree.score(X_test, y_test)))"
   ]
  },
  {
   "cell_type": "code",
   "execution_count": 42,
   "metadata": {},
   "outputs": [
    {
     "name": "stdout",
     "output_type": "stream",
     "text": [
      "Train score: 0.8571428571428571\n",
      "Test score: 0.75\n"
     ]
    }
   ],
   "source": [
    "knn_simple_brute = KNeighborsClassifier(algorithm='brute')\n",
    "knn_simple_brute.fit(X_train, y_train)\n",
    "\n",
    "print(\"Train score: {}\".format(knn_simple_brute.score(X_train, y_train)))\n",
    "print(\"Test score: {}\".format(knn_simple_brute.score(X_test, y_test)))"
   ]
  },
  {
   "cell_type": "markdown",
   "metadata": {},
   "source": [
    "In this example — parameter changes do not change the result"
   ]
  },
  {
   "cell_type": "markdown",
   "metadata": {},
   "source": [
    "### Loop to find best model with «weights» parameter is 'algorithm'"
   ]
  },
  {
   "cell_type": "code",
   "execution_count": 44,
   "metadata": {
    "scrolled": true
   },
   "outputs": [
    {
     "name": "stdout",
     "output_type": "stream",
     "text": [
      "= Set of bests n:\n",
      "Best n of Train: 1\n",
      "Best n of Test: 3\n",
      "\n",
      "\n",
      "= Set of results of model with bests train scores:\n",
      "Best Train score with n from Best Train Model: 1.0\n",
      "Best Test score with n from Best Train Model: 0.8\n",
      "\n",
      "\n",
      "= Set of results of model with bests test scores:\n",
      "Best Train score with n from Best Test Model: 1.0\n",
      "Best Test score with n from Best Test Model: 0.85\n",
      "\n",
      "\n"
     ]
    }
   ],
   "source": [
    "# ===============\n",
    "# Empty variables\n",
    "# ===============\n",
    "\n",
    "best_n_train = 0\n",
    "best_n_test = 0\n",
    "\n",
    "best_score_train = 0\n",
    "best_score_train_test = 0\n",
    "\n",
    "best_score_test = 0\n",
    "best_score_test_train = 0\n",
    "\n",
    "# ====\n",
    "# Loop\n",
    "# ====\n",
    "\n",
    "for i in range (1,11):\n",
    "    knn_i = KNeighborsClassifier(n_neighbors=i,\n",
    "                                 weights='distance')\n",
    "    knn_i.fit(X_train, y_train)\n",
    "\n",
    "    score_train = knn_i.score(X_train, y_train)\n",
    "    score_test = knn_i.score(X_test, y_test)\n",
    "\n",
    "    if score_train > best_score_train:\n",
    "        best_score_train = score_train\n",
    "        best_score_train_test = score_test\n",
    "        best_n_train = i\n",
    "\n",
    "    if score_test > best_score_test:\n",
    "        best_score_test_train = score_train\n",
    "        best_score_test = score_test\n",
    "        best_n_test = i\n",
    "\n",
    "# ============     \n",
    "# Show results\n",
    "# ============\n",
    "\n",
    "print(\"= Set of bests n:\")\n",
    "print(\"Best n of Train: {}\".format(best_n_train))\n",
    "print(\"Best n of Test: {}\".format(best_n_test))\n",
    "print(\"\\n\")\n",
    "\n",
    "print(\"= Set of results of model with bests train scores:\")\n",
    "print(\"Best Train score with n from Best Train Model: {}\".format(best_score_train))\n",
    "print(\"Best Test score with n from Best Train Model: {}\".format(best_score_train_test))\n",
    "print(\"\\n\")\n",
    "\n",
    "print(\"= Set of results of model with bests test scores:\")\n",
    "print(\"Best Train score with n from Best Test Model: {}\".format(best_score_test_train))\n",
    "print(\"Best Test score with n from Best Test Model: {}\".format(best_score_test))\n",
    "print(\"\\n\")"
   ]
  },
  {
   "cell_type": "markdown",
   "metadata": {},
   "source": [
    "## Findings"
   ]
  },
  {
   "cell_type": "markdown",
   "metadata": {},
   "source": [
    "### Main"
   ]
  },
  {
   "cell_type": "markdown",
   "metadata": {},
   "source": [
    "Best model for this data set is\n",
    "- n_neighbors = 3\n",
    "- weights = 'distance'\n",
    "\n",
    "I think, this is not full analisys that i can make\n",
    "Its will better, if i add a graphics and more visual information"
   ]
  },
  {
   "cell_type": "markdown",
   "metadata": {},
   "source": [
    "## PS"
   ]
  },
  {
   "cell_type": "markdown",
   "metadata": {},
   "source": [
    "- This DataSet is some small to do great analisys\n",
    "- The results are so much depended on random seed of «train_test_split» and i had checked a lot of numbers, before found this one"
   ]
  },
  {
   "cell_type": "markdown",
   "metadata": {},
   "source": [
    "# Thanks for watching :3\n",
    "## Good luck!"
   ]
  },
  {
   "cell_type": "markdown",
   "metadata": {},
   "source": [
    "![title](bottom_img.gif)"
   ]
  }
 ],
 "metadata": {
  "kernelspec": {
   "display_name": "Python 3",
   "language": "python",
   "name": "python3"
  },
  "language_info": {
   "codemirror_mode": {
    "name": "ipython",
    "version": 3
   },
   "file_extension": ".py",
   "mimetype": "text/x-python",
   "name": "python",
   "nbconvert_exporter": "python",
   "pygments_lexer": "ipython3",
   "version": "3.7.3"
  }
 },
 "nbformat": 4,
 "nbformat_minor": 2
}
