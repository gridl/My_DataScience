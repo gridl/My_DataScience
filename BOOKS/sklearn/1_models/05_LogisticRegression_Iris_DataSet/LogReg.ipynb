{
 "cells": [
  {
   "cell_type": "markdown",
   "metadata": {},
   "source": [
    "# Logistic Regression and IRIS DataSet"
   ]
  },
  {
   "cell_type": "markdown",
   "metadata": {},
   "source": [
    "## About DataSet"
   ]
  },
  {
   "cell_type": "markdown",
   "metadata": {},
   "source": [
    "It's a default set in sklearn module\n",
    "\n",
    "There are four features about parametres of flowers\n",
    "\n",
    "And one parameter – result/target"
   ]
  },
  {
   "cell_type": "markdown",
   "metadata": {},
   "source": [
    "## Prepearing DataSet"
   ]
  },
  {
   "cell_type": "code",
   "execution_count": 2,
   "metadata": {},
   "outputs": [],
   "source": [
    "# ============\n",
    "# Load modules\n",
    "# ============\n",
    "\n",
    "from sklearn.datasets import load_iris\n",
    "import pandas as pd\n",
    "\n",
    "# ===============\n",
    "# Ignore warnings\n",
    "# ===============\n",
    "\n",
    "import warnings\n",
    "warnings.simplefilter(action='ignore', category=UserWarning)\n",
    "warnings.simplefilter(action='ignore', category=FutureWarning)\n",
    "\n",
    "# =========\n",
    "# Load data\n",
    "# =========\n",
    "\n",
    "data = load_iris()\n",
    "\n",
    "X = pd.DataFrame(data.data)\n",
    "Y = pd.DataFrame(data.target)"
   ]
  },
  {
   "cell_type": "code",
   "execution_count": 3,
   "metadata": {},
   "outputs": [
    {
     "name": "stdout",
     "output_type": "stream",
     "text": [
      "= X Data — features\n",
      "     0    1    2    3\n",
      "0  5.1  3.5  1.4  0.2\n",
      "1  4.9  3.0  1.4  0.2\n",
      "2  4.7  3.2  1.3  0.2\n",
      "3  4.6  3.1  1.5  0.2\n",
      "4  5.0  3.6  1.4  0.2\n",
      "5  5.4  3.9  1.7  0.4\n",
      "6  4.6  3.4  1.4  0.3\n",
      "7  5.0  3.4  1.5  0.2\n",
      "8  4.4  2.9  1.4  0.2\n",
      "9  4.9  3.1  1.5  0.1\n",
      "\n",
      "= Y Data — targets\n",
      "   0\n",
      "0  0\n",
      "1  0\n",
      "2  0\n",
      "3  0\n",
      "4  0\n",
      "5  0\n",
      "6  0\n",
      "7  0\n",
      "8  0\n",
      "9  0\n"
     ]
    }
   ],
   "source": [
    "# ===========\n",
    "# First watch\n",
    "# ===========\n",
    "\n",
    "print('= X Data — features')\n",
    "print(X.head(10))\n",
    "\n",
    "print('\\n= Y Data — targets')\n",
    "print(Y.head(10))"
   ]
  },
  {
   "cell_type": "code",
   "execution_count": 4,
   "metadata": {},
   "outputs": [
    {
     "data": {
      "text/html": [
       "<div>\n",
       "<style scoped>\n",
       "    .dataframe tbody tr th:only-of-type {\n",
       "        vertical-align: middle;\n",
       "    }\n",
       "\n",
       "    .dataframe tbody tr th {\n",
       "        vertical-align: top;\n",
       "    }\n",
       "\n",
       "    .dataframe thead th {\n",
       "        text-align: right;\n",
       "    }\n",
       "</style>\n",
       "<table border=\"1\" class=\"dataframe\">\n",
       "  <thead>\n",
       "    <tr style=\"text-align: right;\">\n",
       "      <th></th>\n",
       "      <th>0</th>\n",
       "      <th>1</th>\n",
       "      <th>2</th>\n",
       "      <th>3</th>\n",
       "    </tr>\n",
       "  </thead>\n",
       "  <tbody>\n",
       "    <tr>\n",
       "      <th>count</th>\n",
       "      <td>150.000000</td>\n",
       "      <td>150.000000</td>\n",
       "      <td>150.000000</td>\n",
       "      <td>150.000000</td>\n",
       "    </tr>\n",
       "    <tr>\n",
       "      <th>mean</th>\n",
       "      <td>5.843333</td>\n",
       "      <td>3.057333</td>\n",
       "      <td>3.758000</td>\n",
       "      <td>1.199333</td>\n",
       "    </tr>\n",
       "    <tr>\n",
       "      <th>std</th>\n",
       "      <td>0.828066</td>\n",
       "      <td>0.435866</td>\n",
       "      <td>1.765298</td>\n",
       "      <td>0.762238</td>\n",
       "    </tr>\n",
       "    <tr>\n",
       "      <th>min</th>\n",
       "      <td>4.300000</td>\n",
       "      <td>2.000000</td>\n",
       "      <td>1.000000</td>\n",
       "      <td>0.100000</td>\n",
       "    </tr>\n",
       "    <tr>\n",
       "      <th>25%</th>\n",
       "      <td>5.100000</td>\n",
       "      <td>2.800000</td>\n",
       "      <td>1.600000</td>\n",
       "      <td>0.300000</td>\n",
       "    </tr>\n",
       "    <tr>\n",
       "      <th>50%</th>\n",
       "      <td>5.800000</td>\n",
       "      <td>3.000000</td>\n",
       "      <td>4.350000</td>\n",
       "      <td>1.300000</td>\n",
       "    </tr>\n",
       "    <tr>\n",
       "      <th>75%</th>\n",
       "      <td>6.400000</td>\n",
       "      <td>3.300000</td>\n",
       "      <td>5.100000</td>\n",
       "      <td>1.800000</td>\n",
       "    </tr>\n",
       "    <tr>\n",
       "      <th>max</th>\n",
       "      <td>7.900000</td>\n",
       "      <td>4.400000</td>\n",
       "      <td>6.900000</td>\n",
       "      <td>2.500000</td>\n",
       "    </tr>\n",
       "  </tbody>\n",
       "</table>\n",
       "</div>"
      ],
      "text/plain": [
       "                0           1           2           3\n",
       "count  150.000000  150.000000  150.000000  150.000000\n",
       "mean     5.843333    3.057333    3.758000    1.199333\n",
       "std      0.828066    0.435866    1.765298    0.762238\n",
       "min      4.300000    2.000000    1.000000    0.100000\n",
       "25%      5.100000    2.800000    1.600000    0.300000\n",
       "50%      5.800000    3.000000    4.350000    1.300000\n",
       "75%      6.400000    3.300000    5.100000    1.800000\n",
       "max      7.900000    4.400000    6.900000    2.500000"
      ]
     },
     "execution_count": 4,
     "metadata": {},
     "output_type": "execute_result"
    }
   ],
   "source": [
    "X.describe()"
   ]
  },
  {
   "cell_type": "code",
   "execution_count": 5,
   "metadata": {
    "scrolled": false
   },
   "outputs": [
    {
     "data": {
      "text/html": [
       "<div>\n",
       "<style scoped>\n",
       "    .dataframe tbody tr th:only-of-type {\n",
       "        vertical-align: middle;\n",
       "    }\n",
       "\n",
       "    .dataframe tbody tr th {\n",
       "        vertical-align: top;\n",
       "    }\n",
       "\n",
       "    .dataframe thead th {\n",
       "        text-align: right;\n",
       "    }\n",
       "</style>\n",
       "<table border=\"1\" class=\"dataframe\">\n",
       "  <thead>\n",
       "    <tr style=\"text-align: right;\">\n",
       "      <th></th>\n",
       "      <th>0</th>\n",
       "      <th>1</th>\n",
       "      <th>2</th>\n",
       "      <th>3</th>\n",
       "    </tr>\n",
       "  </thead>\n",
       "  <tbody>\n",
       "    <tr>\n",
       "      <th>0</th>\n",
       "      <td>1.000000</td>\n",
       "      <td>-0.117570</td>\n",
       "      <td>0.871754</td>\n",
       "      <td>0.817941</td>\n",
       "    </tr>\n",
       "    <tr>\n",
       "      <th>1</th>\n",
       "      <td>-0.117570</td>\n",
       "      <td>1.000000</td>\n",
       "      <td>-0.428440</td>\n",
       "      <td>-0.366126</td>\n",
       "    </tr>\n",
       "    <tr>\n",
       "      <th>2</th>\n",
       "      <td>0.871754</td>\n",
       "      <td>-0.428440</td>\n",
       "      <td>1.000000</td>\n",
       "      <td>0.962865</td>\n",
       "    </tr>\n",
       "    <tr>\n",
       "      <th>3</th>\n",
       "      <td>0.817941</td>\n",
       "      <td>-0.366126</td>\n",
       "      <td>0.962865</td>\n",
       "      <td>1.000000</td>\n",
       "    </tr>\n",
       "  </tbody>\n",
       "</table>\n",
       "</div>"
      ],
      "text/plain": [
       "          0         1         2         3\n",
       "0  1.000000 -0.117570  0.871754  0.817941\n",
       "1 -0.117570  1.000000 -0.428440 -0.366126\n",
       "2  0.871754 -0.428440  1.000000  0.962865\n",
       "3  0.817941 -0.366126  0.962865  1.000000"
      ]
     },
     "execution_count": 5,
     "metadata": {},
     "output_type": "execute_result"
    }
   ],
   "source": [
    "X.corr()"
   ]
  },
  {
   "cell_type": "markdown",
   "metadata": {},
   "source": [
    "## Separating DataSet"
   ]
  },
  {
   "cell_type": "code",
   "execution_count": 6,
   "metadata": {},
   "outputs": [],
   "source": [
    "from sklearn.model_selection import train_test_split\n",
    "\n",
    "X_train, X_test, y_train, y_test = train_test_split(X, Y, random_state=31)"
   ]
  },
  {
   "cell_type": "markdown",
   "metadata": {},
   "source": [
    "## Checking nude model"
   ]
  },
  {
   "cell_type": "markdown",
   "metadata": {},
   "source": [
    "### Training"
   ]
  },
  {
   "cell_type": "code",
   "execution_count": 7,
   "metadata": {},
   "outputs": [
    {
     "data": {
      "text/plain": [
       "LogisticRegression(C=1.0, class_weight=None, dual=False, fit_intercept=True,\n",
       "                   intercept_scaling=1, l1_ratio=None, max_iter=100,\n",
       "                   multi_class='warn', n_jobs=None, penalty='l2',\n",
       "                   random_state=None, solver='warn', tol=0.0001, verbose=0,\n",
       "                   warm_start=False)"
      ]
     },
     "execution_count": 7,
     "metadata": {},
     "output_type": "execute_result"
    }
   ],
   "source": [
    "from sklearn.linear_model import LogisticRegression\n",
    "\n",
    "logreg = LogisticRegression()\n",
    "logreg.fit(X_train, y_train)"
   ]
  },
  {
   "cell_type": "markdown",
   "metadata": {},
   "source": [
    "### Scores"
   ]
  },
  {
   "cell_type": "code",
   "execution_count": 8,
   "metadata": {
    "scrolled": true
   },
   "outputs": [
    {
     "name": "stdout",
     "output_type": "stream",
     "text": [
      "Score Train: 0.96\n",
      "Score Test: 0.82\n"
     ]
    }
   ],
   "source": [
    "print('Score Train: {:.2f}'.format(logreg.score(X_train, y_train)))\n",
    "print('Score Test: {:.2f}'.format(logreg.score(X_test, y_test)))"
   ]
  },
  {
   "cell_type": "markdown",
   "metadata": {},
   "source": [
    "### + Help-functions"
   ]
  },
  {
   "cell_type": "code",
   "execution_count": 9,
   "metadata": {},
   "outputs": [],
   "source": [
    "# ============================\n",
    "# Printing big information set\n",
    "# ============================\n",
    "\n",
    "def print_results(model, X_train, X_test, y_train, y_test):\n",
    "    model.fit(X_train, y_train)\n",
    "    train_score = model.score(X_train, y_train)\n",
    "    test_score = model.score(X_test, y_test)\n",
    "    name_model = type(model).__name__\n",
    "    \n",
    "    print('= Model: {}\\n'.format(name_model))\n",
    "    \n",
    "    print('= Params:')\n",
    "    display(model.get_params())\n",
    "    \n",
    "    print('= Train score \\t{:.2f}\\n'.format(train_score))\n",
    "    print('= Test score \\t{:.2f}\\n'.format(test_score))\n",
    "    \n",
    "# =============================================================    \n",
    "# Printing small information set and return scores for plotting\n",
    "# =============================================================\n",
    "\n",
    "def simple_results(model, X_train, X_test, y_train, y_test):\n",
    "    model.fit(X_train, y_train)\n",
    "    train_score = model.score(X_train, y_train)\n",
    "    test_score = model.score(X_test, y_test)\n",
    "    \n",
    "    print('= Train score \\t{:.2f}'.format(train_score))\n",
    "    print('= Test score \\t{:.2f}'.format(test_score))\n",
    "    \n",
    "    return train_score, test_score"
   ]
  },
  {
   "cell_type": "markdown",
   "metadata": {},
   "source": [
    "### Checking probability of score"
   ]
  },
  {
   "cell_type": "code",
   "execution_count": 10,
   "metadata": {
    "scrolled": false
   },
   "outputs": [
    {
     "data": {
      "text/html": [
       "<style  type=\"text/css\" >\n",
       "    #T_d765f6a8_89ef_11e9_887d_e12b0ed6cdd2row0_col0 {\n",
       "            background-color:  #048266;\n",
       "            color:  #f1f1f1;\n",
       "        }    #T_d765f6a8_89ef_11e9_887d_e12b0ed6cdd2row0_col1 {\n",
       "            background-color:  #83c166;\n",
       "            color:  #000000;\n",
       "        }    #T_d765f6a8_89ef_11e9_887d_e12b0ed6cdd2row0_col2 {\n",
       "            background-color:  #e1f066;\n",
       "            color:  #000000;\n",
       "        }    #T_d765f6a8_89ef_11e9_887d_e12b0ed6cdd2row0_col3 {\n",
       "            background-color:  #ffff66;\n",
       "            color:  #000000;\n",
       "        }    #T_d765f6a8_89ef_11e9_887d_e12b0ed6cdd2row0_col4 {\n",
       "            background-color:  #80c066;\n",
       "            color:  #000000;\n",
       "        }    #T_d765f6a8_89ef_11e9_887d_e12b0ed6cdd2row1_col0 {\n",
       "            background-color:  #008066;\n",
       "            color:  #f1f1f1;\n",
       "        }    #T_d765f6a8_89ef_11e9_887d_e12b0ed6cdd2row1_col1 {\n",
       "            background-color:  #62b066;\n",
       "            color:  #000000;\n",
       "        }    #T_d765f6a8_89ef_11e9_887d_e12b0ed6cdd2row1_col2 {\n",
       "            background-color:  #ffff66;\n",
       "            color:  #000000;\n",
       "        }    #T_d765f6a8_89ef_11e9_887d_e12b0ed6cdd2row1_col3 {\n",
       "            background-color:  #ffff66;\n",
       "            color:  #000000;\n",
       "        }    #T_d765f6a8_89ef_11e9_887d_e12b0ed6cdd2row1_col4 {\n",
       "            background-color:  #ffff66;\n",
       "            color:  #000000;\n",
       "        }    #T_d765f6a8_89ef_11e9_887d_e12b0ed6cdd2row2_col0 {\n",
       "            background-color:  #e4f266;\n",
       "            color:  #000000;\n",
       "        }    #T_d765f6a8_89ef_11e9_887d_e12b0ed6cdd2row2_col1 {\n",
       "            background-color:  #2e9666;\n",
       "            color:  #000000;\n",
       "        }    #T_d765f6a8_89ef_11e9_887d_e12b0ed6cdd2row2_col2 {\n",
       "            background-color:  #008066;\n",
       "            color:  #f1f1f1;\n",
       "        }    #T_d765f6a8_89ef_11e9_887d_e12b0ed6cdd2row2_col3 {\n",
       "            background-color:  #008066;\n",
       "            color:  #f1f1f1;\n",
       "        }    #T_d765f6a8_89ef_11e9_887d_e12b0ed6cdd2row2_col4 {\n",
       "            background-color:  #008066;\n",
       "            color:  #f1f1f1;\n",
       "        }    #T_d765f6a8_89ef_11e9_887d_e12b0ed6cdd2row3_col0 {\n",
       "            background-color:  #0c8666;\n",
       "            color:  #000000;\n",
       "        }    #T_d765f6a8_89ef_11e9_887d_e12b0ed6cdd2row3_col1 {\n",
       "            background-color:  #edf666;\n",
       "            color:  #000000;\n",
       "        }    #T_d765f6a8_89ef_11e9_887d_e12b0ed6cdd2row3_col2 {\n",
       "            background-color:  #87c366;\n",
       "            color:  #000000;\n",
       "        }    #T_d765f6a8_89ef_11e9_887d_e12b0ed6cdd2row3_col3 {\n",
       "            background-color:  #80c066;\n",
       "            color:  #000000;\n",
       "        }    #T_d765f6a8_89ef_11e9_887d_e12b0ed6cdd2row3_col4 {\n",
       "            background-color:  #80c066;\n",
       "            color:  #000000;\n",
       "        }    #T_d765f6a8_89ef_11e9_887d_e12b0ed6cdd2row4_col0 {\n",
       "            background-color:  #008066;\n",
       "            color:  #f1f1f1;\n",
       "        }    #T_d765f6a8_89ef_11e9_887d_e12b0ed6cdd2row4_col1 {\n",
       "            background-color:  #6db666;\n",
       "            color:  #000000;\n",
       "        }    #T_d765f6a8_89ef_11e9_887d_e12b0ed6cdd2row4_col2 {\n",
       "            background-color:  #f7fb66;\n",
       "            color:  #000000;\n",
       "        }    #T_d765f6a8_89ef_11e9_887d_e12b0ed6cdd2row4_col3 {\n",
       "            background-color:  #ffff66;\n",
       "            color:  #000000;\n",
       "        }    #T_d765f6a8_89ef_11e9_887d_e12b0ed6cdd2row4_col4 {\n",
       "            background-color:  #ffff66;\n",
       "            color:  #000000;\n",
       "        }    #T_d765f6a8_89ef_11e9_887d_e12b0ed6cdd2row5_col0 {\n",
       "            background-color:  #daec66;\n",
       "            color:  #000000;\n",
       "        }    #T_d765f6a8_89ef_11e9_887d_e12b0ed6cdd2row5_col1 {\n",
       "            background-color:  #40a066;\n",
       "            color:  #000000;\n",
       "        }    #T_d765f6a8_89ef_11e9_887d_e12b0ed6cdd2row5_col2 {\n",
       "            background-color:  #008066;\n",
       "            color:  #f1f1f1;\n",
       "        }    #T_d765f6a8_89ef_11e9_887d_e12b0ed6cdd2row5_col3 {\n",
       "            background-color:  #008066;\n",
       "            color:  #f1f1f1;\n",
       "        }    #T_d765f6a8_89ef_11e9_887d_e12b0ed6cdd2row5_col4 {\n",
       "            background-color:  #008066;\n",
       "            color:  #f1f1f1;\n",
       "        }    #T_d765f6a8_89ef_11e9_887d_e12b0ed6cdd2row6_col0 {\n",
       "            background-color:  #008066;\n",
       "            color:  #f1f1f1;\n",
       "        }    #T_d765f6a8_89ef_11e9_887d_e12b0ed6cdd2row6_col1 {\n",
       "            background-color:  #98cc66;\n",
       "            color:  #000000;\n",
       "        }    #T_d765f6a8_89ef_11e9_887d_e12b0ed6cdd2row6_col2 {\n",
       "            background-color:  #d6eb66;\n",
       "            color:  #000000;\n",
       "        }    #T_d765f6a8_89ef_11e9_887d_e12b0ed6cdd2row6_col3 {\n",
       "            background-color:  #ffff66;\n",
       "            color:  #000000;\n",
       "        }    #T_d765f6a8_89ef_11e9_887d_e12b0ed6cdd2row6_col4 {\n",
       "            background-color:  #ffff66;\n",
       "            color:  #000000;\n",
       "        }    #T_d765f6a8_89ef_11e9_887d_e12b0ed6cdd2row7_col0 {\n",
       "            background-color:  #118866;\n",
       "            color:  #000000;\n",
       "        }    #T_d765f6a8_89ef_11e9_887d_e12b0ed6cdd2row7_col1 {\n",
       "            background-color:  #ffff66;\n",
       "            color:  #000000;\n",
       "        }    #T_d765f6a8_89ef_11e9_887d_e12b0ed6cdd2row7_col2 {\n",
       "            background-color:  #73b966;\n",
       "            color:  #000000;\n",
       "        }    #T_d765f6a8_89ef_11e9_887d_e12b0ed6cdd2row7_col3 {\n",
       "            background-color:  #80c066;\n",
       "            color:  #000000;\n",
       "        }    #T_d765f6a8_89ef_11e9_887d_e12b0ed6cdd2row7_col4 {\n",
       "            background-color:  #80c066;\n",
       "            color:  #000000;\n",
       "        }    #T_d765f6a8_89ef_11e9_887d_e12b0ed6cdd2row8_col0 {\n",
       "            background-color:  #ffff66;\n",
       "            color:  #000000;\n",
       "        }    #T_d765f6a8_89ef_11e9_887d_e12b0ed6cdd2row8_col1 {\n",
       "            background-color:  #008066;\n",
       "            color:  #f1f1f1;\n",
       "        }    #T_d765f6a8_89ef_11e9_887d_e12b0ed6cdd2row8_col2 {\n",
       "            background-color:  #008066;\n",
       "            color:  #f1f1f1;\n",
       "        }    #T_d765f6a8_89ef_11e9_887d_e12b0ed6cdd2row8_col3 {\n",
       "            background-color:  #008066;\n",
       "            color:  #f1f1f1;\n",
       "        }    #T_d765f6a8_89ef_11e9_887d_e12b0ed6cdd2row8_col4 {\n",
       "            background-color:  #008066;\n",
       "            color:  #f1f1f1;\n",
       "        }    #T_d765f6a8_89ef_11e9_887d_e12b0ed6cdd2row9_col0 {\n",
       "            background-color:  #f5fa66;\n",
       "            color:  #000000;\n",
       "        }    #T_d765f6a8_89ef_11e9_887d_e12b0ed6cdd2row9_col1 {\n",
       "            background-color:  #128866;\n",
       "            color:  #000000;\n",
       "        }    #T_d765f6a8_89ef_11e9_887d_e12b0ed6cdd2row9_col2 {\n",
       "            background-color:  #008066;\n",
       "            color:  #f1f1f1;\n",
       "        }    #T_d765f6a8_89ef_11e9_887d_e12b0ed6cdd2row9_col3 {\n",
       "            background-color:  #008066;\n",
       "            color:  #f1f1f1;\n",
       "        }    #T_d765f6a8_89ef_11e9_887d_e12b0ed6cdd2row9_col4 {\n",
       "            background-color:  #008066;\n",
       "            color:  #f1f1f1;\n",
       "        }</style><table id=\"T_d765f6a8_89ef_11e9_887d_e12b0ed6cdd2\" ><thead>    <tr>        <th class=\"blank level0\" ></th>        <th class=\"col_heading level0 col0\" >percent_proba_0</th>        <th class=\"col_heading level0 col1\" >percent_proba_1</th>        <th class=\"col_heading level0 col2\" >percent_proba_2</th>        <th class=\"col_heading level0 col3\" >predict_10</th>        <th class=\"col_heading level0 col4\" >real_10</th>    </tr></thead><tbody>\n",
       "                <tr>\n",
       "                        <th id=\"T_d765f6a8_89ef_11e9_887d_e12b0ed6cdd2level0_row0\" class=\"row_heading level0 row0\" >0</th>\n",
       "                        <td id=\"T_d765f6a8_89ef_11e9_887d_e12b0ed6cdd2row0_col0\" class=\"data row0 col0\" >0.0175381</td>\n",
       "                        <td id=\"T_d765f6a8_89ef_11e9_887d_e12b0ed6cdd2row0_col1\" class=\"data row0 col1\" >0.322417</td>\n",
       "                        <td id=\"T_d765f6a8_89ef_11e9_887d_e12b0ed6cdd2row0_col2\" class=\"data row0 col2\" >0.660045</td>\n",
       "                        <td id=\"T_d765f6a8_89ef_11e9_887d_e12b0ed6cdd2row0_col3\" class=\"data row0 col3\" >2</td>\n",
       "                        <td id=\"T_d765f6a8_89ef_11e9_887d_e12b0ed6cdd2row0_col4\" class=\"data row0 col4\" >1</td>\n",
       "            </tr>\n",
       "            <tr>\n",
       "                        <th id=\"T_d765f6a8_89ef_11e9_887d_e12b0ed6cdd2level0_row1\" class=\"row_heading level0 row1\" >1</th>\n",
       "                        <td id=\"T_d765f6a8_89ef_11e9_887d_e12b0ed6cdd2row1_col0\" class=\"data row1 col0\" >0.000531198</td>\n",
       "                        <td id=\"T_d765f6a8_89ef_11e9_887d_e12b0ed6cdd2row1_col1\" class=\"data row1 col1\" >0.25085</td>\n",
       "                        <td id=\"T_d765f6a8_89ef_11e9_887d_e12b0ed6cdd2row1_col2\" class=\"data row1 col2\" >0.748618</td>\n",
       "                        <td id=\"T_d765f6a8_89ef_11e9_887d_e12b0ed6cdd2row1_col3\" class=\"data row1 col3\" >2</td>\n",
       "                        <td id=\"T_d765f6a8_89ef_11e9_887d_e12b0ed6cdd2row1_col4\" class=\"data row1 col4\" >2</td>\n",
       "            </tr>\n",
       "            <tr>\n",
       "                        <th id=\"T_d765f6a8_89ef_11e9_887d_e12b0ed6cdd2level0_row2\" class=\"row_heading level0 row2\" >2</th>\n",
       "                        <td id=\"T_d765f6a8_89ef_11e9_887d_e12b0ed6cdd2row2_col0\" class=\"data row2 col0\" >0.863358</td>\n",
       "                        <td id=\"T_d765f6a8_89ef_11e9_887d_e12b0ed6cdd2row2_col1\" class=\"data row2 col1\" >0.136507</td>\n",
       "                        <td id=\"T_d765f6a8_89ef_11e9_887d_e12b0ed6cdd2row2_col2\" class=\"data row2 col2\" >0.000135277</td>\n",
       "                        <td id=\"T_d765f6a8_89ef_11e9_887d_e12b0ed6cdd2row2_col3\" class=\"data row2 col3\" >0</td>\n",
       "                        <td id=\"T_d765f6a8_89ef_11e9_887d_e12b0ed6cdd2row2_col4\" class=\"data row2 col4\" >0</td>\n",
       "            </tr>\n",
       "            <tr>\n",
       "                        <th id=\"T_d765f6a8_89ef_11e9_887d_e12b0ed6cdd2level0_row3\" class=\"row_heading level0 row3\" >3</th>\n",
       "                        <td id=\"T_d765f6a8_89ef_11e9_887d_e12b0ed6cdd2row3_col0\" class=\"data row3 col0\" >0.0473455</td>\n",
       "                        <td id=\"T_d765f6a8_89ef_11e9_887d_e12b0ed6cdd2row3_col1\" class=\"data row3 col1\" >0.555576</td>\n",
       "                        <td id=\"T_d765f6a8_89ef_11e9_887d_e12b0ed6cdd2row3_col2\" class=\"data row3 col2\" >0.397079</td>\n",
       "                        <td id=\"T_d765f6a8_89ef_11e9_887d_e12b0ed6cdd2row3_col3\" class=\"data row3 col3\" >1</td>\n",
       "                        <td id=\"T_d765f6a8_89ef_11e9_887d_e12b0ed6cdd2row3_col4\" class=\"data row3 col4\" >1</td>\n",
       "            </tr>\n",
       "            <tr>\n",
       "                        <th id=\"T_d765f6a8_89ef_11e9_887d_e12b0ed6cdd2level0_row4\" class=\"row_heading level0 row4\" >4</th>\n",
       "                        <td id=\"T_d765f6a8_89ef_11e9_887d_e12b0ed6cdd2row4_col0\" class=\"data row4 col0\" >0.00123199</td>\n",
       "                        <td id=\"T_d765f6a8_89ef_11e9_887d_e12b0ed6cdd2row4_col1\" class=\"data row4 col1\" >0.274499</td>\n",
       "                        <td id=\"T_d765f6a8_89ef_11e9_887d_e12b0ed6cdd2row4_col2\" class=\"data row4 col2\" >0.724269</td>\n",
       "                        <td id=\"T_d765f6a8_89ef_11e9_887d_e12b0ed6cdd2row4_col3\" class=\"data row4 col3\" >2</td>\n",
       "                        <td id=\"T_d765f6a8_89ef_11e9_887d_e12b0ed6cdd2row4_col4\" class=\"data row4 col4\" >2</td>\n",
       "            </tr>\n",
       "            <tr>\n",
       "                        <th id=\"T_d765f6a8_89ef_11e9_887d_e12b0ed6cdd2level0_row5\" class=\"row_heading level0 row5\" >5</th>\n",
       "                        <td id=\"T_d765f6a8_89ef_11e9_887d_e12b0ed6cdd2row5_col0\" class=\"data row5 col0\" >0.823766</td>\n",
       "                        <td id=\"T_d765f6a8_89ef_11e9_887d_e12b0ed6cdd2row5_col1\" class=\"data row5 col1\" >0.176088</td>\n",
       "                        <td id=\"T_d765f6a8_89ef_11e9_887d_e12b0ed6cdd2row5_col2\" class=\"data row5 col2\" >0.000146194</td>\n",
       "                        <td id=\"T_d765f6a8_89ef_11e9_887d_e12b0ed6cdd2row5_col3\" class=\"data row5 col3\" >0</td>\n",
       "                        <td id=\"T_d765f6a8_89ef_11e9_887d_e12b0ed6cdd2row5_col4\" class=\"data row5 col4\" >0</td>\n",
       "            </tr>\n",
       "            <tr>\n",
       "                        <th id=\"T_d765f6a8_89ef_11e9_887d_e12b0ed6cdd2level0_row6\" class=\"row_heading level0 row6\" >6</th>\n",
       "                        <td id=\"T_d765f6a8_89ef_11e9_887d_e12b0ed6cdd2row6_col0\" class=\"data row6 col0\" >0.00339216</td>\n",
       "                        <td id=\"T_d765f6a8_89ef_11e9_887d_e12b0ed6cdd2row6_col1\" class=\"data row6 col1\" >0.369179</td>\n",
       "                        <td id=\"T_d765f6a8_89ef_11e9_887d_e12b0ed6cdd2row6_col2\" class=\"data row6 col2\" >0.627428</td>\n",
       "                        <td id=\"T_d765f6a8_89ef_11e9_887d_e12b0ed6cdd2row6_col3\" class=\"data row6 col3\" >2</td>\n",
       "                        <td id=\"T_d765f6a8_89ef_11e9_887d_e12b0ed6cdd2row6_col4\" class=\"data row6 col4\" >2</td>\n",
       "            </tr>\n",
       "            <tr>\n",
       "                        <th id=\"T_d765f6a8_89ef_11e9_887d_e12b0ed6cdd2level0_row7\" class=\"row_heading level0 row7\" >7</th>\n",
       "                        <td id=\"T_d765f6a8_89ef_11e9_887d_e12b0ed6cdd2row7_col0\" class=\"data row7 col0\" >0.0664475</td>\n",
       "                        <td id=\"T_d765f6a8_89ef_11e9_887d_e12b0ed6cdd2row7_col1\" class=\"data row7 col1\" >0.595785</td>\n",
       "                        <td id=\"T_d765f6a8_89ef_11e9_887d_e12b0ed6cdd2row7_col2\" class=\"data row7 col2\" >0.337768</td>\n",
       "                        <td id=\"T_d765f6a8_89ef_11e9_887d_e12b0ed6cdd2row7_col3\" class=\"data row7 col3\" >1</td>\n",
       "                        <td id=\"T_d765f6a8_89ef_11e9_887d_e12b0ed6cdd2row7_col4\" class=\"data row7 col4\" >1</td>\n",
       "            </tr>\n",
       "            <tr>\n",
       "                        <th id=\"T_d765f6a8_89ef_11e9_887d_e12b0ed6cdd2level0_row8\" class=\"row_heading level0 row8\" >8</th>\n",
       "                        <td id=\"T_d765f6a8_89ef_11e9_887d_e12b0ed6cdd2row8_col0\" class=\"data row8 col0\" >0.965356</td>\n",
       "                        <td id=\"T_d765f6a8_89ef_11e9_887d_e12b0ed6cdd2row8_col1\" class=\"data row8 col1\" >0.0346329</td>\n",
       "                        <td id=\"T_d765f6a8_89ef_11e9_887d_e12b0ed6cdd2row8_col2\" class=\"data row8 col2\" >1.09273e-05</td>\n",
       "                        <td id=\"T_d765f6a8_89ef_11e9_887d_e12b0ed6cdd2row8_col3\" class=\"data row8 col3\" >0</td>\n",
       "                        <td id=\"T_d765f6a8_89ef_11e9_887d_e12b0ed6cdd2row8_col4\" class=\"data row8 col4\" >0</td>\n",
       "            </tr>\n",
       "            <tr>\n",
       "                        <th id=\"T_d765f6a8_89ef_11e9_887d_e12b0ed6cdd2level0_row9\" class=\"row_heading level0 row9\" >9</th>\n",
       "                        <td id=\"T_d765f6a8_89ef_11e9_887d_e12b0ed6cdd2row9_col0\" class=\"data row9 col0\" >0.925554</td>\n",
       "                        <td id=\"T_d765f6a8_89ef_11e9_887d_e12b0ed6cdd2row9_col1\" class=\"data row9 col1\" >0.074379</td>\n",
       "                        <td id=\"T_d765f6a8_89ef_11e9_887d_e12b0ed6cdd2row9_col2\" class=\"data row9 col2\" >6.69979e-05</td>\n",
       "                        <td id=\"T_d765f6a8_89ef_11e9_887d_e12b0ed6cdd2row9_col3\" class=\"data row9 col3\" >0</td>\n",
       "                        <td id=\"T_d765f6a8_89ef_11e9_887d_e12b0ed6cdd2row9_col4\" class=\"data row9 col4\" >0</td>\n",
       "            </tr>\n",
       "    </tbody></table>"
      ],
      "text/plain": [
       "<pandas.io.formats.style.Styler at 0x7f38c8876320>"
      ]
     },
     "metadata": {},
     "output_type": "display_data"
    }
   ],
   "source": [
    "lore_probas = pd.DataFrame(logreg.predict_proba(X_test)[:10])\n",
    "lore_pred_10   = pd.DataFrame(logreg.predict(X_test)[:10])\n",
    "lore_real_10   = pd.DataFrame(y_test[:10]).reset_index(drop=True)\n",
    "\n",
    "lore_probas.columns = ['percent_proba_0', 'percent_proba_1', 'percent_proba_2']\n",
    "lore_probas['predict_10'] = lore_pred_10\n",
    "lore_probas['real_10'] = lore_real_10\n",
    "\n",
    "display(lore_probas.style.background_gradient(cmap='summer'))"
   ]
  },
  {
   "cell_type": "markdown",
   "metadata": {},
   "source": [
    "## Check scores change with C-parameter change"
   ]
  },
  {
   "cell_type": "code",
   "execution_count": 11,
   "metadata": {},
   "outputs": [
    {
     "name": "stdout",
     "output_type": "stream",
     "text": [
      "\n",
      "== == == == == == == ==\n",
      "\n",
      "C: \t0.001\n",
      "= Train score \t0.38\n",
      "= Test score \t0.37\n",
      "\n",
      "== == == == == == == ==\n",
      "\n",
      "C: \t0.01\n",
      "= Train score \t0.70\n",
      "= Test score \t0.58\n",
      "\n",
      "== == == == == == == ==\n",
      "\n",
      "C: \t0.1\n",
      "= Train score \t0.77\n",
      "= Test score \t0.63\n",
      "\n",
      "== == == == == == == ==\n",
      "\n",
      "C: \t1.0\n",
      "= Train score \t0.96\n",
      "= Test score \t0.82\n",
      "\n",
      "== == == == == == == ==\n",
      "\n",
      "C: \t10.0\n",
      "= Train score \t0.99\n",
      "= Test score \t0.92\n",
      "\n",
      "== == == == == == == ==\n",
      "\n",
      "C: \t100.0\n",
      "= Train score \t0.99\n",
      "= Test score \t0.95\n"
     ]
    },
    {
     "data": {
      "text/plain": [
       "<matplotlib.legend.Legend at 0x7f38c82af710>"
      ]
     },
     "execution_count": 11,
     "metadata": {},
     "output_type": "execute_result"
    },
    {
     "data": {
      "image/png": "[encoded data removed]",
      "text/plain": [
       "<Figure size 720x720 with 1 Axes>"
      ]
     },
     "metadata": {
      "needs_background": "light"
     },
     "output_type": "display_data"
    }
   ],
   "source": [
    "import matplotlib.pyplot as plt\n",
    "%matplotlib inline\n",
    "\n",
    "C_array = [0.001, 0.01, 0.1, 1., 10., 100.]\n",
    "C_tr = []\n",
    "C_te = []\n",
    "\n",
    "model = LogisticRegression()\n",
    "\n",
    "for i_c in C_array:\n",
    "    print('\\n== == == == == == == ==\\n')\n",
    "    print('C: \\t{}'.format(i_c))\n",
    "    model = LogisticRegression(C=i_c)\n",
    "    tr, te = simple_results(model, X_train, X_test, y_train, y_test)\n",
    "    C_tr.append(tr)\n",
    "    C_te.append(te)\n",
    "\n",
    "plt.figure(figsize=(10,10))\n",
    "plt.plot(C_array, C_tr, 'r', label='Train')\n",
    "plt.plot(C_array, C_te, 'b', label='Test')\n",
    "plt.grid(linestyle='--')\n",
    "plt.legend(prop={'size': 20})"
   ]
  },
  {
   "cell_type": "markdown",
   "metadata": {},
   "source": [
    "![Homer](simps.gif)"
   ]
  }
 ],
 "metadata": {
  "kernelspec": {
   "display_name": "Python 3",
   "language": "python",
   "name": "python3"
  },
  "language_info": {
   "codemirror_mode": {
    "name": "ipython",
    "version": 3
   },
   "file_extension": ".py",
   "mimetype": "text/x-python",
   "name": "python",
   "nbconvert_exporter": "python",
   "pygments_lexer": "ipython3",
   "version": "3.7.3"
  }
 },
 "nbformat": 4,
 "nbformat_minor": 2
}
