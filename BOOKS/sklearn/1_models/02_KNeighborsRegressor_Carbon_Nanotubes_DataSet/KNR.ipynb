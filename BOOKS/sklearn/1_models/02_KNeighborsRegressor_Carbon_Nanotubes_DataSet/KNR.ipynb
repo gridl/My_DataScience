{
 "cells": [
  {
   "cell_type": "markdown",
   "metadata": {},
   "source": [
    "# KNeighborsRegressor for Carbon Nanotubes DataSet"
   ]
  },
  {
   "cell_type": "markdown",
   "metadata": {},
   "source": [
    "Hi!\n",
    "\n",
    "It's another analisys with KNN method\n",
    "Now we look the best example\n",
    "\n",
    "Im Joking :)\n",
    "This analisys is bad, because DataSet is not good for regression model"
   ]
  },
  {
   "cell_type": "markdown",
   "metadata": {},
   "source": [
    "_______________"
   ]
  },
  {
   "cell_type": "markdown",
   "metadata": {},
   "source": [
    "## About DataSet"
   ]
  },
  {
   "cell_type": "markdown",
   "metadata": {},
   "source": [
    "This is Cryotherapy data\n",
    "\n",
    "I had downloaded it from UCI: https://archive.ics.uci.edu\n",
    "\n",
    "Link to this DataSet: https://archive.ics.uci.edu/ml/datasets/Carbon+Nanotubes"
   ]
  },
  {
   "cell_type": "markdown",
   "metadata": {},
   "source": [
    "This is a few parametres about carbon nanotubes\n",
    "\n",
    "Next description from the site:\n",
    "- Chiral indice n: n parameter of the selected chiral vector\n",
    "- Chiral indice m: n parameter of the selected chiral vector\n",
    "- Initial atomic coordinate u: Randomly generated u parameter of the initial atomic coordinates of all carbon atoms\n",
    "- Initial atomic coordinate v: Randomly generated v parameter of the initial atomic coordinates of all carbon atoms\n",
    "- Initial atomic coordinate w: Randomly generated w parameter of the initial atomic coordinates of all carbon atoms\n",
    "- Calculated atomic coordinate uâ€™: Calculated uâ€™ parameter of the atomic coordinates of all carbon atoms\n",
    "- Calculated atomic coordinate vâ€™: Calculated vâ€™ parameter of the atomic coordinates of all carbon atoms\n",
    "- Calculated atomic coordinate wâ€™: Calculated wâ€™ parameter of the atomic coordinates of all carbon atoms"
   ]
  },
  {
   "cell_type": "markdown",
   "metadata": {},
   "source": [
    "I didn't understand it\n",
    "\n",
    "But I just wanna test KNN model of regression\n",
    "\n",
    "Let's go! 😎"
   ]
  },
  {
   "cell_type": "markdown",
   "metadata": {},
   "source": [
    "________"
   ]
  },
  {
   "cell_type": "markdown",
   "metadata": {},
   "source": [
    "## First look at the DataSet"
   ]
  },
  {
   "cell_type": "markdown",
   "metadata": {},
   "source": [
    "File was in CSV-format\n",
    "\n",
    "But we know. Excel-CSV-format is not ussual CSV 🙃\n",
    "\n",
    "So, I make ';' and ',' separators by trial and error"
   ]
  },
  {
   "cell_type": "code",
   "execution_count": 1,
   "metadata": {},
   "outputs": [
    {
     "data": {
      "text/html": [
       "<div>\n",
       "<style scoped>\n",
       "    .dataframe tbody tr th:only-of-type {\n",
       "        vertical-align: middle;\n",
       "    }\n",
       "\n",
       "    .dataframe tbody tr th {\n",
       "        vertical-align: top;\n",
       "    }\n",
       "\n",
       "    .dataframe thead th {\n",
       "        text-align: right;\n",
       "    }\n",
       "</style>\n",
       "<table border=\"1\" class=\"dataframe\">\n",
       "  <thead>\n",
       "    <tr style=\"text-align: right;\">\n",
       "      <th></th>\n",
       "      <th>Chiral indice n</th>\n",
       "      <th>Chiral indice m</th>\n",
       "      <th>Initial atomic coordinate u</th>\n",
       "      <th>Initial atomic coordinate v</th>\n",
       "      <th>Initial atomic coordinate w</th>\n",
       "      <th>Calculated atomic coordinates u'</th>\n",
       "      <th>Calculated atomic coordinates v'</th>\n",
       "      <th>Calculated atomic coordinates w'</th>\n",
       "    </tr>\n",
       "  </thead>\n",
       "  <tbody>\n",
       "    <tr>\n",
       "      <th>0</th>\n",
       "      <td>2</td>\n",
       "      <td>1</td>\n",
       "      <td>0.679005</td>\n",
       "      <td>0.701318</td>\n",
       "      <td>0.017033</td>\n",
       "      <td>0.721039</td>\n",
       "      <td>0.730232</td>\n",
       "      <td>0.017014</td>\n",
       "    </tr>\n",
       "    <tr>\n",
       "      <th>1</th>\n",
       "      <td>2</td>\n",
       "      <td>1</td>\n",
       "      <td>0.717298</td>\n",
       "      <td>0.642129</td>\n",
       "      <td>0.231319</td>\n",
       "      <td>0.738414</td>\n",
       "      <td>0.656750</td>\n",
       "      <td>0.232369</td>\n",
       "    </tr>\n",
       "    <tr>\n",
       "      <th>2</th>\n",
       "      <td>2</td>\n",
       "      <td>1</td>\n",
       "      <td>0.489336</td>\n",
       "      <td>0.303751</td>\n",
       "      <td>0.088462</td>\n",
       "      <td>0.477676</td>\n",
       "      <td>0.263221</td>\n",
       "      <td>0.088712</td>\n",
       "    </tr>\n",
       "    <tr>\n",
       "      <th>3</th>\n",
       "      <td>2</td>\n",
       "      <td>1</td>\n",
       "      <td>0.413957</td>\n",
       "      <td>0.632996</td>\n",
       "      <td>0.040843</td>\n",
       "      <td>0.408823</td>\n",
       "      <td>0.657897</td>\n",
       "      <td>0.039796</td>\n",
       "    </tr>\n",
       "    <tr>\n",
       "      <th>4</th>\n",
       "      <td>2</td>\n",
       "      <td>1</td>\n",
       "      <td>0.334292</td>\n",
       "      <td>0.543401</td>\n",
       "      <td>0.159890</td>\n",
       "      <td>0.303349</td>\n",
       "      <td>0.558807</td>\n",
       "      <td>0.157373</td>\n",
       "    </tr>\n",
       "    <tr>\n",
       "      <th>5</th>\n",
       "      <td>2</td>\n",
       "      <td>1</td>\n",
       "      <td>0.510664</td>\n",
       "      <td>0.696249</td>\n",
       "      <td>0.255128</td>\n",
       "      <td>0.496977</td>\n",
       "      <td>0.725608</td>\n",
       "      <td>0.255970</td>\n",
       "    </tr>\n",
       "    <tr>\n",
       "      <th>6</th>\n",
       "      <td>2</td>\n",
       "      <td>1</td>\n",
       "      <td>0.413957</td>\n",
       "      <td>0.632996</td>\n",
       "      <td>0.374176</td>\n",
       "      <td>0.390878</td>\n",
       "      <td>0.657645</td>\n",
       "      <td>0.374735</td>\n",
       "    </tr>\n",
       "    <tr>\n",
       "      <th>7</th>\n",
       "      <td>2</td>\n",
       "      <td>1</td>\n",
       "      <td>0.712552</td>\n",
       "      <td>0.554790</td>\n",
       "      <td>0.112271</td>\n",
       "      <td>0.750056</td>\n",
       "      <td>0.561494</td>\n",
       "      <td>0.114944</td>\n",
       "    </tr>\n",
       "    <tr>\n",
       "      <th>8</th>\n",
       "      <td>2</td>\n",
       "      <td>1</td>\n",
       "      <td>0.320995</td>\n",
       "      <td>0.298682</td>\n",
       "      <td>0.183700</td>\n",
       "      <td>0.281301</td>\n",
       "      <td>0.261433</td>\n",
       "      <td>0.182779</td>\n",
       "    </tr>\n",
       "    <tr>\n",
       "      <th>9</th>\n",
       "      <td>2</td>\n",
       "      <td>1</td>\n",
       "      <td>0.394742</td>\n",
       "      <td>0.279367</td>\n",
       "      <td>0.302747</td>\n",
       "      <td>0.350860</td>\n",
       "      <td>0.233500</td>\n",
       "      <td>0.302196</td>\n",
       "    </tr>\n",
       "  </tbody>\n",
       "</table>\n",
       "</div>"
      ],
      "text/plain": [
       "   Chiral indice n  Chiral indice m  Initial atomic coordinate u  \\\n",
       "0                2                1                     0.679005   \n",
       "1                2                1                     0.717298   \n",
       "2                2                1                     0.489336   \n",
       "3                2                1                     0.413957   \n",
       "4                2                1                     0.334292   \n",
       "5                2                1                     0.510664   \n",
       "6                2                1                     0.413957   \n",
       "7                2                1                     0.712552   \n",
       "8                2                1                     0.320995   \n",
       "9                2                1                     0.394742   \n",
       "\n",
       "   Initial atomic coordinate v  Initial atomic coordinate w  \\\n",
       "0                     0.701318                     0.017033   \n",
       "1                     0.642129                     0.231319   \n",
       "2                     0.303751                     0.088462   \n",
       "3                     0.632996                     0.040843   \n",
       "4                     0.543401                     0.159890   \n",
       "5                     0.696249                     0.255128   \n",
       "6                     0.632996                     0.374176   \n",
       "7                     0.554790                     0.112271   \n",
       "8                     0.298682                     0.183700   \n",
       "9                     0.279367                     0.302747   \n",
       "\n",
       "   Calculated atomic coordinates u'  Calculated atomic coordinates v'  \\\n",
       "0                          0.721039                          0.730232   \n",
       "1                          0.738414                          0.656750   \n",
       "2                          0.477676                          0.263221   \n",
       "3                          0.408823                          0.657897   \n",
       "4                          0.303349                          0.558807   \n",
       "5                          0.496977                          0.725608   \n",
       "6                          0.390878                          0.657645   \n",
       "7                          0.750056                          0.561494   \n",
       "8                          0.281301                          0.261433   \n",
       "9                          0.350860                          0.233500   \n",
       "\n",
       "   Calculated atomic coordinates w'  \n",
       "0                          0.017014  \n",
       "1                          0.232369  \n",
       "2                          0.088712  \n",
       "3                          0.039796  \n",
       "4                          0.157373  \n",
       "5                          0.255970  \n",
       "6                          0.374735  \n",
       "7                          0.114944  \n",
       "8                          0.182779  \n",
       "9                          0.302196  "
      ]
     },
     "execution_count": 1,
     "metadata": {},
     "output_type": "execute_result"
    }
   ],
   "source": [
    "import pandas as pd\n",
    "\n",
    "data = pd.read_csv('carbon_nanotubes.csv', sep=';', decimal=',')\n",
    "\n",
    "data.head(10)"
   ]
  },
  {
   "cell_type": "markdown",
   "metadata": {},
   "source": [
    "Looking at shape of Data"
   ]
  },
  {
   "cell_type": "code",
   "execution_count": 2,
   "metadata": {},
   "outputs": [
    {
     "data": {
      "text/plain": [
       "(10721, 8)"
      ]
     },
     "execution_count": 2,
     "metadata": {},
     "output_type": "execute_result"
    }
   ],
   "source": [
    "data.shape"
   ]
  },
  {
   "cell_type": "markdown",
   "metadata": {},
   "source": [
    "It's a big enough Set 😏"
   ]
  },
  {
   "cell_type": "markdown",
   "metadata": {},
   "source": [
    "Go check Data describe and data-types of columns!"
   ]
  },
  {
   "cell_type": "code",
   "execution_count": 3,
   "metadata": {},
   "outputs": [
    {
     "data": {
      "text/html": [
       "<div>\n",
       "<style scoped>\n",
       "    .dataframe tbody tr th:only-of-type {\n",
       "        vertical-align: middle;\n",
       "    }\n",
       "\n",
       "    .dataframe tbody tr th {\n",
       "        vertical-align: top;\n",
       "    }\n",
       "\n",
       "    .dataframe thead th {\n",
       "        text-align: right;\n",
       "    }\n",
       "</style>\n",
       "<table border=\"1\" class=\"dataframe\">\n",
       "  <thead>\n",
       "    <tr style=\"text-align: right;\">\n",
       "      <th></th>\n",
       "      <th>Chiral indice n</th>\n",
       "      <th>Chiral indice m</th>\n",
       "      <th>Initial atomic coordinate u</th>\n",
       "      <th>Initial atomic coordinate v</th>\n",
       "      <th>Initial atomic coordinate w</th>\n",
       "      <th>Calculated atomic coordinates u'</th>\n",
       "      <th>Calculated atomic coordinates v'</th>\n",
       "      <th>Calculated atomic coordinates w'</th>\n",
       "    </tr>\n",
       "  </thead>\n",
       "  <tbody>\n",
       "    <tr>\n",
       "      <th>count</th>\n",
       "      <td>10721.000000</td>\n",
       "      <td>10721.000000</td>\n",
       "      <td>10721.000000</td>\n",
       "      <td>10721.000000</td>\n",
       "      <td>10721.000000</td>\n",
       "      <td>10721.000000</td>\n",
       "      <td>10721.000000</td>\n",
       "      <td>10721.000000</td>\n",
       "    </tr>\n",
       "    <tr>\n",
       "      <th>mean</th>\n",
       "      <td>8.225725</td>\n",
       "      <td>3.337189</td>\n",
       "      <td>0.500064</td>\n",
       "      <td>0.500072</td>\n",
       "      <td>0.499637</td>\n",
       "      <td>0.500064</td>\n",
       "      <td>0.500072</td>\n",
       "      <td>0.499834</td>\n",
       "    </tr>\n",
       "    <tr>\n",
       "      <th>std</th>\n",
       "      <td>2.138919</td>\n",
       "      <td>1.683881</td>\n",
       "      <td>0.286524</td>\n",
       "      <td>0.286495</td>\n",
       "      <td>0.288503</td>\n",
       "      <td>0.290935</td>\n",
       "      <td>0.291012</td>\n",
       "      <td>0.289095</td>\n",
       "    </tr>\n",
       "    <tr>\n",
       "      <th>min</th>\n",
       "      <td>2.000000</td>\n",
       "      <td>1.000000</td>\n",
       "      <td>0.045149</td>\n",
       "      <td>0.045149</td>\n",
       "      <td>0.000061</td>\n",
       "      <td>0.038504</td>\n",
       "      <td>0.038930</td>\n",
       "      <td>0.000000</td>\n",
       "    </tr>\n",
       "    <tr>\n",
       "      <th>25%</th>\n",
       "      <td>7.000000</td>\n",
       "      <td>2.000000</td>\n",
       "      <td>0.218041</td>\n",
       "      <td>0.217594</td>\n",
       "      <td>0.249483</td>\n",
       "      <td>0.213364</td>\n",
       "      <td>0.212922</td>\n",
       "      <td>0.249242</td>\n",
       "    </tr>\n",
       "    <tr>\n",
       "      <th>50%</th>\n",
       "      <td>8.000000</td>\n",
       "      <td>3.000000</td>\n",
       "      <td>0.500181</td>\n",
       "      <td>0.500297</td>\n",
       "      <td>0.500057</td>\n",
       "      <td>0.500538</td>\n",
       "      <td>0.500020</td>\n",
       "      <td>0.499755</td>\n",
       "    </tr>\n",
       "    <tr>\n",
       "      <th>75%</th>\n",
       "      <td>10.000000</td>\n",
       "      <td>5.000000</td>\n",
       "      <td>0.781959</td>\n",
       "      <td>0.782709</td>\n",
       "      <td>0.749191</td>\n",
       "      <td>0.786588</td>\n",
       "      <td>0.787161</td>\n",
       "      <td>0.749463</td>\n",
       "    </tr>\n",
       "    <tr>\n",
       "      <th>max</th>\n",
       "      <td>12.000000</td>\n",
       "      <td>6.000000</td>\n",
       "      <td>0.954851</td>\n",
       "      <td>0.954851</td>\n",
       "      <td>0.999411</td>\n",
       "      <td>0.961496</td>\n",
       "      <td>0.961070</td>\n",
       "      <td>1.000000</td>\n",
       "    </tr>\n",
       "  </tbody>\n",
       "</table>\n",
       "</div>"
      ],
      "text/plain": [
       "       Chiral indice n  Chiral indice m  Initial atomic coordinate u  \\\n",
       "count     10721.000000     10721.000000                 10721.000000   \n",
       "mean          8.225725         3.337189                     0.500064   \n",
       "std           2.138919         1.683881                     0.286524   \n",
       "min           2.000000         1.000000                     0.045149   \n",
       "25%           7.000000         2.000000                     0.218041   \n",
       "50%           8.000000         3.000000                     0.500181   \n",
       "75%          10.000000         5.000000                     0.781959   \n",
       "max          12.000000         6.000000                     0.954851   \n",
       "\n",
       "       Initial atomic coordinate v  Initial atomic coordinate w  \\\n",
       "count                 10721.000000                 10721.000000   \n",
       "mean                      0.500072                     0.499637   \n",
       "std                       0.286495                     0.288503   \n",
       "min                       0.045149                     0.000061   \n",
       "25%                       0.217594                     0.249483   \n",
       "50%                       0.500297                     0.500057   \n",
       "75%                       0.782709                     0.749191   \n",
       "max                       0.954851                     0.999411   \n",
       "\n",
       "       Calculated atomic coordinates u'  Calculated atomic coordinates v'  \\\n",
       "count                      10721.000000                      10721.000000   \n",
       "mean                           0.500064                          0.500072   \n",
       "std                            0.290935                          0.291012   \n",
       "min                            0.038504                          0.038930   \n",
       "25%                            0.213364                          0.212922   \n",
       "50%                            0.500538                          0.500020   \n",
       "75%                            0.786588                          0.787161   \n",
       "max                            0.961496                          0.961070   \n",
       "\n",
       "       Calculated atomic coordinates w'  \n",
       "count                      10721.000000  \n",
       "mean                           0.499834  \n",
       "std                            0.289095  \n",
       "min                            0.000000  \n",
       "25%                            0.249242  \n",
       "50%                            0.499755  \n",
       "75%                            0.749463  \n",
       "max                            1.000000  "
      ]
     },
     "execution_count": 3,
     "metadata": {},
     "output_type": "execute_result"
    }
   ],
   "source": [
    "data.describe()"
   ]
  },
  {
   "cell_type": "code",
   "execution_count": 4,
   "metadata": {},
   "outputs": [
    {
     "data": {
      "text/plain": [
       "Chiral indice n                       int64\n",
       "Chiral indice m                       int64\n",
       "Initial atomic coordinate u         float64\n",
       "Initial atomic coordinate v         float64\n",
       "Initial atomic coordinate w         float64\n",
       "Calculated atomic coordinates u'    float64\n",
       "Calculated atomic coordinates v'    float64\n",
       "Calculated atomic coordinates w'    float64\n",
       "dtype: object"
      ]
     },
     "execution_count": 4,
     "metadata": {},
     "output_type": "execute_result"
    }
   ],
   "source": [
    "data.dtypes"
   ]
  },
  {
   "cell_type": "markdown",
   "metadata": {},
   "source": [
    "OK\n",
    "\n",
    "i think, columns «0» and «1» must be in «category» type\n",
    "\n",
    "Let's show unique values and check it!"
   ]
  },
  {
   "cell_type": "code",
   "execution_count": 5,
   "metadata": {},
   "outputs": [
    {
     "name": "stdout",
     "output_type": "stream",
     "text": [
      "= Unique values of Chiral indice n: \n",
      "[ 2  3  4  5  6  7  8  9 10 11 12]\n",
      "\n",
      "= Unique values of Chiral indice m: \n",
      "[1 2 3 4 5 6]\n"
     ]
    }
   ],
   "source": [
    "print('= Unique values of Chiral indice n: \\n{}\\n'.format(data.iloc[:,0].unique()))\n",
    "print('= Unique values of Chiral indice m: \\n{}'.format(data.iloc[:,1].unique()))"
   ]
  },
  {
   "cell_type": "markdown",
   "metadata": {},
   "source": [
    "Yeah!\n",
    "\n",
    "Column «0» has 11 values\n",
    "\n",
    "Column «1» — 6\n",
    "\n",
    "I think, we can do type-change with a pure soul 👻"
   ]
  },
  {
   "cell_type": "code",
   "execution_count": 6,
   "metadata": {
    "scrolled": true
   },
   "outputs": [
    {
     "data": {
      "text/html": [
       "<div>\n",
       "<style scoped>\n",
       "    .dataframe tbody tr th:only-of-type {\n",
       "        vertical-align: middle;\n",
       "    }\n",
       "\n",
       "    .dataframe tbody tr th {\n",
       "        vertical-align: top;\n",
       "    }\n",
       "\n",
       "    .dataframe thead th {\n",
       "        text-align: right;\n",
       "    }\n",
       "</style>\n",
       "<table border=\"1\" class=\"dataframe\">\n",
       "  <thead>\n",
       "    <tr style=\"text-align: right;\">\n",
       "      <th></th>\n",
       "      <th>Initial atomic coordinate u</th>\n",
       "      <th>Initial atomic coordinate v</th>\n",
       "      <th>Initial atomic coordinate w</th>\n",
       "      <th>Calculated atomic coordinates u'</th>\n",
       "      <th>Calculated atomic coordinates v'</th>\n",
       "      <th>Calculated atomic coordinates w'</th>\n",
       "    </tr>\n",
       "  </thead>\n",
       "  <tbody>\n",
       "    <tr>\n",
       "      <th>count</th>\n",
       "      <td>10721.000000</td>\n",
       "      <td>10721.000000</td>\n",
       "      <td>10721.000000</td>\n",
       "      <td>10721.000000</td>\n",
       "      <td>10721.000000</td>\n",
       "      <td>10721.000000</td>\n",
       "    </tr>\n",
       "    <tr>\n",
       "      <th>mean</th>\n",
       "      <td>0.500064</td>\n",
       "      <td>0.500072</td>\n",
       "      <td>0.499637</td>\n",
       "      <td>0.500064</td>\n",
       "      <td>0.500072</td>\n",
       "      <td>0.499834</td>\n",
       "    </tr>\n",
       "    <tr>\n",
       "      <th>std</th>\n",
       "      <td>0.286524</td>\n",
       "      <td>0.286495</td>\n",
       "      <td>0.288503</td>\n",
       "      <td>0.290935</td>\n",
       "      <td>0.291012</td>\n",
       "      <td>0.289095</td>\n",
       "    </tr>\n",
       "    <tr>\n",
       "      <th>min</th>\n",
       "      <td>0.045149</td>\n",
       "      <td>0.045149</td>\n",
       "      <td>0.000061</td>\n",
       "      <td>0.038504</td>\n",
       "      <td>0.038930</td>\n",
       "      <td>0.000000</td>\n",
       "    </tr>\n",
       "    <tr>\n",
       "      <th>25%</th>\n",
       "      <td>0.218041</td>\n",
       "      <td>0.217594</td>\n",
       "      <td>0.249483</td>\n",
       "      <td>0.213364</td>\n",
       "      <td>0.212922</td>\n",
       "      <td>0.249242</td>\n",
       "    </tr>\n",
       "    <tr>\n",
       "      <th>50%</th>\n",
       "      <td>0.500181</td>\n",
       "      <td>0.500297</td>\n",
       "      <td>0.500057</td>\n",
       "      <td>0.500538</td>\n",
       "      <td>0.500020</td>\n",
       "      <td>0.499755</td>\n",
       "    </tr>\n",
       "    <tr>\n",
       "      <th>75%</th>\n",
       "      <td>0.781959</td>\n",
       "      <td>0.782709</td>\n",
       "      <td>0.749191</td>\n",
       "      <td>0.786588</td>\n",
       "      <td>0.787161</td>\n",
       "      <td>0.749463</td>\n",
       "    </tr>\n",
       "    <tr>\n",
       "      <th>max</th>\n",
       "      <td>0.954851</td>\n",
       "      <td>0.954851</td>\n",
       "      <td>0.999411</td>\n",
       "      <td>0.961496</td>\n",
       "      <td>0.961070</td>\n",
       "      <td>1.000000</td>\n",
       "    </tr>\n",
       "  </tbody>\n",
       "</table>\n",
       "</div>"
      ],
      "text/plain": [
       "       Initial atomic coordinate u  Initial atomic coordinate v  \\\n",
       "count                 10721.000000                 10721.000000   \n",
       "mean                      0.500064                     0.500072   \n",
       "std                       0.286524                     0.286495   \n",
       "min                       0.045149                     0.045149   \n",
       "25%                       0.218041                     0.217594   \n",
       "50%                       0.500181                     0.500297   \n",
       "75%                       0.781959                     0.782709   \n",
       "max                       0.954851                     0.954851   \n",
       "\n",
       "       Initial atomic coordinate w  Calculated atomic coordinates u'  \\\n",
       "count                 10721.000000                      10721.000000   \n",
       "mean                      0.499637                          0.500064   \n",
       "std                       0.288503                          0.290935   \n",
       "min                       0.000061                          0.038504   \n",
       "25%                       0.249483                          0.213364   \n",
       "50%                       0.500057                          0.500538   \n",
       "75%                       0.749191                          0.786588   \n",
       "max                       0.999411                          0.961496   \n",
       "\n",
       "       Calculated atomic coordinates v'  Calculated atomic coordinates w'  \n",
       "count                      10721.000000                      10721.000000  \n",
       "mean                           0.500072                          0.499834  \n",
       "std                            0.291012                          0.289095  \n",
       "min                            0.038930                          0.000000  \n",
       "25%                            0.212922                          0.249242  \n",
       "50%                            0.500020                          0.499755  \n",
       "75%                            0.787161                          0.749463  \n",
       "max                            0.961070                          1.000000  "
      ]
     },
     "execution_count": 6,
     "metadata": {},
     "output_type": "execute_result"
    }
   ],
   "source": [
    "data['Chiral indice n'] = data['Chiral indice n'].astype('category')\n",
    "data['Chiral indice m'] = data['Chiral indice m'].astype('category')\n",
    "\n",
    "data.describe()"
   ]
  },
  {
   "cell_type": "code",
   "execution_count": 7,
   "metadata": {},
   "outputs": [
    {
     "data": {
      "text/plain": [
       "Chiral indice n                     category\n",
       "Chiral indice m                     category\n",
       "Initial atomic coordinate u          float64\n",
       "Initial atomic coordinate v          float64\n",
       "Initial atomic coordinate w          float64\n",
       "Calculated atomic coordinates u'     float64\n",
       "Calculated atomic coordinates v'     float64\n",
       "Calculated atomic coordinates w'     float64\n",
       "dtype: object"
      ]
     },
     "execution_count": 7,
     "metadata": {},
     "output_type": "execute_result"
    }
   ],
   "source": [
    "data.dtypes"
   ]
  },
  {
   "cell_type": "markdown",
   "metadata": {},
   "source": [
    "Look's better!"
   ]
  },
  {
   "cell_type": "markdown",
   "metadata": {},
   "source": [
    "___________"
   ]
  },
  {
   "cell_type": "markdown",
   "metadata": {},
   "source": [
    "## Separating Data"
   ]
  },
  {
   "cell_type": "markdown",
   "metadata": {},
   "source": [
    "Go make Train and Test: X and Y\n",
    "\n",
    "I decided, our target will last column"
   ]
  },
  {
   "cell_type": "code",
   "execution_count": 8,
   "metadata": {},
   "outputs": [],
   "source": [
    "from sklearn.model_selection import train_test_split\n",
    "\n",
    "X = data.iloc[:,:-1]\n",
    "Y = data.iloc[:, -1]\n",
    "\n",
    "X_train, X_test, y_train, y_test = train_test_split(X, Y, random_state=0)"
   ]
  },
  {
   "cell_type": "markdown",
   "metadata": {},
   "source": [
    "_______"
   ]
  },
  {
   "cell_type": "markdown",
   "metadata": {},
   "source": [
    "## Make first, nude model"
   ]
  },
  {
   "cell_type": "markdown",
   "metadata": {},
   "source": [
    "I make an empty model, fit it Train Data, and take score about Test Data"
   ]
  },
  {
   "cell_type": "code",
   "execution_count": 9,
   "metadata": {},
   "outputs": [
    {
     "data": {
      "text/plain": [
       "0.9680274877984831"
      ]
     },
     "execution_count": 9,
     "metadata": {},
     "output_type": "execute_result"
    }
   ],
   "source": [
    "from sklearn.neighbors import KNeighborsRegressor\n",
    "\n",
    "KNR = KNeighborsRegressor()\n",
    "KNR.fit(X_train, y_train)\n",
    "KNR.score(X_test, y_test)"
   ]
  },
  {
   "cell_type": "markdown",
   "metadata": {},
   "source": [
    "Look's very good\n",
    "\n",
    "But I'm starting to suspect something..."
   ]
  },
  {
   "cell_type": "markdown",
   "metadata": {},
   "source": [
    "__________"
   ]
  },
  {
   "cell_type": "markdown",
   "metadata": {},
   "source": [
    "## Looping"
   ]
  },
  {
   "cell_type": "markdown",
   "metadata": {},
   "source": [
    "Loop for finding a best n_neighbors\n",
    "\n",
    "Go start it!"
   ]
  },
  {
   "cell_type": "code",
   "execution_count": 10,
   "metadata": {
    "scrolled": true
   },
   "outputs": [
    {
     "name": "stdout",
     "output_type": "stream",
     "text": [
      "= BEST TRAIN\n",
      "Best n: 1\n",
      "Best train result: 1.0\n",
      "Best test result: 0.9426226146220245\n",
      "\n",
      "= BEST TEST\n",
      "Best n: 3\n",
      "Best train result: 0.9847082718590672\n",
      "Best test result: 0.9705446994491906\n"
     ]
    }
   ],
   "source": [
    "# ===============\n",
    "# Empty variables\n",
    "# ===============\n",
    "\n",
    "best_n_train = 0\n",
    "best_score_train = 0\n",
    "best_score_train_test = 0\n",
    "\n",
    "best_n_test = 0\n",
    "best_score_test = 0\n",
    "best_score_test_train = 0\n",
    "\n",
    "# ==========\n",
    "# Start loop\n",
    "# ==========\n",
    "\n",
    "for n in range (1, 21):\n",
    "    model = KNeighborsRegressor(n_neighbors=n)\n",
    "    model.fit(X_train, y_train)\n",
    "    \n",
    "    score_train = model.score(X_train, y_train)\n",
    "    score_test = model.score(X_test, y_test)\n",
    "    \n",
    "    if score_train > best_score_train:\n",
    "        best_n_train = n\n",
    "        best_score_train = score_train\n",
    "        best_score_train_test = score_test\n",
    "        \n",
    "    if score_test > best_score_test:\n",
    "        best_n_test = n\n",
    "        best_score_test = score_test\n",
    "        best_score_test_train = score_train    \n",
    "\n",
    "# ================\n",
    "# Printing results\n",
    "# ================\n",
    "\n",
    "print('= BEST TRAIN')\n",
    "print('Best n: {}'.format(best_n_train))\n",
    "print('Best train result: {}'.format(best_score_train))\n",
    "print('Best test result: {}'.format(best_score_train_test), end='\\n\\n')\n",
    "\n",
    "print('= BEST TEST')\n",
    "print('Best n: {}'.format(best_n_test))\n",
    "print('Best train result: {}'.format(best_score_test_train))\n",
    "print('Best test result: {}'.format(best_score_test))"
   ]
  },
  {
   "cell_type": "markdown",
   "metadata": {},
   "source": [
    "Best Train n — is 1 — it's normally\n",
    "\n",
    "Best Test n — is 3 — good, and train result didn't take damage \n",
    "\n",
    "#\\_\\_\\_\\_\\_#"
   ]
  },
  {
   "cell_type": "markdown",
   "metadata": {},
   "source": [
    "______________"
   ]
  },
  {
   "cell_type": "markdown",
   "metadata": {},
   "source": [
    "When I tried KNC model, parameter «weights='distance'» did good results\n",
    "\n",
    "And now we start same loop with this param"
   ]
  },
  {
   "cell_type": "code",
   "execution_count": 11,
   "metadata": {},
   "outputs": [
    {
     "name": "stdout",
     "output_type": "stream",
     "text": [
      "= BEST TRAIN\n",
      "Best n: 1\n",
      "Best train result: 1.0\n",
      "Best test result: 0.9426226146220245\n",
      "\n",
      "= BEST TEST\n",
      "Best n: 4\n",
      "Best train result: 1.0\n",
      "Best test result: 0.9756718101523996\n"
     ]
    }
   ],
   "source": [
    "# ===============\n",
    "# Empty variables\n",
    "# ===============\n",
    "\n",
    "best_n_train = 0\n",
    "best_score_train = 0\n",
    "best_score_train_test = 0\n",
    "\n",
    "best_n_test = 0\n",
    "best_score_test = 0\n",
    "best_score_test_train = 0\n",
    "\n",
    "# ==========\n",
    "# Start loop\n",
    "# ==========\n",
    "\n",
    "for n in range (1, 21):\n",
    "    model = KNeighborsRegressor(n_neighbors=n, weights='distance')\n",
    "    model.fit(X_train, y_train)\n",
    "    \n",
    "    score_train = model.score(X_train, y_train)\n",
    "    score_test = model.score(X_test, y_test)\n",
    "    \n",
    "    if score_train > best_score_train:\n",
    "        best_n_train = n\n",
    "        best_score_train = score_train\n",
    "        best_score_train_test = score_test\n",
    "        \n",
    "    if score_test > best_score_test:\n",
    "        best_n_test = n\n",
    "        best_score_test = score_test\n",
    "        best_score_test_train = score_train    \n",
    "\n",
    "# ================\n",
    "# Printing results\n",
    "# ================\n",
    "\n",
    "print('= BEST TRAIN')\n",
    "print('Best n: {}'.format(best_n_train))\n",
    "print('Best train result: {}'.format(best_score_train))\n",
    "print('Best test result: {}'.format(best_score_train_test), end='\\n\\n')\n",
    "\n",
    "print('= BEST TEST')\n",
    "print('Best n: {}'.format(best_n_test))\n",
    "print('Best train result: {}'.format(best_score_test_train))\n",
    "print('Best test result: {}'.format(best_score_test))"
   ]
  },
  {
   "cell_type": "markdown",
   "metadata": {},
   "source": [
    "Cool!\n",
    "\n",
    "'distance' gave +0.5%"
   ]
  },
  {
   "cell_type": "markdown",
   "metadata": {},
   "source": [
    "Plotting shows to us a good model\n",
    "\n",
    "But why it was so easy?"
   ]
  },
  {
   "cell_type": "code",
   "execution_count": 12,
   "metadata": {
    "scrolled": true
   },
   "outputs": [],
   "source": [
    "%%capture\n",
    "\n",
    "# =======================================\n",
    "# I know\n",
    "# I hide the natural result of this block\n",
    "# Because Jupyter show it not beautifull\n",
    "# Like I want\n",
    "# =======================================\n",
    "\n",
    "import numpy as np\n",
    "import matplotlib.pyplot as plt\n",
    "%matplotlib inline\n",
    "\n",
    "from matplotlib.pyplot import figure\n",
    "figure(num=None, figsize=(8, 6), dpi=150, facecolor='w')\n",
    "\n",
    "axis = np.linspace(1, X_test.shape[0], X_test.shape[0])\n",
    "\n",
    "pred = KNR.predict(X_test)\n",
    "\n",
    "plt.plot(axis[1000:1027], y_test[1000:1027], 'r-') # Red solid line  — original y\n",
    "plt.plot(axis[1000:1027], pred[1000:1027], 'b--')  # Blue doted line — our ỹ\n",
    "\n",
    "plt.show()"
   ]
  },
  {
   "cell_type": "markdown",
   "metadata": {},
   "source": [
    "![plot](plot.png)"
   ]
  },
  {
   "cell_type": "markdown",
   "metadata": {},
   "source": [
    "______________"
   ]
  },
  {
   "cell_type": "markdown",
   "metadata": {},
   "source": [
    "## Finding a culprit"
   ]
  },
  {
   "cell_type": "markdown",
   "metadata": {},
   "source": [
    "Looks at correlations of column"
   ]
  },
  {
   "cell_type": "code",
   "execution_count": 13,
   "metadata": {
    "scrolled": true
   },
   "outputs": [
    {
     "data": {
      "text/html": [
       "<style  type=\"text/css\" >\n",
       "    #T_708b06d6_89e9_11e9_87b8_e121b3796b98row0_col0 {\n",
       "            background-color:  #fc7f00;\n",
       "            color:  #000000;\n",
       "        }    #T_708b06d6_89e9_11e9_87b8_e121b3796b98row0_col1 {\n",
       "            background-color:  #ffbd00;\n",
       "            color:  #000000;\n",
       "        }    #T_708b06d6_89e9_11e9_87b8_e121b3796b98row0_col2 {\n",
       "            background-color:  #e4ff7a;\n",
       "            color:  #000000;\n",
       "        }    #T_708b06d6_89e9_11e9_87b8_e121b3796b98row0_col3 {\n",
       "            background-color:  #fc7f00;\n",
       "            color:  #000000;\n",
       "        }    #T_708b06d6_89e9_11e9_87b8_e121b3796b98row0_col4 {\n",
       "            background-color:  #ffbd00;\n",
       "            color:  #000000;\n",
       "        }    #T_708b06d6_89e9_11e9_87b8_e121b3796b98row0_col5 {\n",
       "            background-color:  #e4ff7a;\n",
       "            color:  #000000;\n",
       "        }    #T_708b06d6_89e9_11e9_87b8_e121b3796b98row1_col0 {\n",
       "            background-color:  #ffbd00;\n",
       "            color:  #000000;\n",
       "        }    #T_708b06d6_89e9_11e9_87b8_e121b3796b98row1_col1 {\n",
       "            background-color:  #fc7f00;\n",
       "            color:  #000000;\n",
       "        }    #T_708b06d6_89e9_11e9_87b8_e121b3796b98row1_col2 {\n",
       "            background-color:  #e4ff7a;\n",
       "            color:  #000000;\n",
       "        }    #T_708b06d6_89e9_11e9_87b8_e121b3796b98row1_col3 {\n",
       "            background-color:  #ffbd00;\n",
       "            color:  #000000;\n",
       "        }    #T_708b06d6_89e9_11e9_87b8_e121b3796b98row1_col4 {\n",
       "            background-color:  #fc7f00;\n",
       "            color:  #000000;\n",
       "        }    #T_708b06d6_89e9_11e9_87b8_e121b3796b98row1_col5 {\n",
       "            background-color:  #e4ff7a;\n",
       "            color:  #000000;\n",
       "        }    #T_708b06d6_89e9_11e9_87b8_e121b3796b98row2_col0 {\n",
       "            background-color:  #e4ff7a;\n",
       "            color:  #000000;\n",
       "        }    #T_708b06d6_89e9_11e9_87b8_e121b3796b98row2_col1 {\n",
       "            background-color:  #e4ff7a;\n",
       "            color:  #000000;\n",
       "        }    #T_708b06d6_89e9_11e9_87b8_e121b3796b98row2_col2 {\n",
       "            background-color:  #fc7f00;\n",
       "            color:  #000000;\n",
       "        }    #T_708b06d6_89e9_11e9_87b8_e121b3796b98row2_col3 {\n",
       "            background-color:  #e4ff7a;\n",
       "            color:  #000000;\n",
       "        }    #T_708b06d6_89e9_11e9_87b8_e121b3796b98row2_col4 {\n",
       "            background-color:  #e4ff7a;\n",
       "            color:  #000000;\n",
       "        }    #T_708b06d6_89e9_11e9_87b8_e121b3796b98row2_col5 {\n",
       "            background-color:  #fc7f00;\n",
       "            color:  #000000;\n",
       "        }    #T_708b06d6_89e9_11e9_87b8_e121b3796b98row3_col0 {\n",
       "            background-color:  #fc7f00;\n",
       "            color:  #000000;\n",
       "        }    #T_708b06d6_89e9_11e9_87b8_e121b3796b98row3_col1 {\n",
       "            background-color:  #ffbd00;\n",
       "            color:  #000000;\n",
       "        }    #T_708b06d6_89e9_11e9_87b8_e121b3796b98row3_col2 {\n",
       "            background-color:  #e4ff7a;\n",
       "            color:  #000000;\n",
       "        }    #T_708b06d6_89e9_11e9_87b8_e121b3796b98row3_col3 {\n",
       "            background-color:  #fc7f00;\n",
       "            color:  #000000;\n",
       "        }    #T_708b06d6_89e9_11e9_87b8_e121b3796b98row3_col4 {\n",
       "            background-color:  #ffbd00;\n",
       "            color:  #000000;\n",
       "        }    #T_708b06d6_89e9_11e9_87b8_e121b3796b98row3_col5 {\n",
       "            background-color:  #e4ff7a;\n",
       "            color:  #000000;\n",
       "        }    #T_708b06d6_89e9_11e9_87b8_e121b3796b98row4_col0 {\n",
       "            background-color:  #ffbd00;\n",
       "            color:  #000000;\n",
       "        }    #T_708b06d6_89e9_11e9_87b8_e121b3796b98row4_col1 {\n",
       "            background-color:  #fc7f00;\n",
       "            color:  #000000;\n",
       "        }    #T_708b06d6_89e9_11e9_87b8_e121b3796b98row4_col2 {\n",
       "            background-color:  #e4ff7a;\n",
       "            color:  #000000;\n",
       "        }    #T_708b06d6_89e9_11e9_87b8_e121b3796b98row4_col3 {\n",
       "            background-color:  #ffbd00;\n",
       "            color:  #000000;\n",
       "        }    #T_708b06d6_89e9_11e9_87b8_e121b3796b98row4_col4 {\n",
       "            background-color:  #fc7f00;\n",
       "            color:  #000000;\n",
       "        }    #T_708b06d6_89e9_11e9_87b8_e121b3796b98row4_col5 {\n",
       "            background-color:  #e4ff7a;\n",
       "            color:  #000000;\n",
       "        }    #T_708b06d6_89e9_11e9_87b8_e121b3796b98row5_col0 {\n",
       "            background-color:  #e4ff7a;\n",
       "            color:  #000000;\n",
       "        }    #T_708b06d6_89e9_11e9_87b8_e121b3796b98row5_col1 {\n",
       "            background-color:  #e4ff7a;\n",
       "            color:  #000000;\n",
       "        }    #T_708b06d6_89e9_11e9_87b8_e121b3796b98row5_col2 {\n",
       "            background-color:  #fc7f00;\n",
       "            color:  #000000;\n",
       "        }    #T_708b06d6_89e9_11e9_87b8_e121b3796b98row5_col3 {\n",
       "            background-color:  #e4ff7a;\n",
       "            color:  #000000;\n",
       "        }    #T_708b06d6_89e9_11e9_87b8_e121b3796b98row5_col4 {\n",
       "            background-color:  #e4ff7a;\n",
       "            color:  #000000;\n",
       "        }    #T_708b06d6_89e9_11e9_87b8_e121b3796b98row5_col5 {\n",
       "            background-color:  #fc7f00;\n",
       "            color:  #000000;\n",
       "        }</style><table id=\"T_708b06d6_89e9_11e9_87b8_e121b3796b98\" ><thead>    <tr>        <th class=\"blank level0\" ></th>        <th class=\"col_heading level0 col0\" >Initial atomic coordinate u</th>        <th class=\"col_heading level0 col1\" >Initial atomic coordinate v</th>        <th class=\"col_heading level0 col2\" >Initial atomic coordinate w</th>        <th class=\"col_heading level0 col3\" >Calculated atomic coordinates u'</th>        <th class=\"col_heading level0 col4\" >Calculated atomic coordinates v'</th>        <th class=\"col_heading level0 col5\" >Calculated atomic coordinates w'</th>    </tr></thead><tbody>\n",
       "                <tr>\n",
       "                        <th id=\"T_708b06d6_89e9_11e9_87b8_e121b3796b98level0_row0\" class=\"row_heading level0 row0\" >Initial atomic coordinate u</th>\n",
       "                        <td id=\"T_708b06d6_89e9_11e9_87b8_e121b3796b98row0_col0\" class=\"data row0 col0\" >1</td>\n",
       "                        <td id=\"T_708b06d6_89e9_11e9_87b8_e121b3796b98row0_col1\" class=\"data row0 col1\" >0.499974</td>\n",
       "                        <td id=\"T_708b06d6_89e9_11e9_87b8_e121b3796b98row0_col2\" class=\"data row0 col2\" >-0.0009772</td>\n",
       "                        <td id=\"T_708b06d6_89e9_11e9_87b8_e121b3796b98row0_col3\" class=\"data row0 col3\" >0.999914</td>\n",
       "                        <td id=\"T_708b06d6_89e9_11e9_87b8_e121b3796b98row0_col4\" class=\"data row0 col4\" >0.500703</td>\n",
       "                        <td id=\"T_708b06d6_89e9_11e9_87b8_e121b3796b98row0_col5\" class=\"data row0 col5\" >-0.00154585</td>\n",
       "            </tr>\n",
       "            <tr>\n",
       "                        <th id=\"T_708b06d6_89e9_11e9_87b8_e121b3796b98level0_row1\" class=\"row_heading level0 row1\" >Initial atomic coordinate v</th>\n",
       "                        <td id=\"T_708b06d6_89e9_11e9_87b8_e121b3796b98row1_col0\" class=\"data row1 col0\" >0.499974</td>\n",
       "                        <td id=\"T_708b06d6_89e9_11e9_87b8_e121b3796b98row1_col1\" class=\"data row1 col1\" >1</td>\n",
       "                        <td id=\"T_708b06d6_89e9_11e9_87b8_e121b3796b98row1_col2\" class=\"data row1 col2\" >-0.000396708</td>\n",
       "                        <td id=\"T_708b06d6_89e9_11e9_87b8_e121b3796b98row1_col3\" class=\"data row1 col3\" >0.501737</td>\n",
       "                        <td id=\"T_708b06d6_89e9_11e9_87b8_e121b3796b98row1_col4\" class=\"data row1 col4\" >0.999919</td>\n",
       "                        <td id=\"T_708b06d6_89e9_11e9_87b8_e121b3796b98row1_col5\" class=\"data row1 col5\" >0.00010992</td>\n",
       "            </tr>\n",
       "            <tr>\n",
       "                        <th id=\"T_708b06d6_89e9_11e9_87b8_e121b3796b98level0_row2\" class=\"row_heading level0 row2\" >Initial atomic coordinate w</th>\n",
       "                        <td id=\"T_708b06d6_89e9_11e9_87b8_e121b3796b98row2_col0\" class=\"data row2 col0\" >-0.0009772</td>\n",
       "                        <td id=\"T_708b06d6_89e9_11e9_87b8_e121b3796b98row2_col1\" class=\"data row2 col1\" >-0.000396708</td>\n",
       "                        <td id=\"T_708b06d6_89e9_11e9_87b8_e121b3796b98row2_col2\" class=\"data row2 col2\" >1</td>\n",
       "                        <td id=\"T_708b06d6_89e9_11e9_87b8_e121b3796b98row2_col3\" class=\"data row2 col3\" >-0.000448996</td>\n",
       "                        <td id=\"T_708b06d6_89e9_11e9_87b8_e121b3796b98row2_col4\" class=\"data row2 col4\" >0.000485221</td>\n",
       "                        <td id=\"T_708b06d6_89e9_11e9_87b8_e121b3796b98row2_col5\" class=\"data row2 col5\" >0.998871</td>\n",
       "            </tr>\n",
       "            <tr>\n",
       "                        <th id=\"T_708b06d6_89e9_11e9_87b8_e121b3796b98level0_row3\" class=\"row_heading level0 row3\" >Calculated atomic coordinates u'</th>\n",
       "                        <td id=\"T_708b06d6_89e9_11e9_87b8_e121b3796b98row3_col0\" class=\"data row3 col0\" >0.999914</td>\n",
       "                        <td id=\"T_708b06d6_89e9_11e9_87b8_e121b3796b98row3_col1\" class=\"data row3 col1\" >0.501737</td>\n",
       "                        <td id=\"T_708b06d6_89e9_11e9_87b8_e121b3796b98row3_col2\" class=\"data row3 col2\" >-0.000448996</td>\n",
       "                        <td id=\"T_708b06d6_89e9_11e9_87b8_e121b3796b98row3_col3\" class=\"data row3 col3\" >1</td>\n",
       "                        <td id=\"T_708b06d6_89e9_11e9_87b8_e121b3796b98row3_col4\" class=\"data row3 col4\" >0.502554</td>\n",
       "                        <td id=\"T_708b06d6_89e9_11e9_87b8_e121b3796b98row3_col5\" class=\"data row3 col5\" >-0.00101636</td>\n",
       "            </tr>\n",
       "            <tr>\n",
       "                        <th id=\"T_708b06d6_89e9_11e9_87b8_e121b3796b98level0_row4\" class=\"row_heading level0 row4\" >Calculated atomic coordinates v'</th>\n",
       "                        <td id=\"T_708b06d6_89e9_11e9_87b8_e121b3796b98row4_col0\" class=\"data row4 col0\" >0.500703</td>\n",
       "                        <td id=\"T_708b06d6_89e9_11e9_87b8_e121b3796b98row4_col1\" class=\"data row4 col1\" >0.999919</td>\n",
       "                        <td id=\"T_708b06d6_89e9_11e9_87b8_e121b3796b98row4_col2\" class=\"data row4 col2\" >0.000485221</td>\n",
       "                        <td id=\"T_708b06d6_89e9_11e9_87b8_e121b3796b98row4_col3\" class=\"data row4 col3\" >0.502554</td>\n",
       "                        <td id=\"T_708b06d6_89e9_11e9_87b8_e121b3796b98row4_col4\" class=\"data row4 col4\" >1</td>\n",
       "                        <td id=\"T_708b06d6_89e9_11e9_87b8_e121b3796b98row4_col5\" class=\"data row4 col5\" >0.000990467</td>\n",
       "            </tr>\n",
       "            <tr>\n",
       "                        <th id=\"T_708b06d6_89e9_11e9_87b8_e121b3796b98level0_row5\" class=\"row_heading level0 row5\" >Calculated atomic coordinates w'</th>\n",
       "                        <td id=\"T_708b06d6_89e9_11e9_87b8_e121b3796b98row5_col0\" class=\"data row5 col0\" >-0.00154585</td>\n",
       "                        <td id=\"T_708b06d6_89e9_11e9_87b8_e121b3796b98row5_col1\" class=\"data row5 col1\" >0.00010992</td>\n",
       "                        <td id=\"T_708b06d6_89e9_11e9_87b8_e121b3796b98row5_col2\" class=\"data row5 col2\" >0.998871</td>\n",
       "                        <td id=\"T_708b06d6_89e9_11e9_87b8_e121b3796b98row5_col3\" class=\"data row5 col3\" >-0.00101636</td>\n",
       "                        <td id=\"T_708b06d6_89e9_11e9_87b8_e121b3796b98row5_col4\" class=\"data row5 col4\" >0.000990467</td>\n",
       "                        <td id=\"T_708b06d6_89e9_11e9_87b8_e121b3796b98row5_col5\" class=\"data row5 col5\" >1</td>\n",
       "            </tr>\n",
       "    </tbody></table>"
      ],
      "text/plain": [
       "<pandas.io.formats.style.Styler at 0x7fe0cea10748>"
      ]
     },
     "execution_count": 13,
     "metadata": {},
     "output_type": "execute_result"
    }
   ],
   "source": [
    "corr = data.corr()\n",
    "corr.style.background_gradient(cmap='Wistia')"
   ]
  },
  {
   "cell_type": "markdown",
   "metadata": {},
   "source": [
    "We have correlations between few columns\n",
    "\n",
    "Values of this table make me sad\n",
    "\n",
    "There are 3 types of correlations:\n",
    "1. Near ZERO — eight pieces\n",
    "2. Near 0.5  — four pieces\n",
    "3. Near 1    — three piees\n",
    "\n",
    "It's mean: if we will have a real problem to calculating «Calculated atomic coordinates w'»\n",
    "\n",
    "We can take a «Initial atomic coordinate w» and have no troubles"
   ]
  },
  {
   "cell_type": "markdown",
   "metadata": {},
   "source": [
    "___________________"
   ]
  },
  {
   "cell_type": "markdown",
   "metadata": {},
   "source": [
    "## WOC model"
   ]
  },
  {
   "cell_type": "markdown",
   "metadata": {},
   "source": [
    "My opinion — we need to try once do same model without column «Initial atomic coordinate w»\n",
    "\n",
    "And watch, what will happen\n",
    "\n",
    "...WOC-model is «With Out Culprit»-model"
   ]
  },
  {
   "cell_type": "markdown",
   "metadata": {},
   "source": [
    "Making new data and separating it"
   ]
  },
  {
   "cell_type": "code",
   "execution_count": 14,
   "metadata": {},
   "outputs": [],
   "source": [
    "data_woc = data.drop('Initial atomic coordinate w', axis=1)\n",
    "\n",
    "X_woc= data_woc.iloc[:,:-1]\n",
    "Y_woc= data_woc.iloc[:, -1]\n",
    "\n",
    "X_train_woc, X_test_woc, y_train_woc, y_test_woc = train_test_split(X_woc, Y_woc, random_state=0)"
   ]
  },
  {
   "cell_type": "markdown",
   "metadata": {},
   "source": [
    "### Loop"
   ]
  },
  {
   "cell_type": "code",
   "execution_count": 15,
   "metadata": {},
   "outputs": [
    {
     "name": "stdout",
     "output_type": "stream",
     "text": [
      "= BEST TRAIN\n",
      "Best n: 3\n",
      "Best train result: 0.879160270163594\n",
      "Best test result: -1.108843994415576\n",
      "\n",
      "= BEST TEST\n",
      "Best n: 0\n",
      "Best train result: 0\n",
      "Best test result: 0\n"
     ]
    }
   ],
   "source": [
    "# ===============\n",
    "# Empty variables\n",
    "# ===============\n",
    "\n",
    "best_n_train = 0\n",
    "best_score_train = 0\n",
    "best_score_train_test = 0\n",
    "\n",
    "best_n_test = 0\n",
    "best_score_test = 0\n",
    "best_score_test_train = 0\n",
    "\n",
    "# ==========\n",
    "# Start loop\n",
    "# ==========\n",
    "\n",
    "for n in range (1, 21):\n",
    "    model = KNeighborsRegressor(n_neighbors=n, weights='distance')\n",
    "    model.fit(X_train_woc, y_train_woc)\n",
    "    \n",
    "    score_train = model.score(X_train_woc, y_train_woc)\n",
    "    score_test = model.score(X_test_woc, y_test_woc)\n",
    "    \n",
    "    if score_train > best_score_train:\n",
    "        best_n_train = n\n",
    "        best_score_train = score_train\n",
    "        best_score_train_test = score_test\n",
    "        \n",
    "    if score_test > best_score_test:\n",
    "        best_n_test = n\n",
    "        best_score_test = score_test\n",
    "        best_score_test_train = score_train    \n",
    "\n",
    "# ================\n",
    "# Printing results\n",
    "# ================\n",
    "\n",
    "print('= BEST TRAIN')\n",
    "print('Best n: {}'.format(best_n_train))\n",
    "print('Best train result: {}'.format(best_score_train))\n",
    "print('Best test result: {}'.format(best_score_train_test), end='\\n\\n')\n",
    "\n",
    "print('= BEST TEST')\n",
    "print('Best n: {}'.format(best_n_test))\n",
    "print('Best train result: {}'.format(best_score_test_train))\n",
    "print('Best test result: {}'.format(best_score_test))"
   ]
  },
  {
   "cell_type": "markdown",
   "metadata": {},
   "source": [
    "Well\n",
    "\n",
    "Our KNR has no power here anymore :)"
   ]
  },
  {
   "cell_type": "markdown",
   "metadata": {},
   "source": [
    "_______________"
   ]
  },
  {
   "cell_type": "markdown",
   "metadata": {},
   "source": [
    "# Findings"
   ]
  },
  {
   "cell_type": "markdown",
   "metadata": {},
   "source": [
    "This model is few hard for me\n",
    "\n",
    "I think, in future, I will use for it:\n",
    "- linear regression\n",
    "- NN\n",
    "- ARIMA (maybe)\n",
    "- etc"
   ]
  },
  {
   "cell_type": "markdown",
   "metadata": {},
   "source": [
    "_____________________"
   ]
  },
  {
   "cell_type": "markdown",
   "metadata": {},
   "source": [
    "# Good bye!"
   ]
  },
  {
   "cell_type": "markdown",
   "metadata": {},
   "source": [
    "![endgif](giphy.gif)"
   ]
  }
 ],
 "metadata": {
  "kernelspec": {
   "display_name": "Python 3",
   "language": "python",
   "name": "python3"
  },
  "language_info": {
   "codemirror_mode": {
    "name": "ipython",
    "version": 3
   },
   "file_extension": ".py",
   "mimetype": "text/x-python",
   "name": "python",
   "nbconvert_exporter": "python",
   "pygments_lexer": "ipython3",
   "version": "3.7.3"
  }
 },
 "nbformat": 4,
 "nbformat_minor": 2
}
