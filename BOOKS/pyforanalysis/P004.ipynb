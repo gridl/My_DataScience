{
 "cells": [
  {
   "cell_type": "markdown",
   "metadata": {},
   "source": [
    "# Pandas"
   ]
  },
  {
   "cell_type": "markdown",
   "metadata": {},
   "source": [
    "![gif](imgs/P004.gif)"
   ]
  },
  {
   "cell_type": "markdown",
   "metadata": {},
   "source": [
    "## Import"
   ]
  },
  {
   "cell_type": "code",
   "execution_count": 1,
   "metadata": {},
   "outputs": [],
   "source": [
    "import pandas as pd\n",
    "import numpy as np"
   ]
  },
  {
   "cell_type": "markdown",
   "metadata": {},
   "source": [
    "## Axis indexing with repeatable values"
   ]
  },
  {
   "cell_type": "markdown",
   "metadata": {},
   "source": [
    "### series"
   ]
  },
  {
   "cell_type": "code",
   "execution_count": 2,
   "metadata": {},
   "outputs": [
    {
     "data": {
      "text/plain": [
       "a    0\n",
       "a    1\n",
       "b    2\n",
       "b    3\n",
       "c    4\n",
       "dtype: int32"
      ]
     },
     "execution_count": 2,
     "metadata": {},
     "output_type": "execute_result"
    }
   ],
   "source": [
    "s = pd.Series(np.arange(5), index=list('aabbc'))\n",
    "s"
   ]
  },
  {
   "cell_type": "code",
   "execution_count": 3,
   "metadata": {},
   "outputs": [
    {
     "data": {
      "text/plain": [
       "False"
      ]
     },
     "execution_count": 3,
     "metadata": {},
     "output_type": "execute_result"
    }
   ],
   "source": [
    "s.index.is_unique"
   ]
  },
  {
   "cell_type": "code",
   "execution_count": 4,
   "metadata": {},
   "outputs": [
    {
     "data": {
      "text/plain": [
       "a    0\n",
       "a    1\n",
       "dtype: int32"
      ]
     },
     "execution_count": 4,
     "metadata": {},
     "output_type": "execute_result"
    }
   ],
   "source": [
    "s['a']"
   ]
  },
  {
   "cell_type": "code",
   "execution_count": 5,
   "metadata": {},
   "outputs": [
    {
     "data": {
      "text/plain": [
       "pandas.core.series.Series"
      ]
     },
     "execution_count": 5,
     "metadata": {},
     "output_type": "execute_result"
    }
   ],
   "source": [
    "type(s['a'])"
   ]
  },
  {
   "cell_type": "code",
   "execution_count": 6,
   "metadata": {},
   "outputs": [
    {
     "data": {
      "text/plain": [
       "4"
      ]
     },
     "execution_count": 6,
     "metadata": {},
     "output_type": "execute_result"
    }
   ],
   "source": [
    "s['c']"
   ]
  },
  {
   "cell_type": "code",
   "execution_count": 7,
   "metadata": {},
   "outputs": [
    {
     "data": {
      "text/plain": [
       "numpy.int32"
      ]
     },
     "execution_count": 7,
     "metadata": {},
     "output_type": "execute_result"
    }
   ],
   "source": [
    "type(s['c'])"
   ]
  },
  {
   "cell_type": "markdown",
   "metadata": {},
   "source": [
    "### dataframe"
   ]
  },
  {
   "cell_type": "code",
   "execution_count": 8,
   "metadata": {},
   "outputs": [
    {
     "data": {
      "text/html": [
       "<div>\n",
       "<style scoped>\n",
       "    .dataframe tbody tr th:only-of-type {\n",
       "        vertical-align: middle;\n",
       "    }\n",
       "\n",
       "    .dataframe tbody tr th {\n",
       "        vertical-align: top;\n",
       "    }\n",
       "\n",
       "    .dataframe thead th {\n",
       "        text-align: right;\n",
       "    }\n",
       "</style>\n",
       "<table border=\"1\" class=\"dataframe\">\n",
       "  <thead>\n",
       "    <tr style=\"text-align: right;\">\n",
       "      <th></th>\n",
       "      <th>0</th>\n",
       "      <th>1</th>\n",
       "      <th>2</th>\n",
       "    </tr>\n",
       "  </thead>\n",
       "  <tbody>\n",
       "    <tr>\n",
       "      <th>a</th>\n",
       "      <td>0.713172</td>\n",
       "      <td>1.442436</td>\n",
       "      <td>0.053976</td>\n",
       "    </tr>\n",
       "    <tr>\n",
       "      <th>a</th>\n",
       "      <td>0.207821</td>\n",
       "      <td>0.167678</td>\n",
       "      <td>-1.005934</td>\n",
       "    </tr>\n",
       "    <tr>\n",
       "      <th>b</th>\n",
       "      <td>-0.340509</td>\n",
       "      <td>-2.353696</td>\n",
       "      <td>-1.422887</td>\n",
       "    </tr>\n",
       "    <tr>\n",
       "      <th>b</th>\n",
       "      <td>1.138666</td>\n",
       "      <td>0.514238</td>\n",
       "      <td>1.589574</td>\n",
       "    </tr>\n",
       "  </tbody>\n",
       "</table>\n",
       "</div>"
      ],
      "text/plain": [
       "          0         1         2\n",
       "a  0.713172  1.442436  0.053976\n",
       "a  0.207821  0.167678 -1.005934\n",
       "b -0.340509 -2.353696 -1.422887\n",
       "b  1.138666  0.514238  1.589574"
      ]
     },
     "execution_count": 8,
     "metadata": {},
     "output_type": "execute_result"
    }
   ],
   "source": [
    "df = pd.DataFrame(np.random.randn(4,3), index=list('aabb'))\n",
    "df"
   ]
  },
  {
   "cell_type": "code",
   "execution_count": 9,
   "metadata": {},
   "outputs": [
    {
     "data": {
      "text/html": [
       "<div>\n",
       "<style scoped>\n",
       "    .dataframe tbody tr th:only-of-type {\n",
       "        vertical-align: middle;\n",
       "    }\n",
       "\n",
       "    .dataframe tbody tr th {\n",
       "        vertical-align: top;\n",
       "    }\n",
       "\n",
       "    .dataframe thead th {\n",
       "        text-align: right;\n",
       "    }\n",
       "</style>\n",
       "<table border=\"1\" class=\"dataframe\">\n",
       "  <thead>\n",
       "    <tr style=\"text-align: right;\">\n",
       "      <th></th>\n",
       "      <th>0</th>\n",
       "      <th>1</th>\n",
       "      <th>2</th>\n",
       "    </tr>\n",
       "  </thead>\n",
       "  <tbody>\n",
       "    <tr>\n",
       "      <th>a</th>\n",
       "      <td>0.713172</td>\n",
       "      <td>1.442436</td>\n",
       "      <td>0.053976</td>\n",
       "    </tr>\n",
       "    <tr>\n",
       "      <th>a</th>\n",
       "      <td>0.207821</td>\n",
       "      <td>0.167678</td>\n",
       "      <td>-1.005934</td>\n",
       "    </tr>\n",
       "  </tbody>\n",
       "</table>\n",
       "</div>"
      ],
      "text/plain": [
       "          0         1         2\n",
       "a  0.713172  1.442436  0.053976\n",
       "a  0.207821  0.167678 -1.005934"
      ]
     },
     "execution_count": 9,
     "metadata": {},
     "output_type": "execute_result"
    }
   ],
   "source": [
    "df.loc['a']"
   ]
  },
  {
   "cell_type": "markdown",
   "metadata": {},
   "source": [
    "## Reduction and calculation stats"
   ]
  },
  {
   "cell_type": "markdown",
   "metadata": {},
   "source": [
    "### dataframe"
   ]
  },
  {
   "cell_type": "code",
   "execution_count": 10,
   "metadata": {},
   "outputs": [
    {
     "data": {
      "text/html": [
       "<div>\n",
       "<style scoped>\n",
       "    .dataframe tbody tr th:only-of-type {\n",
       "        vertical-align: middle;\n",
       "    }\n",
       "\n",
       "    .dataframe tbody tr th {\n",
       "        vertical-align: top;\n",
       "    }\n",
       "\n",
       "    .dataframe thead th {\n",
       "        text-align: right;\n",
       "    }\n",
       "</style>\n",
       "<table border=\"1\" class=\"dataframe\">\n",
       "  <thead>\n",
       "    <tr style=\"text-align: right;\">\n",
       "      <th></th>\n",
       "      <th>one</th>\n",
       "      <th>two</th>\n",
       "    </tr>\n",
       "  </thead>\n",
       "  <tbody>\n",
       "    <tr>\n",
       "      <th>a</th>\n",
       "      <td>1.0</td>\n",
       "      <td>8.0</td>\n",
       "    </tr>\n",
       "    <tr>\n",
       "      <th>b</th>\n",
       "      <td>2.0</td>\n",
       "      <td>NaN</td>\n",
       "    </tr>\n",
       "    <tr>\n",
       "      <th>c</th>\n",
       "      <td>NaN</td>\n",
       "      <td>6.0</td>\n",
       "    </tr>\n",
       "  </tbody>\n",
       "</table>\n",
       "</div>"
      ],
      "text/plain": [
       "   one  two\n",
       "a  1.0  8.0\n",
       "b  2.0  NaN\n",
       "c  NaN  6.0"
      ]
     },
     "execution_count": 10,
     "metadata": {},
     "output_type": "execute_result"
    }
   ],
   "source": [
    "df = pd.DataFrame({'one': [1,2,np.nan], 'two': [8,np.nan,6]}, index=list('abc'))\n",
    "df"
   ]
  },
  {
   "cell_type": "markdown",
   "metadata": {},
   "source": [
    "### sum"
   ]
  },
  {
   "cell_type": "code",
   "execution_count": 11,
   "metadata": {},
   "outputs": [
    {
     "data": {
      "text/plain": [
       "one     3.0\n",
       "two    14.0\n",
       "dtype: float64"
      ]
     },
     "execution_count": 11,
     "metadata": {},
     "output_type": "execute_result"
    }
   ],
   "source": [
    "df.sum()"
   ]
  },
  {
   "cell_type": "code",
   "execution_count": 12,
   "metadata": {},
   "outputs": [
    {
     "data": {
      "text/plain": [
       "a    9.0\n",
       "b    2.0\n",
       "c    6.0\n",
       "dtype: float64"
      ]
     },
     "execution_count": 12,
     "metadata": {},
     "output_type": "execute_result"
    }
   ],
   "source": [
    "df.sum(axis=1)"
   ]
  },
  {
   "cell_type": "markdown",
   "metadata": {},
   "source": [
    "### mean"
   ]
  },
  {
   "cell_type": "code",
   "execution_count": 13,
   "metadata": {},
   "outputs": [
    {
     "data": {
      "text/plain": [
       "one    1.5\n",
       "two    7.0\n",
       "dtype: float64"
      ]
     },
     "execution_count": 13,
     "metadata": {},
     "output_type": "execute_result"
    }
   ],
   "source": [
    "df.mean()"
   ]
  },
  {
   "cell_type": "code",
   "execution_count": 14,
   "metadata": {},
   "outputs": [
    {
     "data": {
      "text/plain": [
       "a    4.5\n",
       "b    2.0\n",
       "c    6.0\n",
       "dtype: float64"
      ]
     },
     "execution_count": 14,
     "metadata": {},
     "output_type": "execute_result"
    }
   ],
   "source": [
    "df.mean(axis=1)"
   ]
  },
  {
   "cell_type": "code",
   "execution_count": 15,
   "metadata": {},
   "outputs": [
    {
     "data": {
      "text/plain": [
       "a    4.5\n",
       "b    NaN\n",
       "c    NaN\n",
       "dtype: float64"
      ]
     },
     "execution_count": 15,
     "metadata": {},
     "output_type": "execute_result"
    }
   ],
   "source": [
    "df.mean(axis=1, skipna=False)"
   ]
  },
  {
   "cell_type": "markdown",
   "metadata": {},
   "source": [
    "### idmin, idmax"
   ]
  },
  {
   "cell_type": "code",
   "execution_count": 16,
   "metadata": {},
   "outputs": [
    {
     "data": {
      "text/plain": [
       "one    a\n",
       "two    c\n",
       "dtype: object"
      ]
     },
     "execution_count": 16,
     "metadata": {},
     "output_type": "execute_result"
    }
   ],
   "source": [
    "df.idxmin()"
   ]
  },
  {
   "cell_type": "code",
   "execution_count": 17,
   "metadata": {},
   "outputs": [
    {
     "data": {
      "text/plain": [
       "a    one\n",
       "b    one\n",
       "c    two\n",
       "dtype: object"
      ]
     },
     "execution_count": 17,
     "metadata": {},
     "output_type": "execute_result"
    }
   ],
   "source": [
    "df.idxmin(axis=1)"
   ]
  },
  {
   "cell_type": "code",
   "execution_count": 18,
   "metadata": {},
   "outputs": [
    {
     "data": {
      "text/plain": [
       "one    b\n",
       "two    a\n",
       "dtype: object"
      ]
     },
     "execution_count": 18,
     "metadata": {},
     "output_type": "execute_result"
    }
   ],
   "source": [
    "df.idxmax()"
   ]
  },
  {
   "cell_type": "code",
   "execution_count": 19,
   "metadata": {},
   "outputs": [
    {
     "data": {
      "text/plain": [
       "a    two\n",
       "b    one\n",
       "c    two\n",
       "dtype: object"
      ]
     },
     "execution_count": 19,
     "metadata": {},
     "output_type": "execute_result"
    }
   ],
   "source": [
    "df.idxmax(axis=1)"
   ]
  },
  {
   "cell_type": "markdown",
   "metadata": {},
   "source": [
    "### describe"
   ]
  },
  {
   "cell_type": "code",
   "execution_count": 20,
   "metadata": {},
   "outputs": [
    {
     "data": {
      "text/html": [
       "<div>\n",
       "<style scoped>\n",
       "    .dataframe tbody tr th:only-of-type {\n",
       "        vertical-align: middle;\n",
       "    }\n",
       "\n",
       "    .dataframe tbody tr th {\n",
       "        vertical-align: top;\n",
       "    }\n",
       "\n",
       "    .dataframe thead th {\n",
       "        text-align: right;\n",
       "    }\n",
       "</style>\n",
       "<table border=\"1\" class=\"dataframe\">\n",
       "  <thead>\n",
       "    <tr style=\"text-align: right;\">\n",
       "      <th></th>\n",
       "      <th>one</th>\n",
       "      <th>two</th>\n",
       "    </tr>\n",
       "  </thead>\n",
       "  <tbody>\n",
       "    <tr>\n",
       "      <th>count</th>\n",
       "      <td>2.000000</td>\n",
       "      <td>2.000000</td>\n",
       "    </tr>\n",
       "    <tr>\n",
       "      <th>mean</th>\n",
       "      <td>1.500000</td>\n",
       "      <td>7.000000</td>\n",
       "    </tr>\n",
       "    <tr>\n",
       "      <th>std</th>\n",
       "      <td>0.707107</td>\n",
       "      <td>1.414214</td>\n",
       "    </tr>\n",
       "    <tr>\n",
       "      <th>min</th>\n",
       "      <td>1.000000</td>\n",
       "      <td>6.000000</td>\n",
       "    </tr>\n",
       "    <tr>\n",
       "      <th>25%</th>\n",
       "      <td>1.250000</td>\n",
       "      <td>6.500000</td>\n",
       "    </tr>\n",
       "    <tr>\n",
       "      <th>50%</th>\n",
       "      <td>1.500000</td>\n",
       "      <td>7.000000</td>\n",
       "    </tr>\n",
       "    <tr>\n",
       "      <th>75%</th>\n",
       "      <td>1.750000</td>\n",
       "      <td>7.500000</td>\n",
       "    </tr>\n",
       "    <tr>\n",
       "      <th>max</th>\n",
       "      <td>2.000000</td>\n",
       "      <td>8.000000</td>\n",
       "    </tr>\n",
       "  </tbody>\n",
       "</table>\n",
       "</div>"
      ],
      "text/plain": [
       "            one       two\n",
       "count  2.000000  2.000000\n",
       "mean   1.500000  7.000000\n",
       "std    0.707107  1.414214\n",
       "min    1.000000  6.000000\n",
       "25%    1.250000  6.500000\n",
       "50%    1.500000  7.000000\n",
       "75%    1.750000  7.500000\n",
       "max    2.000000  8.000000"
      ]
     },
     "execution_count": 20,
     "metadata": {},
     "output_type": "execute_result"
    }
   ],
   "source": [
    "df.describe()"
   ]
  },
  {
   "cell_type": "code",
   "execution_count": 21,
   "metadata": {
    "scrolled": false
   },
   "outputs": [
    {
     "data": {
      "text/plain": [
       "0     a\n",
       "1     a\n",
       "2     b\n",
       "3     c\n",
       "4     a\n",
       "5     a\n",
       "6     b\n",
       "7     c\n",
       "8     a\n",
       "9     a\n",
       "10    b\n",
       "11    c\n",
       "12    a\n",
       "13    a\n",
       "14    b\n",
       "15    c\n",
       "dtype: object"
      ]
     },
     "execution_count": 21,
     "metadata": {},
     "output_type": "execute_result"
    }
   ],
   "source": [
    "s = pd.Series(list('aabc') * 4)\n",
    "s"
   ]
  },
  {
   "cell_type": "code",
   "execution_count": 22,
   "metadata": {},
   "outputs": [
    {
     "data": {
      "text/plain": [
       "count     16\n",
       "unique     3\n",
       "top        a\n",
       "freq       8\n",
       "dtype: object"
      ]
     },
     "execution_count": 22,
     "metadata": {},
     "output_type": "execute_result"
    }
   ],
   "source": [
    "s.describe()"
   ]
  },
  {
   "cell_type": "markdown",
   "metadata": {},
   "source": [
    "## Correlation and covariation"
   ]
  },
  {
   "cell_type": "markdown",
   "metadata": {},
   "source": [
    "### prep"
   ]
  },
  {
   "cell_type": "code",
   "execution_count": 23,
   "metadata": {},
   "outputs": [
    {
     "data": {
      "text/plain": [
       "['1/1/2000',\n",
       " '1/1/2001',\n",
       " '1/1/2002',\n",
       " '1/1/2003',\n",
       " '1/1/2004',\n",
       " '1/1/2005',\n",
       " '1/1/2006',\n",
       " '1/1/2007',\n",
       " '1/1/2008',\n",
       " '1/1/2009']"
      ]
     },
     "execution_count": 23,
     "metadata": {},
     "output_type": "execute_result"
    }
   ],
   "source": [
    "index_list = []\n",
    "for i in range(10):\n",
    "    index_list.append('1/1/200{}'.format(i))\n",
    "    \n",
    "index_list"
   ]
  },
  {
   "cell_type": "code",
   "execution_count": 24,
   "metadata": {},
   "outputs": [
    {
     "data": {
      "text/html": [
       "<div>\n",
       "<style scoped>\n",
       "    .dataframe tbody tr th:only-of-type {\n",
       "        vertical-align: middle;\n",
       "    }\n",
       "\n",
       "    .dataframe tbody tr th {\n",
       "        vertical-align: top;\n",
       "    }\n",
       "\n",
       "    .dataframe thead th {\n",
       "        text-align: right;\n",
       "    }\n",
       "</style>\n",
       "<table border=\"1\" class=\"dataframe\">\n",
       "  <thead>\n",
       "    <tr style=\"text-align: right;\">\n",
       "      <th></th>\n",
       "      <th>A</th>\n",
       "      <th>B</th>\n",
       "      <th>C</th>\n",
       "      <th>D</th>\n",
       "      <th>E</th>\n",
       "      <th>F</th>\n",
       "      <th>G</th>\n",
       "    </tr>\n",
       "  </thead>\n",
       "  <tbody>\n",
       "    <tr>\n",
       "      <th>1/1/2000</th>\n",
       "      <td>-0.580317</td>\n",
       "      <td>-1.172205</td>\n",
       "      <td>1.824581</td>\n",
       "      <td>0.256637</td>\n",
       "      <td>0.168333</td>\n",
       "      <td>0.308234</td>\n",
       "      <td>-1.113815</td>\n",
       "    </tr>\n",
       "    <tr>\n",
       "      <th>1/1/2001</th>\n",
       "      <td>0.641601</td>\n",
       "      <td>-0.518930</td>\n",
       "      <td>0.241959</td>\n",
       "      <td>0.467028</td>\n",
       "      <td>0.652808</td>\n",
       "      <td>0.440662</td>\n",
       "      <td>0.580837</td>\n",
       "    </tr>\n",
       "    <tr>\n",
       "      <th>1/1/2002</th>\n",
       "      <td>0.362031</td>\n",
       "      <td>-0.122528</td>\n",
       "      <td>-0.401799</td>\n",
       "      <td>0.006861</td>\n",
       "      <td>0.390792</td>\n",
       "      <td>0.824773</td>\n",
       "      <td>-2.033410</td>\n",
       "    </tr>\n",
       "    <tr>\n",
       "      <th>1/1/2003</th>\n",
       "      <td>-0.762745</td>\n",
       "      <td>-0.212196</td>\n",
       "      <td>0.813066</td>\n",
       "      <td>-0.227799</td>\n",
       "      <td>-1.314191</td>\n",
       "      <td>-0.133755</td>\n",
       "      <td>-1.660449</td>\n",
       "    </tr>\n",
       "    <tr>\n",
       "      <th>1/1/2004</th>\n",
       "      <td>-2.102579</td>\n",
       "      <td>0.458301</td>\n",
       "      <td>-0.589592</td>\n",
       "      <td>-0.952404</td>\n",
       "      <td>-1.450447</td>\n",
       "      <td>-0.314001</td>\n",
       "      <td>-0.379856</td>\n",
       "    </tr>\n",
       "    <tr>\n",
       "      <th>1/1/2005</th>\n",
       "      <td>0.382282</td>\n",
       "      <td>-0.065583</td>\n",
       "      <td>-1.183745</td>\n",
       "      <td>0.106859</td>\n",
       "      <td>-0.075776</td>\n",
       "      <td>-0.674442</td>\n",
       "      <td>0.124049</td>\n",
       "    </tr>\n",
       "    <tr>\n",
       "      <th>1/1/2006</th>\n",
       "      <td>0.066749</td>\n",
       "      <td>-0.027022</td>\n",
       "      <td>0.745331</td>\n",
       "      <td>-0.087171</td>\n",
       "      <td>0.199351</td>\n",
       "      <td>-0.638848</td>\n",
       "      <td>-0.062634</td>\n",
       "    </tr>\n",
       "    <tr>\n",
       "      <th>1/1/2007</th>\n",
       "      <td>-1.373227</td>\n",
       "      <td>1.007323</td>\n",
       "      <td>0.105828</td>\n",
       "      <td>-0.723159</td>\n",
       "      <td>-1.302814</td>\n",
       "      <td>0.186852</td>\n",
       "      <td>0.559020</td>\n",
       "    </tr>\n",
       "    <tr>\n",
       "      <th>1/1/2008</th>\n",
       "      <td>0.145906</td>\n",
       "      <td>0.325900</td>\n",
       "      <td>0.807613</td>\n",
       "      <td>-0.659431</td>\n",
       "      <td>0.600862</td>\n",
       "      <td>-2.630107</td>\n",
       "      <td>-0.142168</td>\n",
       "    </tr>\n",
       "    <tr>\n",
       "      <th>1/1/2009</th>\n",
       "      <td>0.696450</td>\n",
       "      <td>-0.051224</td>\n",
       "      <td>-0.830457</td>\n",
       "      <td>-0.005017</td>\n",
       "      <td>-0.446735</td>\n",
       "      <td>-1.793360</td>\n",
       "      <td>-1.706787</td>\n",
       "    </tr>\n",
       "  </tbody>\n",
       "</table>\n",
       "</div>"
      ],
      "text/plain": [
       "                 A         B         C         D         E         F         G\n",
       "1/1/2000 -0.580317 -1.172205  1.824581  0.256637  0.168333  0.308234 -1.113815\n",
       "1/1/2001  0.641601 -0.518930  0.241959  0.467028  0.652808  0.440662  0.580837\n",
       "1/1/2002  0.362031 -0.122528 -0.401799  0.006861  0.390792  0.824773 -2.033410\n",
       "1/1/2003 -0.762745 -0.212196  0.813066 -0.227799 -1.314191 -0.133755 -1.660449\n",
       "1/1/2004 -2.102579  0.458301 -0.589592 -0.952404 -1.450447 -0.314001 -0.379856\n",
       "1/1/2005  0.382282 -0.065583 -1.183745  0.106859 -0.075776 -0.674442  0.124049\n",
       "1/1/2006  0.066749 -0.027022  0.745331 -0.087171  0.199351 -0.638848 -0.062634\n",
       "1/1/2007 -1.373227  1.007323  0.105828 -0.723159 -1.302814  0.186852  0.559020\n",
       "1/1/2008  0.145906  0.325900  0.807613 -0.659431  0.600862 -2.630107 -0.142168\n",
       "1/1/2009  0.696450 -0.051224 -0.830457 -0.005017 -0.446735 -1.793360 -1.706787"
      ]
     },
     "execution_count": 24,
     "metadata": {},
     "output_type": "execute_result"
    }
   ],
   "source": [
    "df = pd.DataFrame(np.random.randn(10, 7), columns=list('ABCDEFG'), index=index_list)\n",
    "df"
   ]
  },
  {
   "cell_type": "markdown",
   "metadata": {},
   "source": [
    "### local"
   ]
  },
  {
   "cell_type": "code",
   "execution_count": 25,
   "metadata": {
    "scrolled": true
   },
   "outputs": [
    {
     "data": {
      "text/plain": [
       "-0.4103399529765193"
      ]
     },
     "execution_count": 25,
     "metadata": {},
     "output_type": "execute_result"
    }
   ],
   "source": [
    "df.A.corr(df.B)"
   ]
  },
  {
   "cell_type": "code",
   "execution_count": 26,
   "metadata": {},
   "outputs": [
    {
     "data": {
      "text/plain": [
       "-0.22139354383300155"
      ]
     },
     "execution_count": 26,
     "metadata": {},
     "output_type": "execute_result"
    }
   ],
   "source": [
    "df.A.cov(df.B)"
   ]
  },
  {
   "cell_type": "markdown",
   "metadata": {},
   "source": [
    "### all set"
   ]
  },
  {
   "cell_type": "code",
   "execution_count": 27,
   "metadata": {
    "scrolled": true
   },
   "outputs": [
    {
     "data": {
      "text/html": [
       "<div>\n",
       "<style scoped>\n",
       "    .dataframe tbody tr th:only-of-type {\n",
       "        vertical-align: middle;\n",
       "    }\n",
       "\n",
       "    .dataframe tbody tr th {\n",
       "        vertical-align: top;\n",
       "    }\n",
       "\n",
       "    .dataframe thead th {\n",
       "        text-align: right;\n",
       "    }\n",
       "</style>\n",
       "<table border=\"1\" class=\"dataframe\">\n",
       "  <thead>\n",
       "    <tr style=\"text-align: right;\">\n",
       "      <th></th>\n",
       "      <th>A</th>\n",
       "      <th>B</th>\n",
       "      <th>C</th>\n",
       "      <th>D</th>\n",
       "      <th>E</th>\n",
       "      <th>F</th>\n",
       "      <th>G</th>\n",
       "    </tr>\n",
       "  </thead>\n",
       "  <tbody>\n",
       "    <tr>\n",
       "      <th>A</th>\n",
       "      <td>1.000000</td>\n",
       "      <td>-0.410340</td>\n",
       "      <td>-0.136363</td>\n",
       "      <td>0.729695</td>\n",
       "      <td>0.786990</td>\n",
       "      <td>-0.240763</td>\n",
       "      <td>-0.130299</td>\n",
       "    </tr>\n",
       "    <tr>\n",
       "      <th>B</th>\n",
       "      <td>-0.410340</td>\n",
       "      <td>1.000000</td>\n",
       "      <td>-0.443092</td>\n",
       "      <td>-0.814726</td>\n",
       "      <td>-0.503886</td>\n",
       "      <td>-0.268544</td>\n",
       "      <td>0.357076</td>\n",
       "    </tr>\n",
       "    <tr>\n",
       "      <th>C</th>\n",
       "      <td>-0.136363</td>\n",
       "      <td>-0.443092</td>\n",
       "      <td>1.000000</td>\n",
       "      <td>0.115077</td>\n",
       "      <td>0.212391</td>\n",
       "      <td>0.090765</td>\n",
       "      <td>-0.017176</td>\n",
       "    </tr>\n",
       "    <tr>\n",
       "      <th>D</th>\n",
       "      <td>0.729695</td>\n",
       "      <td>-0.814726</td>\n",
       "      <td>0.115077</td>\n",
       "      <td>1.000000</td>\n",
       "      <td>0.615506</td>\n",
       "      <td>0.321317</td>\n",
       "      <td>-0.158027</td>\n",
       "    </tr>\n",
       "    <tr>\n",
       "      <th>E</th>\n",
       "      <td>0.786990</td>\n",
       "      <td>-0.503886</td>\n",
       "      <td>0.212391</td>\n",
       "      <td>0.615506</td>\n",
       "      <td>1.000000</td>\n",
       "      <td>-0.120415</td>\n",
       "      <td>0.077034</td>\n",
       "    </tr>\n",
       "    <tr>\n",
       "      <th>F</th>\n",
       "      <td>-0.240763</td>\n",
       "      <td>-0.268544</td>\n",
       "      <td>0.090765</td>\n",
       "      <td>0.321317</td>\n",
       "      <td>-0.120415</td>\n",
       "      <td>1.000000</td>\n",
       "      <td>-0.054853</td>\n",
       "    </tr>\n",
       "    <tr>\n",
       "      <th>G</th>\n",
       "      <td>-0.130299</td>\n",
       "      <td>0.357076</td>\n",
       "      <td>-0.017176</td>\n",
       "      <td>-0.158027</td>\n",
       "      <td>0.077034</td>\n",
       "      <td>-0.054853</td>\n",
       "      <td>1.000000</td>\n",
       "    </tr>\n",
       "  </tbody>\n",
       "</table>\n",
       "</div>"
      ],
      "text/plain": [
       "          A         B         C         D         E         F         G\n",
       "A  1.000000 -0.410340 -0.136363  0.729695  0.786990 -0.240763 -0.130299\n",
       "B -0.410340  1.000000 -0.443092 -0.814726 -0.503886 -0.268544  0.357076\n",
       "C -0.136363 -0.443092  1.000000  0.115077  0.212391  0.090765 -0.017176\n",
       "D  0.729695 -0.814726  0.115077  1.000000  0.615506  0.321317 -0.158027\n",
       "E  0.786990 -0.503886  0.212391  0.615506  1.000000 -0.120415  0.077034\n",
       "F -0.240763 -0.268544  0.090765  0.321317 -0.120415  1.000000 -0.054853\n",
       "G -0.130299  0.357076 -0.017176 -0.158027  0.077034 -0.054853  1.000000"
      ]
     },
     "execution_count": 27,
     "metadata": {},
     "output_type": "execute_result"
    }
   ],
   "source": [
    "df.corr()"
   ]
  },
  {
   "cell_type": "code",
   "execution_count": 28,
   "metadata": {},
   "outputs": [
    {
     "data": {
      "text/html": [
       "<div>\n",
       "<style scoped>\n",
       "    .dataframe tbody tr th:only-of-type {\n",
       "        vertical-align: middle;\n",
       "    }\n",
       "\n",
       "    .dataframe tbody tr th {\n",
       "        vertical-align: top;\n",
       "    }\n",
       "\n",
       "    .dataframe thead th {\n",
       "        text-align: right;\n",
       "    }\n",
       "</style>\n",
       "<table border=\"1\" class=\"dataframe\">\n",
       "  <thead>\n",
       "    <tr style=\"text-align: right;\">\n",
       "      <th></th>\n",
       "      <th>A</th>\n",
       "      <th>B</th>\n",
       "      <th>C</th>\n",
       "      <th>D</th>\n",
       "      <th>E</th>\n",
       "      <th>F</th>\n",
       "      <th>G</th>\n",
       "    </tr>\n",
       "  </thead>\n",
       "  <tbody>\n",
       "    <tr>\n",
       "      <th>A</th>\n",
       "      <td>0.865311</td>\n",
       "      <td>-0.221394</td>\n",
       "      <td>-0.116816</td>\n",
       "      <td>0.311012</td>\n",
       "      <td>0.601560</td>\n",
       "      <td>-0.237962</td>\n",
       "      <td>-0.117614</td>\n",
       "    </tr>\n",
       "    <tr>\n",
       "      <th>B</th>\n",
       "      <td>-0.221394</td>\n",
       "      <td>0.336411</td>\n",
       "      <td>-0.236672</td>\n",
       "      <td>-0.216519</td>\n",
       "      <td>-0.240154</td>\n",
       "      <td>-0.165494</td>\n",
       "      <td>0.200968</td>\n",
       "    </tr>\n",
       "    <tr>\n",
       "      <th>C</th>\n",
       "      <td>-0.116816</td>\n",
       "      <td>-0.236672</td>\n",
       "      <td>0.848078</td>\n",
       "      <td>0.048558</td>\n",
       "      <td>0.160723</td>\n",
       "      <td>0.088811</td>\n",
       "      <td>-0.015348</td>\n",
       "    </tr>\n",
       "    <tr>\n",
       "      <th>D</th>\n",
       "      <td>0.311012</td>\n",
       "      <td>-0.216519</td>\n",
       "      <td>0.048558</td>\n",
       "      <td>0.209942</td>\n",
       "      <td>0.231742</td>\n",
       "      <td>0.156428</td>\n",
       "      <td>-0.070260</td>\n",
       "    </tr>\n",
       "    <tr>\n",
       "      <th>E</th>\n",
       "      <td>0.601560</td>\n",
       "      <td>-0.240154</td>\n",
       "      <td>0.160723</td>\n",
       "      <td>0.231742</td>\n",
       "      <td>0.675223</td>\n",
       "      <td>-0.105132</td>\n",
       "      <td>0.061424</td>\n",
       "    </tr>\n",
       "    <tr>\n",
       "      <th>F</th>\n",
       "      <td>-0.237962</td>\n",
       "      <td>-0.165494</td>\n",
       "      <td>0.088811</td>\n",
       "      <td>0.156428</td>\n",
       "      <td>-0.105132</td>\n",
       "      <td>1.128919</td>\n",
       "      <td>-0.056554</td>\n",
       "    </tr>\n",
       "    <tr>\n",
       "      <th>G</th>\n",
       "      <td>-0.117614</td>\n",
       "      <td>0.200968</td>\n",
       "      <td>-0.015348</td>\n",
       "      <td>-0.070260</td>\n",
       "      <td>0.061424</td>\n",
       "      <td>-0.056554</td>\n",
       "      <td>0.941586</td>\n",
       "    </tr>\n",
       "  </tbody>\n",
       "</table>\n",
       "</div>"
      ],
      "text/plain": [
       "          A         B         C         D         E         F         G\n",
       "A  0.865311 -0.221394 -0.116816  0.311012  0.601560 -0.237962 -0.117614\n",
       "B -0.221394  0.336411 -0.236672 -0.216519 -0.240154 -0.165494  0.200968\n",
       "C -0.116816 -0.236672  0.848078  0.048558  0.160723  0.088811 -0.015348\n",
       "D  0.311012 -0.216519  0.048558  0.209942  0.231742  0.156428 -0.070260\n",
       "E  0.601560 -0.240154  0.160723  0.231742  0.675223 -0.105132  0.061424\n",
       "F -0.237962 -0.165494  0.088811  0.156428 -0.105132  1.128919 -0.056554\n",
       "G -0.117614  0.200968 -0.015348 -0.070260  0.061424 -0.056554  0.941586"
      ]
     },
     "execution_count": 28,
     "metadata": {},
     "output_type": "execute_result"
    }
   ],
   "source": [
    "df.cov()"
   ]
  },
  {
   "cell_type": "markdown",
   "metadata": {},
   "source": [
    "### corrwith"
   ]
  },
  {
   "cell_type": "code",
   "execution_count": 29,
   "metadata": {},
   "outputs": [
    {
     "data": {
      "text/plain": [
       "A    1.000000\n",
       "B   -0.410340\n",
       "C   -0.136363\n",
       "D    0.729695\n",
       "E    0.786990\n",
       "F   -0.240763\n",
       "G   -0.130299\n",
       "dtype: float64"
      ]
     },
     "execution_count": 29,
     "metadata": {},
     "output_type": "execute_result"
    }
   ],
   "source": [
    "df.corrwith(df.A)"
   ]
  },
  {
   "cell_type": "markdown",
   "metadata": {},
   "source": [
    "## Unique values, counters and membership"
   ]
  },
  {
   "cell_type": "markdown",
   "metadata": {},
   "source": [
    "### series"
   ]
  },
  {
   "cell_type": "code",
   "execution_count": 30,
   "metadata": {},
   "outputs": [
    {
     "data": {
      "text/plain": [
       "0    c\n",
       "1    a\n",
       "2    d\n",
       "3    a\n",
       "4    a\n",
       "5    b\n",
       "6    b\n",
       "7    c\n",
       "8    c\n",
       "dtype: object"
      ]
     },
     "execution_count": 30,
     "metadata": {},
     "output_type": "execute_result"
    }
   ],
   "source": [
    "s = pd.Series(list('cadaabbcc'))\n",
    "s"
   ]
  },
  {
   "cell_type": "code",
   "execution_count": 31,
   "metadata": {},
   "outputs": [
    {
     "data": {
      "text/plain": [
       "array(['c', 'a', 'd', 'b'], dtype=object)"
      ]
     },
     "execution_count": 31,
     "metadata": {},
     "output_type": "execute_result"
    }
   ],
   "source": [
    "s.unique()"
   ]
  },
  {
   "cell_type": "code",
   "execution_count": 32,
   "metadata": {},
   "outputs": [
    {
     "data": {
      "text/plain": [
       "c    3\n",
       "a    3\n",
       "b    2\n",
       "d    1\n",
       "dtype: int64"
      ]
     },
     "execution_count": 32,
     "metadata": {},
     "output_type": "execute_result"
    }
   ],
   "source": [
    "s.value_counts()"
   ]
  },
  {
   "cell_type": "code",
   "execution_count": 33,
   "metadata": {},
   "outputs": [
    {
     "data": {
      "text/plain": [
       "c    3\n",
       "a    3\n",
       "b    2\n",
       "d    1\n",
       "dtype: int64"
      ]
     },
     "execution_count": 33,
     "metadata": {},
     "output_type": "execute_result"
    }
   ],
   "source": [
    "pd.value_counts(s, sort=True)"
   ]
  },
  {
   "cell_type": "code",
   "execution_count": 34,
   "metadata": {},
   "outputs": [
    {
     "data": {
      "text/plain": [
       "0     True\n",
       "1    False\n",
       "2    False\n",
       "3    False\n",
       "4    False\n",
       "5     True\n",
       "6     True\n",
       "7     True\n",
       "8     True\n",
       "dtype: bool"
      ]
     },
     "execution_count": 34,
     "metadata": {},
     "output_type": "execute_result"
    }
   ],
   "source": [
    "s.isin(list('bc'))"
   ]
  },
  {
   "cell_type": "markdown",
   "metadata": {},
   "source": [
    "### gistogram"
   ]
  },
  {
   "cell_type": "code",
   "execution_count": 35,
   "metadata": {},
   "outputs": [
    {
     "data": {
      "text/html": [
       "<div>\n",
       "<style scoped>\n",
       "    .dataframe tbody tr th:only-of-type {\n",
       "        vertical-align: middle;\n",
       "    }\n",
       "\n",
       "    .dataframe tbody tr th {\n",
       "        vertical-align: top;\n",
       "    }\n",
       "\n",
       "    .dataframe thead th {\n",
       "        text-align: right;\n",
       "    }\n",
       "</style>\n",
       "<table border=\"1\" class=\"dataframe\">\n",
       "  <thead>\n",
       "    <tr style=\"text-align: right;\">\n",
       "      <th></th>\n",
       "      <th>A</th>\n",
       "      <th>B</th>\n",
       "      <th>C</th>\n",
       "      <th>D</th>\n",
       "      <th>E</th>\n",
       "      <th>F</th>\n",
       "      <th>G</th>\n",
       "    </tr>\n",
       "  </thead>\n",
       "  <tbody>\n",
       "    <tr>\n",
       "      <th>1/1/2000</th>\n",
       "      <td>-0.580317</td>\n",
       "      <td>-1.172205</td>\n",
       "      <td>1.824581</td>\n",
       "      <td>0.256637</td>\n",
       "      <td>0.168333</td>\n",
       "      <td>0.308234</td>\n",
       "      <td>-1.113815</td>\n",
       "    </tr>\n",
       "    <tr>\n",
       "      <th>1/1/2001</th>\n",
       "      <td>0.641601</td>\n",
       "      <td>-0.518930</td>\n",
       "      <td>0.241959</td>\n",
       "      <td>0.467028</td>\n",
       "      <td>0.652808</td>\n",
       "      <td>0.440662</td>\n",
       "      <td>0.580837</td>\n",
       "    </tr>\n",
       "    <tr>\n",
       "      <th>1/1/2002</th>\n",
       "      <td>0.362031</td>\n",
       "      <td>-0.122528</td>\n",
       "      <td>-0.401799</td>\n",
       "      <td>0.006861</td>\n",
       "      <td>0.390792</td>\n",
       "      <td>0.824773</td>\n",
       "      <td>-2.033410</td>\n",
       "    </tr>\n",
       "    <tr>\n",
       "      <th>1/1/2003</th>\n",
       "      <td>-0.762745</td>\n",
       "      <td>-0.212196</td>\n",
       "      <td>0.813066</td>\n",
       "      <td>-0.227799</td>\n",
       "      <td>-1.314191</td>\n",
       "      <td>-0.133755</td>\n",
       "      <td>-1.660449</td>\n",
       "    </tr>\n",
       "    <tr>\n",
       "      <th>1/1/2004</th>\n",
       "      <td>-2.102579</td>\n",
       "      <td>0.458301</td>\n",
       "      <td>-0.589592</td>\n",
       "      <td>-0.952404</td>\n",
       "      <td>-1.450447</td>\n",
       "      <td>-0.314001</td>\n",
       "      <td>-0.379856</td>\n",
       "    </tr>\n",
       "    <tr>\n",
       "      <th>1/1/2005</th>\n",
       "      <td>0.382282</td>\n",
       "      <td>-0.065583</td>\n",
       "      <td>-1.183745</td>\n",
       "      <td>0.106859</td>\n",
       "      <td>-0.075776</td>\n",
       "      <td>-0.674442</td>\n",
       "      <td>0.124049</td>\n",
       "    </tr>\n",
       "    <tr>\n",
       "      <th>1/1/2006</th>\n",
       "      <td>0.066749</td>\n",
       "      <td>-0.027022</td>\n",
       "      <td>0.745331</td>\n",
       "      <td>-0.087171</td>\n",
       "      <td>0.199351</td>\n",
       "      <td>-0.638848</td>\n",
       "      <td>-0.062634</td>\n",
       "    </tr>\n",
       "    <tr>\n",
       "      <th>1/1/2007</th>\n",
       "      <td>-1.373227</td>\n",
       "      <td>1.007323</td>\n",
       "      <td>0.105828</td>\n",
       "      <td>-0.723159</td>\n",
       "      <td>-1.302814</td>\n",
       "      <td>0.186852</td>\n",
       "      <td>0.559020</td>\n",
       "    </tr>\n",
       "    <tr>\n",
       "      <th>1/1/2008</th>\n",
       "      <td>0.145906</td>\n",
       "      <td>0.325900</td>\n",
       "      <td>0.807613</td>\n",
       "      <td>-0.659431</td>\n",
       "      <td>0.600862</td>\n",
       "      <td>-2.630107</td>\n",
       "      <td>-0.142168</td>\n",
       "    </tr>\n",
       "    <tr>\n",
       "      <th>1/1/2009</th>\n",
       "      <td>0.696450</td>\n",
       "      <td>-0.051224</td>\n",
       "      <td>-0.830457</td>\n",
       "      <td>-0.005017</td>\n",
       "      <td>-0.446735</td>\n",
       "      <td>-1.793360</td>\n",
       "      <td>-1.706787</td>\n",
       "    </tr>\n",
       "  </tbody>\n",
       "</table>\n",
       "</div>"
      ],
      "text/plain": [
       "                 A         B         C         D         E         F         G\n",
       "1/1/2000 -0.580317 -1.172205  1.824581  0.256637  0.168333  0.308234 -1.113815\n",
       "1/1/2001  0.641601 -0.518930  0.241959  0.467028  0.652808  0.440662  0.580837\n",
       "1/1/2002  0.362031 -0.122528 -0.401799  0.006861  0.390792  0.824773 -2.033410\n",
       "1/1/2003 -0.762745 -0.212196  0.813066 -0.227799 -1.314191 -0.133755 -1.660449\n",
       "1/1/2004 -2.102579  0.458301 -0.589592 -0.952404 -1.450447 -0.314001 -0.379856\n",
       "1/1/2005  0.382282 -0.065583 -1.183745  0.106859 -0.075776 -0.674442  0.124049\n",
       "1/1/2006  0.066749 -0.027022  0.745331 -0.087171  0.199351 -0.638848 -0.062634\n",
       "1/1/2007 -1.373227  1.007323  0.105828 -0.723159 -1.302814  0.186852  0.559020\n",
       "1/1/2008  0.145906  0.325900  0.807613 -0.659431  0.600862 -2.630107 -0.142168\n",
       "1/1/2009  0.696450 -0.051224 -0.830457 -0.005017 -0.446735 -1.793360 -1.706787"
      ]
     },
     "execution_count": 35,
     "metadata": {},
     "output_type": "execute_result"
    }
   ],
   "source": [
    "df"
   ]
  },
  {
   "cell_type": "code",
   "execution_count": 36,
   "metadata": {},
   "outputs": [
    {
     "data": {
      "text/html": [
       "<div>\n",
       "<style scoped>\n",
       "    .dataframe tbody tr th:only-of-type {\n",
       "        vertical-align: middle;\n",
       "    }\n",
       "\n",
       "    .dataframe tbody tr th {\n",
       "        vertical-align: top;\n",
       "    }\n",
       "\n",
       "    .dataframe thead th {\n",
       "        text-align: right;\n",
       "    }\n",
       "</style>\n",
       "<table border=\"1\" class=\"dataframe\">\n",
       "  <thead>\n",
       "    <tr style=\"text-align: right;\">\n",
       "      <th></th>\n",
       "      <th>A</th>\n",
       "      <th>B</th>\n",
       "      <th>C</th>\n",
       "      <th>D</th>\n",
       "      <th>E</th>\n",
       "      <th>F</th>\n",
       "      <th>G</th>\n",
       "    </tr>\n",
       "  </thead>\n",
       "  <tbody>\n",
       "    <tr>\n",
       "      <th>-2.630107</th>\n",
       "      <td>0.0</td>\n",
       "      <td>0.0</td>\n",
       "      <td>0.0</td>\n",
       "      <td>0.0</td>\n",
       "      <td>0.0</td>\n",
       "      <td>1.0</td>\n",
       "      <td>0.0</td>\n",
       "    </tr>\n",
       "    <tr>\n",
       "      <th>-2.102579</th>\n",
       "      <td>1.0</td>\n",
       "      <td>0.0</td>\n",
       "      <td>0.0</td>\n",
       "      <td>0.0</td>\n",
       "      <td>0.0</td>\n",
       "      <td>0.0</td>\n",
       "      <td>0.0</td>\n",
       "    </tr>\n",
       "    <tr>\n",
       "      <th>-2.033410</th>\n",
       "      <td>0.0</td>\n",
       "      <td>0.0</td>\n",
       "      <td>0.0</td>\n",
       "      <td>0.0</td>\n",
       "      <td>0.0</td>\n",
       "      <td>0.0</td>\n",
       "      <td>1.0</td>\n",
       "    </tr>\n",
       "    <tr>\n",
       "      <th>-1.793360</th>\n",
       "      <td>0.0</td>\n",
       "      <td>0.0</td>\n",
       "      <td>0.0</td>\n",
       "      <td>0.0</td>\n",
       "      <td>0.0</td>\n",
       "      <td>1.0</td>\n",
       "      <td>0.0</td>\n",
       "    </tr>\n",
       "    <tr>\n",
       "      <th>-1.706787</th>\n",
       "      <td>0.0</td>\n",
       "      <td>0.0</td>\n",
       "      <td>0.0</td>\n",
       "      <td>0.0</td>\n",
       "      <td>0.0</td>\n",
       "      <td>0.0</td>\n",
       "      <td>1.0</td>\n",
       "    </tr>\n",
       "    <tr>\n",
       "      <th>-1.660449</th>\n",
       "      <td>0.0</td>\n",
       "      <td>0.0</td>\n",
       "      <td>0.0</td>\n",
       "      <td>0.0</td>\n",
       "      <td>0.0</td>\n",
       "      <td>0.0</td>\n",
       "      <td>1.0</td>\n",
       "    </tr>\n",
       "    <tr>\n",
       "      <th>-1.450447</th>\n",
       "      <td>0.0</td>\n",
       "      <td>0.0</td>\n",
       "      <td>0.0</td>\n",
       "      <td>0.0</td>\n",
       "      <td>1.0</td>\n",
       "      <td>0.0</td>\n",
       "      <td>0.0</td>\n",
       "    </tr>\n",
       "    <tr>\n",
       "      <th>-1.373227</th>\n",
       "      <td>1.0</td>\n",
       "      <td>0.0</td>\n",
       "      <td>0.0</td>\n",
       "      <td>0.0</td>\n",
       "      <td>0.0</td>\n",
       "      <td>0.0</td>\n",
       "      <td>0.0</td>\n",
       "    </tr>\n",
       "    <tr>\n",
       "      <th>-1.314191</th>\n",
       "      <td>0.0</td>\n",
       "      <td>0.0</td>\n",
       "      <td>0.0</td>\n",
       "      <td>0.0</td>\n",
       "      <td>1.0</td>\n",
       "      <td>0.0</td>\n",
       "      <td>0.0</td>\n",
       "    </tr>\n",
       "    <tr>\n",
       "      <th>-1.302814</th>\n",
       "      <td>0.0</td>\n",
       "      <td>0.0</td>\n",
       "      <td>0.0</td>\n",
       "      <td>0.0</td>\n",
       "      <td>1.0</td>\n",
       "      <td>0.0</td>\n",
       "      <td>0.0</td>\n",
       "    </tr>\n",
       "    <tr>\n",
       "      <th>-1.183745</th>\n",
       "      <td>0.0</td>\n",
       "      <td>0.0</td>\n",
       "      <td>1.0</td>\n",
       "      <td>0.0</td>\n",
       "      <td>0.0</td>\n",
       "      <td>0.0</td>\n",
       "      <td>0.0</td>\n",
       "    </tr>\n",
       "    <tr>\n",
       "      <th>-1.172205</th>\n",
       "      <td>0.0</td>\n",
       "      <td>1.0</td>\n",
       "      <td>0.0</td>\n",
       "      <td>0.0</td>\n",
       "      <td>0.0</td>\n",
       "      <td>0.0</td>\n",
       "      <td>0.0</td>\n",
       "    </tr>\n",
       "    <tr>\n",
       "      <th>-1.113815</th>\n",
       "      <td>0.0</td>\n",
       "      <td>0.0</td>\n",
       "      <td>0.0</td>\n",
       "      <td>0.0</td>\n",
       "      <td>0.0</td>\n",
       "      <td>0.0</td>\n",
       "      <td>1.0</td>\n",
       "    </tr>\n",
       "    <tr>\n",
       "      <th>-0.952404</th>\n",
       "      <td>0.0</td>\n",
       "      <td>0.0</td>\n",
       "      <td>0.0</td>\n",
       "      <td>1.0</td>\n",
       "      <td>0.0</td>\n",
       "      <td>0.0</td>\n",
       "      <td>0.0</td>\n",
       "    </tr>\n",
       "    <tr>\n",
       "      <th>-0.830457</th>\n",
       "      <td>0.0</td>\n",
       "      <td>0.0</td>\n",
       "      <td>1.0</td>\n",
       "      <td>0.0</td>\n",
       "      <td>0.0</td>\n",
       "      <td>0.0</td>\n",
       "      <td>0.0</td>\n",
       "    </tr>\n",
       "  </tbody>\n",
       "</table>\n",
       "</div>"
      ],
      "text/plain": [
       "             A    B    C    D    E    F    G\n",
       "-2.630107  0.0  0.0  0.0  0.0  0.0  1.0  0.0\n",
       "-2.102579  1.0  0.0  0.0  0.0  0.0  0.0  0.0\n",
       "-2.033410  0.0  0.0  0.0  0.0  0.0  0.0  1.0\n",
       "-1.793360  0.0  0.0  0.0  0.0  0.0  1.0  0.0\n",
       "-1.706787  0.0  0.0  0.0  0.0  0.0  0.0  1.0\n",
       "-1.660449  0.0  0.0  0.0  0.0  0.0  0.0  1.0\n",
       "-1.450447  0.0  0.0  0.0  0.0  1.0  0.0  0.0\n",
       "-1.373227  1.0  0.0  0.0  0.0  0.0  0.0  0.0\n",
       "-1.314191  0.0  0.0  0.0  0.0  1.0  0.0  0.0\n",
       "-1.302814  0.0  0.0  0.0  0.0  1.0  0.0  0.0\n",
       "-1.183745  0.0  0.0  1.0  0.0  0.0  0.0  0.0\n",
       "-1.172205  0.0  1.0  0.0  0.0  0.0  0.0  0.0\n",
       "-1.113815  0.0  0.0  0.0  0.0  0.0  0.0  1.0\n",
       "-0.952404  0.0  0.0  0.0  1.0  0.0  0.0  0.0\n",
       "-0.830457  0.0  0.0  1.0  0.0  0.0  0.0  0.0"
      ]
     },
     "execution_count": 36,
     "metadata": {},
     "output_type": "execute_result"
    }
   ],
   "source": [
    "df.apply(pd.value_counts).fillna(0).head(15)"
   ]
  }
 ],
 "metadata": {
  "kernelspec": {
   "display_name": "Python 3",
   "language": "python",
   "name": "python3"
  },
  "language_info": {
   "codemirror_mode": {
    "name": "ipython",
    "version": 3
   },
   "file_extension": ".py",
   "mimetype": "text/x-python",
   "name": "python",
   "nbconvert_exporter": "python",
   "pygments_lexer": "ipython3",
   "version": "3.6.5"
  }
 },
 "nbformat": 4,
 "nbformat_minor": 2
}
