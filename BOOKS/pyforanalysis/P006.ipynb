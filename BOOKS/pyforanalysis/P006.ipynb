{
 "cells": [
  {
   "cell_type": "markdown",
   "metadata": {},
   "source": [
    "# Pandas"
   ]
  },
  {
   "cell_type": "markdown",
   "metadata": {},
   "source": [
    "![gif](imgs/P006.gif)"
   ]
  },
  {
   "cell_type": "markdown",
   "metadata": {},
   "source": [
    "## Import"
   ]
  },
  {
   "cell_type": "code",
   "execution_count": 1,
   "metadata": {},
   "outputs": [],
   "source": [
    "import pandas as pd\n",
    "import numpy as np"
   ]
  },
  {
   "cell_type": "markdown",
   "metadata": {},
   "source": [
    "## Work with columns"
   ]
  },
  {
   "cell_type": "code",
   "execution_count": 2,
   "metadata": {},
   "outputs": [
    {
     "data": {
      "text/html": [
       "<div>\n",
       "<style scoped>\n",
       "    .dataframe tbody tr th:only-of-type {\n",
       "        vertical-align: middle;\n",
       "    }\n",
       "\n",
       "    .dataframe tbody tr th {\n",
       "        vertical-align: top;\n",
       "    }\n",
       "\n",
       "    .dataframe thead th {\n",
       "        text-align: right;\n",
       "    }\n",
       "</style>\n",
       "<table border=\"1\" class=\"dataframe\">\n",
       "  <thead>\n",
       "    <tr style=\"text-align: right;\">\n",
       "      <th></th>\n",
       "      <th>a</th>\n",
       "      <th>b</th>\n",
       "      <th>c</th>\n",
       "      <th>d</th>\n",
       "    </tr>\n",
       "  </thead>\n",
       "  <tbody>\n",
       "    <tr>\n",
       "      <th>0</th>\n",
       "      <td>0</td>\n",
       "      <td>7</td>\n",
       "      <td>one</td>\n",
       "      <td>0</td>\n",
       "    </tr>\n",
       "    <tr>\n",
       "      <th>1</th>\n",
       "      <td>1</td>\n",
       "      <td>6</td>\n",
       "      <td>one</td>\n",
       "      <td>1</td>\n",
       "    </tr>\n",
       "    <tr>\n",
       "      <th>2</th>\n",
       "      <td>2</td>\n",
       "      <td>5</td>\n",
       "      <td>one</td>\n",
       "      <td>2</td>\n",
       "    </tr>\n",
       "    <tr>\n",
       "      <th>3</th>\n",
       "      <td>3</td>\n",
       "      <td>4</td>\n",
       "      <td>two</td>\n",
       "      <td>0</td>\n",
       "    </tr>\n",
       "    <tr>\n",
       "      <th>4</th>\n",
       "      <td>4</td>\n",
       "      <td>3</td>\n",
       "      <td>two</td>\n",
       "      <td>1</td>\n",
       "    </tr>\n",
       "    <tr>\n",
       "      <th>5</th>\n",
       "      <td>5</td>\n",
       "      <td>2</td>\n",
       "      <td>two</td>\n",
       "      <td>2</td>\n",
       "    </tr>\n",
       "    <tr>\n",
       "      <th>6</th>\n",
       "      <td>6</td>\n",
       "      <td>1</td>\n",
       "      <td>two</td>\n",
       "      <td>3</td>\n",
       "    </tr>\n",
       "  </tbody>\n",
       "</table>\n",
       "</div>"
      ],
      "text/plain": [
       "   a  b    c  d\n",
       "0  0  7  one  0\n",
       "1  1  6  one  1\n",
       "2  2  5  one  2\n",
       "3  3  4  two  0\n",
       "4  4  3  two  1\n",
       "5  5  2  two  2\n",
       "6  6  1  two  3"
      ]
     },
     "execution_count": 2,
     "metadata": {},
     "output_type": "execute_result"
    }
   ],
   "source": [
    "df = pd.DataFrame({'a': np.arange(7), \n",
    "                   'b': np.arange(7,0,-1), \n",
    "                   'c':['one', 'one', 'one', 'two', 'two', 'two', 'two'], \n",
    "                   'd': [0,1,2,0,1,2,3]})\n",
    "\n",
    "df"
   ]
  },
  {
   "cell_type": "code",
   "execution_count": 3,
   "metadata": {},
   "outputs": [
    {
     "data": {
      "text/html": [
       "<div>\n",
       "<style scoped>\n",
       "    .dataframe tbody tr th:only-of-type {\n",
       "        vertical-align: middle;\n",
       "    }\n",
       "\n",
       "    .dataframe tbody tr th {\n",
       "        vertical-align: top;\n",
       "    }\n",
       "\n",
       "    .dataframe thead th {\n",
       "        text-align: right;\n",
       "    }\n",
       "</style>\n",
       "<table border=\"1\" class=\"dataframe\">\n",
       "  <thead>\n",
       "    <tr style=\"text-align: right;\">\n",
       "      <th></th>\n",
       "      <th></th>\n",
       "      <th>a</th>\n",
       "      <th>b</th>\n",
       "    </tr>\n",
       "    <tr>\n",
       "      <th>c</th>\n",
       "      <th>d</th>\n",
       "      <th></th>\n",
       "      <th></th>\n",
       "    </tr>\n",
       "  </thead>\n",
       "  <tbody>\n",
       "    <tr>\n",
       "      <th rowspan=\"3\" valign=\"top\">one</th>\n",
       "      <th>0</th>\n",
       "      <td>0</td>\n",
       "      <td>7</td>\n",
       "    </tr>\n",
       "    <tr>\n",
       "      <th>1</th>\n",
       "      <td>1</td>\n",
       "      <td>6</td>\n",
       "    </tr>\n",
       "    <tr>\n",
       "      <th>2</th>\n",
       "      <td>2</td>\n",
       "      <td>5</td>\n",
       "    </tr>\n",
       "    <tr>\n",
       "      <th rowspan=\"4\" valign=\"top\">two</th>\n",
       "      <th>0</th>\n",
       "      <td>3</td>\n",
       "      <td>4</td>\n",
       "    </tr>\n",
       "    <tr>\n",
       "      <th>1</th>\n",
       "      <td>4</td>\n",
       "      <td>3</td>\n",
       "    </tr>\n",
       "    <tr>\n",
       "      <th>2</th>\n",
       "      <td>5</td>\n",
       "      <td>2</td>\n",
       "    </tr>\n",
       "    <tr>\n",
       "      <th>3</th>\n",
       "      <td>6</td>\n",
       "      <td>1</td>\n",
       "    </tr>\n",
       "  </tbody>\n",
       "</table>\n",
       "</div>"
      ],
      "text/plain": [
       "       a  b\n",
       "c   d      \n",
       "one 0  0  7\n",
       "    1  1  6\n",
       "    2  2  5\n",
       "two 0  3  4\n",
       "    1  4  3\n",
       "    2  5  2\n",
       "    3  6  1"
      ]
     },
     "execution_count": 3,
     "metadata": {},
     "output_type": "execute_result"
    }
   ],
   "source": [
    "df2 = df.set_index(list('cd'))\n",
    "df2"
   ]
  },
  {
   "cell_type": "code",
   "execution_count": 4,
   "metadata": {},
   "outputs": [
    {
     "data": {
      "text/html": [
       "<div>\n",
       "<style scoped>\n",
       "    .dataframe tbody tr th:only-of-type {\n",
       "        vertical-align: middle;\n",
       "    }\n",
       "\n",
       "    .dataframe tbody tr th {\n",
       "        vertical-align: top;\n",
       "    }\n",
       "\n",
       "    .dataframe thead th {\n",
       "        text-align: right;\n",
       "    }\n",
       "</style>\n",
       "<table border=\"1\" class=\"dataframe\">\n",
       "  <thead>\n",
       "    <tr style=\"text-align: right;\">\n",
       "      <th></th>\n",
       "      <th>c</th>\n",
       "      <th>d</th>\n",
       "      <th>a</th>\n",
       "      <th>b</th>\n",
       "    </tr>\n",
       "  </thead>\n",
       "  <tbody>\n",
       "    <tr>\n",
       "      <th>0</th>\n",
       "      <td>one</td>\n",
       "      <td>0</td>\n",
       "      <td>0</td>\n",
       "      <td>7</td>\n",
       "    </tr>\n",
       "    <tr>\n",
       "      <th>1</th>\n",
       "      <td>one</td>\n",
       "      <td>1</td>\n",
       "      <td>1</td>\n",
       "      <td>6</td>\n",
       "    </tr>\n",
       "    <tr>\n",
       "      <th>2</th>\n",
       "      <td>one</td>\n",
       "      <td>2</td>\n",
       "      <td>2</td>\n",
       "      <td>5</td>\n",
       "    </tr>\n",
       "    <tr>\n",
       "      <th>3</th>\n",
       "      <td>two</td>\n",
       "      <td>0</td>\n",
       "      <td>3</td>\n",
       "      <td>4</td>\n",
       "    </tr>\n",
       "    <tr>\n",
       "      <th>4</th>\n",
       "      <td>two</td>\n",
       "      <td>1</td>\n",
       "      <td>4</td>\n",
       "      <td>3</td>\n",
       "    </tr>\n",
       "    <tr>\n",
       "      <th>5</th>\n",
       "      <td>two</td>\n",
       "      <td>2</td>\n",
       "      <td>5</td>\n",
       "      <td>2</td>\n",
       "    </tr>\n",
       "    <tr>\n",
       "      <th>6</th>\n",
       "      <td>two</td>\n",
       "      <td>3</td>\n",
       "      <td>6</td>\n",
       "      <td>1</td>\n",
       "    </tr>\n",
       "  </tbody>\n",
       "</table>\n",
       "</div>"
      ],
      "text/plain": [
       "     c  d  a  b\n",
       "0  one  0  0  7\n",
       "1  one  1  1  6\n",
       "2  one  2  2  5\n",
       "3  two  0  3  4\n",
       "4  two  1  4  3\n",
       "5  two  2  5  2\n",
       "6  two  3  6  1"
      ]
     },
     "execution_count": 4,
     "metadata": {},
     "output_type": "execute_result"
    }
   ],
   "source": [
    "df2.reset_index()"
   ]
  },
  {
   "cell_type": "markdown",
   "metadata": {},
   "source": [
    "## Another abilities Pandas"
   ]
  },
  {
   "cell_type": "markdown",
   "metadata": {},
   "source": [
    "### when index is number — we have a problem with KeyError while indexing [-1] value"
   ]
  },
  {
   "cell_type": "code",
   "execution_count": 5,
   "metadata": {},
   "outputs": [
    {
     "data": {
      "text/plain": [
       "0    0.0\n",
       "1    1.0\n",
       "2    2.0\n",
       "dtype: float64"
      ]
     },
     "execution_count": 5,
     "metadata": {},
     "output_type": "execute_result"
    }
   ],
   "source": [
    "s = pd.Series(np.arange(3.))\n",
    "s"
   ]
  },
  {
   "cell_type": "code",
   "execution_count": 6,
   "metadata": {},
   "outputs": [
    {
     "name": "stdout",
     "output_type": "stream",
     "text": [
      "KeyError\n"
     ]
    }
   ],
   "source": [
    "try:\n",
    "    s[-1]\n",
    "except KeyError:\n",
    "    print('KeyError')"
   ]
  },
  {
   "cell_type": "markdown",
   "metadata": {},
   "source": [
    "### but with string-index this problem doesn't exist"
   ]
  },
  {
   "cell_type": "code",
   "execution_count": 7,
   "metadata": {},
   "outputs": [
    {
     "data": {
      "text/plain": [
       "a    0.0\n",
       "b    1.0\n",
       "c    2.0\n",
       "dtype: float64"
      ]
     },
     "execution_count": 7,
     "metadata": {},
     "output_type": "execute_result"
    }
   ],
   "source": [
    "s = pd.Series(np.arange(3.), index=list('abc'))\n",
    "s"
   ]
  },
  {
   "cell_type": "code",
   "execution_count": 8,
   "metadata": {},
   "outputs": [
    {
     "data": {
      "text/plain": [
       "2.0"
      ]
     },
     "execution_count": 8,
     "metadata": {},
     "output_type": "execute_result"
    }
   ],
   "source": [
    "s[-1]"
   ]
  },
  {
   "cell_type": "markdown",
   "metadata": {},
   "source": [
    "## Panel data"
   ]
  },
  {
   "cell_type": "code",
   "execution_count": 9,
   "metadata": {},
   "outputs": [
    {
     "data": {
      "text/html": [
       "<div>\n",
       "<style scoped>\n",
       "    .dataframe tbody tr th:only-of-type {\n",
       "        vertical-align: middle;\n",
       "    }\n",
       "\n",
       "    .dataframe tbody tr th {\n",
       "        vertical-align: top;\n",
       "    }\n",
       "\n",
       "    .dataframe thead tr th {\n",
       "        text-align: left;\n",
       "    }\n",
       "</style>\n",
       "<table border=\"1\" class=\"dataframe\">\n",
       "  <thead>\n",
       "    <tr>\n",
       "      <th></th>\n",
       "      <th></th>\n",
       "      <th>A</th>\n",
       "      <th>B</th>\n",
       "      <th>C</th>\n",
       "      <th>D</th>\n",
       "      <th>E</th>\n",
       "      <th>F</th>\n",
       "      <th>G</th>\n",
       "      <th>H</th>\n",
       "      <th>I</th>\n",
       "      <th>J</th>\n",
       "    </tr>\n",
       "  </thead>\n",
       "  <tbody>\n",
       "    <tr>\n",
       "      <th rowspan=\"4\" valign=\"top\">One</th>\n",
       "      <th>100</th>\n",
       "      <td>1.156018</td>\n",
       "      <td>0.681291</td>\n",
       "      <td>0.258893</td>\n",
       "      <td>-0.835942</td>\n",
       "      <td>-0.669584</td>\n",
       "      <td>0.339374</td>\n",
       "      <td>1.271490</td>\n",
       "      <td>0.151546</td>\n",
       "      <td>-0.004778</td>\n",
       "      <td>-1.240027</td>\n",
       "    </tr>\n",
       "    <tr>\n",
       "      <th>101</th>\n",
       "      <td>-0.175153</td>\n",
       "      <td>-0.686637</td>\n",
       "      <td>-1.145121</td>\n",
       "      <td>-0.979009</td>\n",
       "      <td>-0.809851</td>\n",
       "      <td>-0.254631</td>\n",
       "      <td>-0.022703</td>\n",
       "      <td>0.267806</td>\n",
       "      <td>-0.068168</td>\n",
       "      <td>0.816905</td>\n",
       "    </tr>\n",
       "    <tr>\n",
       "      <th>102</th>\n",
       "      <td>0.161543</td>\n",
       "      <td>0.914696</td>\n",
       "      <td>0.061876</td>\n",
       "      <td>0.834103</td>\n",
       "      <td>-2.050255</td>\n",
       "      <td>1.667976</td>\n",
       "      <td>-1.685967</td>\n",
       "      <td>-0.601966</td>\n",
       "      <td>-0.812016</td>\n",
       "      <td>-1.193877</td>\n",
       "    </tr>\n",
       "    <tr>\n",
       "      <th>103</th>\n",
       "      <td>0.773524</td>\n",
       "      <td>-0.288328</td>\n",
       "      <td>0.231901</td>\n",
       "      <td>1.152137</td>\n",
       "      <td>0.522006</td>\n",
       "      <td>-0.629292</td>\n",
       "      <td>-2.082995</td>\n",
       "      <td>0.557896</td>\n",
       "      <td>-2.376596</td>\n",
       "      <td>-1.255267</td>\n",
       "    </tr>\n",
       "    <tr>\n",
       "      <th rowspan=\"3\" valign=\"top\">Two</th>\n",
       "      <th>100</th>\n",
       "      <td>-1.080627</td>\n",
       "      <td>-1.613994</td>\n",
       "      <td>-0.245871</td>\n",
       "      <td>0.973926</td>\n",
       "      <td>-0.000564</td>\n",
       "      <td>-1.362040</td>\n",
       "      <td>0.175171</td>\n",
       "      <td>-0.576527</td>\n",
       "      <td>-0.831187</td>\n",
       "      <td>0.373507</td>\n",
       "    </tr>\n",
       "    <tr>\n",
       "      <th>101</th>\n",
       "      <td>-0.878222</td>\n",
       "      <td>-0.291476</td>\n",
       "      <td>0.227141</td>\n",
       "      <td>-0.513079</td>\n",
       "      <td>-0.871289</td>\n",
       "      <td>-0.791290</td>\n",
       "      <td>0.119540</td>\n",
       "      <td>-1.807188</td>\n",
       "      <td>0.536267</td>\n",
       "      <td>-0.472492</td>\n",
       "    </tr>\n",
       "    <tr>\n",
       "      <th>102</th>\n",
       "      <td>-0.666269</td>\n",
       "      <td>-1.859304</td>\n",
       "      <td>-0.862859</td>\n",
       "      <td>1.004336</td>\n",
       "      <td>1.083805</td>\n",
       "      <td>0.505571</td>\n",
       "      <td>0.565082</td>\n",
       "      <td>0.270730</td>\n",
       "      <td>1.880113</td>\n",
       "      <td>1.005205</td>\n",
       "    </tr>\n",
       "    <tr>\n",
       "      <th rowspan=\"2\" valign=\"top\">Three</th>\n",
       "      <th>100</th>\n",
       "      <td>2.543765</td>\n",
       "      <td>0.963310</td>\n",
       "      <td>-0.676347</td>\n",
       "      <td>0.790337</td>\n",
       "      <td>0.372379</td>\n",
       "      <td>-0.643799</td>\n",
       "      <td>-1.306608</td>\n",
       "      <td>2.022596</td>\n",
       "      <td>-0.581799</td>\n",
       "      <td>0.523671</td>\n",
       "    </tr>\n",
       "    <tr>\n",
       "      <th>101</th>\n",
       "      <td>-0.888791</td>\n",
       "      <td>0.241554</td>\n",
       "      <td>-0.698559</td>\n",
       "      <td>-1.501259</td>\n",
       "      <td>0.501987</td>\n",
       "      <td>0.743930</td>\n",
       "      <td>0.395963</td>\n",
       "      <td>0.898707</td>\n",
       "      <td>0.315313</td>\n",
       "      <td>0.103767</td>\n",
       "    </tr>\n",
       "    <tr>\n",
       "      <th>Four</th>\n",
       "      <th>100</th>\n",
       "      <td>1.104119</td>\n",
       "      <td>0.765149</td>\n",
       "      <td>1.430277</td>\n",
       "      <td>-0.705143</td>\n",
       "      <td>-0.625849</td>\n",
       "      <td>-1.308759</td>\n",
       "      <td>0.185222</td>\n",
       "      <td>-0.095993</td>\n",
       "      <td>0.408400</td>\n",
       "      <td>-1.534395</td>\n",
       "    </tr>\n",
       "  </tbody>\n",
       "</table>\n",
       "</div>"
      ],
      "text/plain": [
       "                  A         B         C         D         E         F  \\\n",
       "One   100  1.156018  0.681291  0.258893 -0.835942 -0.669584  0.339374   \n",
       "      101 -0.175153 -0.686637 -1.145121 -0.979009 -0.809851 -0.254631   \n",
       "      102  0.161543  0.914696  0.061876  0.834103 -2.050255  1.667976   \n",
       "      103  0.773524 -0.288328  0.231901  1.152137  0.522006 -0.629292   \n",
       "Two   100 -1.080627 -1.613994 -0.245871  0.973926 -0.000564 -1.362040   \n",
       "      101 -0.878222 -0.291476  0.227141 -0.513079 -0.871289 -0.791290   \n",
       "      102 -0.666269 -1.859304 -0.862859  1.004336  1.083805  0.505571   \n",
       "Three 100  2.543765  0.963310 -0.676347  0.790337  0.372379 -0.643799   \n",
       "      101 -0.888791  0.241554 -0.698559 -1.501259  0.501987  0.743930   \n",
       "Four  100  1.104119  0.765149  1.430277 -0.705143 -0.625849 -1.308759   \n",
       "\n",
       "                  G         H         I         J  \n",
       "One   100  1.271490  0.151546 -0.004778 -1.240027  \n",
       "      101 -0.022703  0.267806 -0.068168  0.816905  \n",
       "      102 -1.685967 -0.601966 -0.812016 -1.193877  \n",
       "      103 -2.082995  0.557896 -2.376596 -1.255267  \n",
       "Two   100  0.175171 -0.576527 -0.831187  0.373507  \n",
       "      101  0.119540 -1.807188  0.536267 -0.472492  \n",
       "      102  0.565082  0.270730  1.880113  1.005205  \n",
       "Three 100 -1.306608  2.022596 -0.581799  0.523671  \n",
       "      101  0.395963  0.898707  0.315313  0.103767  \n",
       "Four  100  0.185222 -0.095993  0.408400 -1.534395  "
      ]
     },
     "execution_count": 9,
     "metadata": {},
     "output_type": "execute_result"
    }
   ],
   "source": [
    "col = [list('ABCDEFGHIJ')]\n",
    "ind1 = ['One', 'One', 'One', 'One', 'Two', 'Two', 'Two', 'Three', 'Three', 'Four']\n",
    "ind2 = [100, 101, 102, 103, 100, 101, 102, 100, 101, 100]\n",
    "\n",
    "df = pd.DataFrame(np.random.randn(10,10), columns=col, index=[ind1, ind2])\n",
    "df.index.name = 'DATE'\n",
    "df"
   ]
  }
 ],
 "metadata": {
  "kernelspec": {
   "display_name": "Python 3",
   "language": "python",
   "name": "python3"
  },
  "language_info": {
   "codemirror_mode": {
    "name": "ipython",
    "version": 3
   },
   "file_extension": ".py",
   "mimetype": "text/x-python",
   "name": "python",
   "nbconvert_exporter": "python",
   "pygments_lexer": "ipython3",
   "version": "3.6.5"
  }
 },
 "nbformat": 4,
 "nbformat_minor": 2
}
